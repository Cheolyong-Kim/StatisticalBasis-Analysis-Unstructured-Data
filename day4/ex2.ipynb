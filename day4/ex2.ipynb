{
 "cells": [
  {
   "cell_type": "code",
   "execution_count": 1,
   "id": "db8f5a3c",
   "metadata": {},
   "outputs": [],
   "source": [
    "data1 = '안녕 나는 오늘 힘들어'.split()\n",
    "data2 = '안녕 못해 나는 지금 너무 힘들어'.split()"
   ]
  },
  {
   "cell_type": "code",
   "execution_count": 3,
   "id": "3ff8ce0d",
   "metadata": {},
   "outputs": [
    {
     "data": {
      "text/plain": [
       "{'나는', '너무', '못해', '안녕', '오늘', '지금', '힘들어'}"
      ]
     },
     "execution_count": 3,
     "metadata": {},
     "output_type": "execute_result"
    }
   ],
   "source": [
    "un = set(data1) | set(data2)\n",
    "un"
   ]
  },
  {
   "cell_type": "code",
   "execution_count": 4,
   "id": "023cb77b",
   "metadata": {},
   "outputs": [
    {
     "data": {
      "text/plain": [
       "{'나는', '안녕', '힘들어'}"
      ]
     },
     "execution_count": 4,
     "metadata": {},
     "output_type": "execute_result"
    }
   ],
   "source": [
    "intd = set(data1) & set(data2)\n",
    "intd"
   ]
  },
  {
   "cell_type": "code",
   "execution_count": 5,
   "id": "490c39e1",
   "metadata": {},
   "outputs": [
    {
     "data": {
      "text/plain": [
       "0.42857142857142855"
      ]
     },
     "execution_count": 5,
     "metadata": {},
     "output_type": "execute_result"
    }
   ],
   "source": [
    "j = len(intd) / len(un)\n",
    "j"
   ]
  },
  {
   "cell_type": "code",
   "execution_count": 8,
   "id": "6ef07a53",
   "metadata": {},
   "outputs": [],
   "source": [
    "data1 = '안녕 나는 오늘 힘들어.'\n",
    "data2 = '안녕 못해 나는 지금 너무 힘들어'"
   ]
  },
  {
   "cell_type": "code",
   "execution_count": 12,
   "id": "fdc013e4",
   "metadata": {},
   "outputs": [
    {
     "data": {
      "text/plain": [
       "array([[0.44832087, 0.        , 0.        , 0.44832087, 0.63009934,\n",
       "        0.        , 0.44832087],\n",
       "       [0.33471228, 0.47042643, 0.47042643, 0.33471228, 0.        ,\n",
       "        0.47042643, 0.33471228]])"
      ]
     },
     "execution_count": 12,
     "metadata": {},
     "output_type": "execute_result"
    }
   ],
   "source": [
    "from sklearn.feature_extraction.text import TfidfVectorizer\n",
    "\n",
    "t_v = TfidfVectorizer()\n",
    "m_data = t_v.fit_transform([data1, data2])\n",
    "m_data.toarray()"
   ]
  },
  {
   "cell_type": "code",
   "execution_count": 14,
   "id": "2484ec80",
   "metadata": {},
   "outputs": [
    {
     "data": {
      "text/plain": [
       "{'안녕': 3, '나는': 0, '오늘': 4, '힘들어': 6, '못해': 2, '지금': 5, '너무': 1}"
      ]
     },
     "execution_count": 14,
     "metadata": {},
     "output_type": "execute_result"
    }
   ],
   "source": [
    "t_v.vocabulary_"
   ]
  },
  {
   "cell_type": "code",
   "execution_count": 15,
   "id": "717b7315",
   "metadata": {},
   "outputs": [
    {
     "data": {
      "text/plain": [
       "array([1.        , 1.40546511, 1.40546511, 1.        , 1.40546511,\n",
       "       1.40546511, 1.        ])"
      ]
     },
     "execution_count": 15,
     "metadata": {},
     "output_type": "execute_result"
    }
   ],
   "source": [
    "idf = t_v.idf_\n",
    "idf"
   ]
  },
  {
   "cell_type": "code",
   "execution_count": 18,
   "id": "42efc005",
   "metadata": {},
   "outputs": [
    {
     "data": {
      "text/plain": [
       "array([0.33333333, 0.5       , 0.        ])"
      ]
     },
     "execution_count": 18,
     "metadata": {},
     "output_type": "execute_result"
    }
   ],
   "source": [
    "from sklearn.metrics import jaccard_score  # 입력이 0과 1사이의 값이어야 함.\n",
    "import numpy as np\n",
    "jaccard_score(np.array([0, 1, 0, 0]), np.array([0, 1, 1, 2]), average = None)"
   ]
  },
  {
   "cell_type": "code",
   "execution_count": 19,
   "id": "5edd6b18",
   "metadata": {},
   "outputs": [],
   "source": [
    "def f(A, B):\n",
    "    return np.sqrt(np.sum((A - B) ** 2))"
   ]
  },
  {
   "cell_type": "code",
   "execution_count": 21,
   "id": "48699649",
   "metadata": {},
   "outputs": [
    {
     "data": {
      "text/plain": [
       "2.23606797749979"
      ]
     },
     "execution_count": 21,
     "metadata": {},
     "output_type": "execute_result"
    }
   ],
   "source": [
    "A = np.array([0, 1, 2, 3, 4])\n",
    "B = np.array([1, 0, 1, 2, 3])\n",
    "f(A, B)"
   ]
  },
  {
   "cell_type": "code",
   "execution_count": 22,
   "id": "b758d974",
   "metadata": {},
   "outputs": [
    {
     "data": {
      "text/plain": [
       "array([[1.0486415]])"
      ]
     },
     "execution_count": 22,
     "metadata": {},
     "output_type": "execute_result"
    }
   ],
   "source": [
    "from sklearn.metrics import euclidean_distances\n",
    "euclidean_distances(m_data[0:1], m_data[1:2])"
   ]
  },
  {
   "cell_type": "code",
   "execution_count": 26,
   "id": "fe1f02d6",
   "metadata": {},
   "outputs": [
    {
     "data": {
      "text/plain": [
       "array([[0.10211209, 0.        , 0.        , 0.10211209, 0.14351497,\n",
       "        0.        , 0.10211209],\n",
       "       [0.07623595, 0.10714697, 0.10714697, 0.07623595, 0.        ,\n",
       "        0.10714697, 0.07623595]])"
      ]
     },
     "execution_count": 26,
     "metadata": {},
     "output_type": "execute_result"
    }
   ],
   "source": [
    "def e_f(m):\n",
    "    return m / np.sum(m)\n",
    "\n",
    "e_data = e_f(m_data)\n",
    "e_f(m_data).toarray()"
   ]
  },
  {
   "cell_type": "code",
   "execution_count": 27,
   "id": "bf5e23bc",
   "metadata": {},
   "outputs": [
    {
     "data": {
      "text/plain": [
       "array([[0.23884449]])"
      ]
     },
     "execution_count": 27,
     "metadata": {},
     "output_type": "execute_result"
    }
   ],
   "source": [
    "euclidean_distances(e_data[0:1], e_data[1:2])"
   ]
  },
  {
   "cell_type": "code",
   "execution_count": 28,
   "id": "f07689ee",
   "metadata": {},
   "outputs": [],
   "source": [
    "def f(A, B):\n",
    "    return np.sum(abs(A - B))"
   ]
  },
  {
   "cell_type": "code",
   "execution_count": 29,
   "id": "e30412ad",
   "metadata": {},
   "outputs": [
    {
     "data": {
      "text/plain": [
       "5"
      ]
     },
     "execution_count": 29,
     "metadata": {},
     "output_type": "execute_result"
    }
   ],
   "source": [
    "f(A, B)  # 거리이기 때문에 값이 클수록 유사도가 떨어짐"
   ]
  },
  {
   "cell_type": "code",
   "execution_count": 32,
   "id": "ee78e797",
   "metadata": {},
   "outputs": [
    {
     "data": {
      "text/plain": [
       "(array([[1.0486415]]), array([[2.38220441]]))"
      ]
     },
     "execution_count": 32,
     "metadata": {},
     "output_type": "execute_result"
    }
   ],
   "source": [
    "from sklearn.metrics.pairwise import manhattan_distances\n",
    "euclidean_distances(m_data[0:1], m_data[1:2]), manhattan_distances(m_data[0:1], m_data[1:2])"
   ]
  },
  {
   "cell_type": "code",
   "execution_count": 33,
   "id": "eb03bec8",
   "metadata": {},
   "outputs": [
    {
     "data": {
      "text/plain": [
       "(array([[0.23884449]]), array([[0.54258429]]))"
      ]
     },
     "execution_count": 33,
     "metadata": {},
     "output_type": "execute_result"
    }
   ],
   "source": [
    "euclidean_distances(e_data[0:1], e_data[1:2]), manhattan_distances(e_data[0:1], e_data[1:2])"
   ]
  },
  {
   "cell_type": "code",
   "execution_count": 38,
   "id": "33f8bea8",
   "metadata": {},
   "outputs": [],
   "source": [
    "data3 = '나는 너무 즐거워 '\n",
    "m_data2 = t_v.fit_transform([data1, data2, data3])\n",
    "e_data2 = e_f(m_data2)"
   ]
  },
  {
   "cell_type": "code",
   "execution_count": 39,
   "id": "d8028721",
   "metadata": {},
   "outputs": [
    {
     "data": {
      "text/plain": [
       "(array([[1.02891385]]), array([[1.15714912]]))"
      ]
     },
     "execution_count": 39,
     "metadata": {},
     "output_type": "execute_result"
    }
   ],
   "source": [
    "euclidean_distances(m_data2[0:1], m_data2[1:2]), euclidean_distances(m_data2[1:2], m_data2[2:3])"
   ]
  },
  {
   "cell_type": "code",
   "execution_count": 40,
   "id": "b243e2c7",
   "metadata": {},
   "outputs": [
    {
     "data": {
      "text/plain": [
       "(array([[0.16949987]]), array([[0.19062493]]))"
      ]
     },
     "execution_count": 40,
     "metadata": {},
     "output_type": "execute_result"
    }
   ],
   "source": [
    "euclidean_distances(e_data2[0:1], e_data2[1:2]), euclidean_distances(e_data2[1:2], e_data2[2:3])"
   ]
  },
  {
   "cell_type": "code",
   "execution_count": 42,
   "id": "c90fd1a0",
   "metadata": {},
   "outputs": [
    {
     "data": {
      "text/plain": [
       "(array([[2.28685493]]), array([[2.76734191]]))"
      ]
     },
     "execution_count": 42,
     "metadata": {},
     "output_type": "execute_result"
    }
   ],
   "source": [
    " manhattan_distances(m_data2[0:1], m_data2[1:2]),  manhattan_distances(m_data2[1:2], m_data2[2:3])"
   ]
  },
  {
   "cell_type": "code",
   "execution_count": 43,
   "id": "e4c0326f",
   "metadata": {},
   "outputs": [
    {
     "data": {
      "text/plain": [
       "(array([[0.37672893]]), array([[0.45588277]]))"
      ]
     },
     "execution_count": 43,
     "metadata": {},
     "output_type": "execute_result"
    }
   ],
   "source": [
    " manhattan_distances(e_data2[0:1], e_data2[1:2]),  manhattan_distances(e_data2[1:2], e_data2[2:3])"
   ]
  },
  {
   "cell_type": "code",
   "execution_count": null,
   "id": "edc6481c",
   "metadata": {},
   "outputs": [],
   "source": []
  }
 ],
 "metadata": {
  "kernelspec": {
   "display_name": "Python 3 (ipykernel)",
   "language": "python",
   "name": "python3"
  },
  "language_info": {
   "codemirror_mode": {
    "name": "ipython",
    "version": 3
   },
   "file_extension": ".py",
   "mimetype": "text/x-python",
   "name": "python",
   "nbconvert_exporter": "python",
   "pygments_lexer": "ipython3",
   "version": "3.9.7"
  }
 },
 "nbformat": 4,
 "nbformat_minor": 5
}
