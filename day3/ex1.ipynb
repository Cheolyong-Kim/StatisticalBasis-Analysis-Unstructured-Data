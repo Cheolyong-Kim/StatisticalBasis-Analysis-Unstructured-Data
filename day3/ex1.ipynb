{
 "cells": [
  {
   "cell_type": "code",
   "execution_count": 11,
   "id": "1ce85879",
   "metadata": {},
   "outputs": [
    {
     "data": {
      "text/plain": [
       "([('I', 'am'), ('am', 'a'), ('a', 'boy')],\n",
       " [('I', 'am', 'a'), ('am', 'a', 'boy')])"
      ]
     },
     "execution_count": 11,
     "metadata": {},
     "output_type": "execute_result"
    }
   ],
   "source": [
    "from nltk import bigrams, word_tokenize\n",
    "from nltk.util import ngrams\n",
    "\n",
    "t = 'I am a boy'\n",
    "tk = word_tokenize(t)\n",
    "bg = bigrams(tk)\n",
    "ng = ngrams(tk, 3)\n",
    "list(bg), list(ng)"
   ]
  },
  {
   "cell_type": "markdown",
   "id": "c119b6d7",
   "metadata": {},
   "source": [
    "SS<문장>SE"
   ]
  },
  {
   "cell_type": "code",
   "execution_count": 14,
   "id": "600d7c70",
   "metadata": {},
   "outputs": [
    {
     "data": {
      "text/plain": [
       "[('SS', 'I'), ('I', 'am'), ('am', 'a'), ('a', 'boy'), ('boy', 'SE')]"
      ]
     },
     "execution_count": 14,
     "metadata": {},
     "output_type": "execute_result"
    }
   ],
   "source": [
    "data2 = ngrams(tk, 2, pad_left = True, pad_right = True, left_pad_symbol = 'SS', right_pad_symbol = 'SE')\n",
    "list(data2)"
   ]
  },
  {
   "cell_type": "code",
   "execution_count": 15,
   "id": "6548cdc3",
   "metadata": {},
   "outputs": [],
   "source": [
    "from nltk import ConditionalFreqDist\n",
    "\n",
    "t = 'I am a boy'\n",
    "tk = word_tokenize(t)\n",
    "ng2 = ngrams(tk, 2, pad_left = True, pad_right = True, left_pad_symbol = 'SS', right_pad_symbol = 'SE')\n",
    "fd = ConditionalFreqDist([(i[0], i[1]) for i in ng2])"
   ]
  },
  {
   "cell_type": "code",
   "execution_count": 16,
   "id": "34e87b6a",
   "metadata": {},
   "outputs": [
    {
     "data": {
      "text/plain": [
       "['SS', 'I', 'am', 'a', 'boy']"
      ]
     },
     "execution_count": 16,
     "metadata": {},
     "output_type": "execute_result"
    }
   ],
   "source": [
    "fd.conditions()  # 정답 접근 정보"
   ]
  },
  {
   "cell_type": "code",
   "execution_count": 17,
   "id": "29105443",
   "metadata": {},
   "outputs": [
    {
     "data": {
      "text/plain": [
       "FreqDist({'I': 1})"
      ]
     },
     "execution_count": 17,
     "metadata": {},
     "output_type": "execute_result"
    }
   ],
   "source": [
    "fd['SS']"
   ]
  },
  {
   "cell_type": "code",
   "execution_count": 18,
   "id": "8a719cb8",
   "metadata": {},
   "outputs": [
    {
     "name": "stderr",
     "output_type": "stream",
     "text": [
      "[nltk_data] Downloading package movie_reviews to\n",
      "[nltk_data]     C:\\Users\\김철용\\AppData\\Roaming\\nltk_data...\n",
      "[nltk_data]   Unzipping corpora\\movie_reviews.zip.\n"
     ]
    },
    {
     "data": {
      "text/plain": [
       "True"
      ]
     },
     "execution_count": 18,
     "metadata": {},
     "output_type": "execute_result"
    }
   ],
   "source": [
    "import nltk\n",
    "nltk.download('movie_reviews')"
   ]
  },
  {
   "cell_type": "code",
   "execution_count": 19,
   "id": "bfe1c7dd",
   "metadata": {},
   "outputs": [
    {
     "name": "stderr",
     "output_type": "stream",
     "text": [
      "[nltk_data] Downloading package punkt to\n",
      "[nltk_data]     C:\\Users\\김철용\\AppData\\Roaming\\nltk_data...\n",
      "[nltk_data]   Package punkt is already up-to-date!\n"
     ]
    },
    {
     "data": {
      "text/plain": [
       "True"
      ]
     },
     "execution_count": 19,
     "metadata": {},
     "output_type": "execute_result"
    }
   ],
   "source": [
    "nltk.download('punkt')"
   ]
  },
  {
   "cell_type": "code",
   "execution_count": 22,
   "id": "f7bf35b4",
   "metadata": {},
   "outputs": [],
   "source": [
    "from nltk.corpus import movie_reviews\n",
    "\n",
    "data_l = []\n",
    "for i in movie_reviews.sents():\n",
    "    bg2 = ngrams(i, 2, pad_left = True, pad_right = True, left_pad_symbol = 'SS', right_pad_symbol = 'SE')\n",
    "    data_l += [t for t in bg2]\n",
    "    \n",
    "cfd = ConditionalFreqDist(data_l)"
   ]
  },
  {
   "cell_type": "code",
   "execution_count": 24,
   "id": "6d47b0e3",
   "metadata": {},
   "outputs": [
    {
     "data": {
      "text/plain": [
       "[('the', 8071),\n",
       " ('.', 3173),\n",
       " ('it', 3136),\n",
       " ('i', 2471),\n",
       " ('but', 1814),\n",
       " ('and', 1735),\n",
       " ('he', 1672),\n",
       " ('in', 1659),\n",
       " ('this', 1651),\n",
       " ('there', 1298)]"
      ]
     },
     "execution_count": 24,
     "metadata": {},
     "output_type": "execute_result"
    }
   ],
   "source": [
    "cfd['SS'].most_common(10)"
   ]
  },
  {
   "cell_type": "code",
   "execution_count": 25,
   "id": "a272e714",
   "metadata": {},
   "outputs": [
    {
     "data": {
      "text/plain": [
       "[('film', 4542),\n",
       " ('movie', 2147),\n",
       " ('story', 985),\n",
       " ('most', 945),\n",
       " ('first', 902),\n",
       " ('same', 774),\n",
       " ('only', 665),\n",
       " ('end', 664),\n",
       " ('best', 642),\n",
       " ('audience', 620)]"
      ]
     },
     "execution_count": 25,
     "metadata": {},
     "output_type": "execute_result"
    }
   ],
   "source": [
    "cfd['the'].most_common(10)"
   ]
  },
  {
   "cell_type": "code",
   "execution_count": 26,
   "id": "df239bbf",
   "metadata": {},
   "outputs": [
    {
     "data": {
      "text/plain": [
       "[('.', 802),\n",
       " (',', 659),\n",
       " ('is', 469),\n",
       " (\"'\", 234),\n",
       " ('that', 210),\n",
       " ('was', 123),\n",
       " ('and', 105),\n",
       " ('with', 87),\n",
       " ('to', 72),\n",
       " ('has', 69)]"
      ]
     },
     "execution_count": 26,
     "metadata": {},
     "output_type": "execute_result"
    }
   ],
   "source": [
    "cfd['movie'].most_common(10)"
   ]
  },
  {
   "cell_type": "code",
   "execution_count": 27,
   "id": "3f72ae5e",
   "metadata": {},
   "outputs": [
    {
     "data": {
      "text/plain": [
       "[('SE', 63404), ('\"', 1854), (')', 535), (\"'\", 70), (']', 10), (\"''\", 3)]"
      ]
     },
     "execution_count": 27,
     "metadata": {},
     "output_type": "execute_result"
    }
   ],
   "source": [
    "cfd['.'].most_common(10)"
   ]
  },
  {
   "cell_type": "code",
   "execution_count": 29,
   "id": "38247dc9",
   "metadata": {},
   "outputs": [],
   "source": [
    "from nltk.probability import ConditionalProbDist, MLEProbDist"
   ]
  },
  {
   "cell_type": "code",
   "execution_count": 31,
   "id": "f9e3065e",
   "metadata": {},
   "outputs": [],
   "source": [
    "cpd = ConditionalProbDist(cfd, MLEProbDist)"
   ]
  },
  {
   "cell_type": "code",
   "execution_count": 33,
   "id": "bc5a290c",
   "metadata": {},
   "outputs": [
    {
     "data": {
      "text/plain": [
       "0.0280547243528597"
      ]
     },
     "execution_count": 33,
     "metadata": {},
     "output_type": "execute_result"
    }
   ],
   "source": [
    "cpd['the'].prob('movie')"
   ]
  },
  {
   "cell_type": "code",
   "execution_count": 34,
   "id": "cd20dcd8",
   "metadata": {},
   "outputs": [
    {
     "data": {
      "text/plain": [
       "0.13897071564720154"
      ]
     },
     "execution_count": 34,
     "metadata": {},
     "output_type": "execute_result"
    }
   ],
   "source": [
    "cpd['movie'].prob('.')"
   ]
  },
  {
   "cell_type": "code",
   "execution_count": 35,
   "id": "d9932842",
   "metadata": {},
   "outputs": [
    {
     "data": {
      "text/plain": [
       "0.0"
      ]
     },
     "execution_count": 35,
     "metadata": {},
     "output_type": "execute_result"
    }
   ],
   "source": [
    "cpd['.'].prob('the')"
   ]
  },
  {
   "cell_type": "code",
   "execution_count": 38,
   "id": "4e17dd41",
   "metadata": {},
   "outputs": [],
   "source": [
    "import numpy as np\n",
    "\n",
    "def s_sc_f(x):  # 바이그램 언어 모형의 확률 연산 함수\n",
    "    p = 0.0\n",
    "    for i in range(len(x) - 1):\n",
    "        c = x[i]  # 직전 단어\n",
    "        w = x[i + 1]  # 이후 단어\n",
    "        p += np.log(cpd[c].prob(w) + np.finfo(float).eps)\n",
    "    return np.exp(p)"
   ]
  },
  {
   "cell_type": "code",
   "execution_count": 39,
   "id": "be6e8846",
   "metadata": {},
   "outputs": [
    {
     "data": {
      "text/plain": [
       "0.003898785120601922"
      ]
     },
     "execution_count": 39,
     "metadata": {},
     "output_type": "execute_result"
    }
   ],
   "source": [
    "test_data = ['the', 'movie', '.']  # 실현 가능 문장\n",
    "s_sc_f(test_data)"
   ]
  },
  {
   "cell_type": "code",
   "execution_count": 40,
   "id": "213804ca",
   "metadata": {},
   "outputs": [
    {
     "data": {
      "text/plain": [
       "3.085769765203191e-17"
      ]
     },
     "execution_count": 40,
     "metadata": {},
     "output_type": "execute_result"
    }
   ],
   "source": [
    "test_data2 = ['movie', '.', 'the']  # 실현 불가능 문장\n",
    "s_sc_f(test_data2)"
   ]
  },
  {
   "cell_type": "code",
   "execution_count": 48,
   "id": "583557f1",
   "metadata": {},
   "outputs": [
    {
     "data": {
      "text/plain": [
       "'she'"
      ]
     },
     "execution_count": 48,
     "metadata": {},
     "output_type": "execute_result"
    }
   ],
   "source": [
    "import random\n",
    "random.seed(10)  # 시드값 조정하면 텍스트 생성 결과가 고정됨\n",
    "cpd['SS'].generate()  # 임의의 텍스트 생성"
   ]
  },
  {
   "cell_type": "code",
   "execution_count": 49,
   "id": "892c11a5",
   "metadata": {},
   "outputs": [
    {
     "data": {
      "text/plain": [
       "'and'"
      ]
     },
     "execution_count": 49,
     "metadata": {},
     "output_type": "execute_result"
    }
   ],
   "source": [
    "cpd['she'].generate()"
   ]
  },
  {
   "cell_type": "code",
   "execution_count": 50,
   "id": "95b7d592",
   "metadata": {},
   "outputs": [
    {
     "data": {
      "text/plain": [
       "'fine'"
      ]
     },
     "execution_count": 50,
     "metadata": {},
     "output_type": "execute_result"
    }
   ],
   "source": [
    "cpd['and'].generate()"
   ]
  },
  {
   "cell_type": "code",
   "execution_count": 51,
   "id": "616fe843",
   "metadata": {},
   "outputs": [
    {
     "data": {
      "text/plain": [
       "'effect'"
      ]
     },
     "execution_count": 51,
     "metadata": {},
     "output_type": "execute_result"
    }
   ],
   "source": [
    "cpd['fine'].generate()"
   ]
  },
  {
   "cell_type": "code",
   "execution_count": 52,
   "id": "e10615d3",
   "metadata": {},
   "outputs": [
    {
     "data": {
      "text/plain": [
       "';'"
      ]
     },
     "execution_count": 52,
     "metadata": {},
     "output_type": "execute_result"
    }
   ],
   "source": [
    "cpd['effect'].generate()"
   ]
  },
  {
   "cell_type": "code",
   "execution_count": 58,
   "id": "ff005ceb",
   "metadata": {},
   "outputs": [
    {
     "data": {
      "text/plain": [
       "\"she wasn ' s first part of these guys catch a hard 2 is . \""
      ]
     },
     "execution_count": 58,
     "metadata": {},
     "output_type": "execute_result"
    }
   ],
   "source": [
    "st = 'SS'\n",
    "all_str = []\n",
    "while True:\n",
    "    random.seed(10)\n",
    "    st = cpd[st].generate()\n",
    "    all_str.append(st + ' ')\n",
    "    if st == 'SE':\n",
    "        all_str.pop()\n",
    "        break\n",
    "    \n",
    "''.join(all_str)"
   ]
  },
  {
   "cell_type": "markdown",
   "id": "53e85c3f",
   "metadata": {},
   "source": [
    "---"
   ]
  },
  {
   "cell_type": "code",
   "execution_count": null,
   "id": "811d6ee9",
   "metadata": {},
   "outputs": [],
   "source": [
    "from nltk.util import ngrams\n",
    "from nltk import ConditionalFreqDist  # 문맥별 단어 빈도수 측정 클래스\n",
    "from nltk.probability import ConditionalProbDist  # 조건부 확률 추정 클래스\n",
    "from nltk.probability import MLEProbDist  # 최대 우도 추정값 클래스"
   ]
  },
  {
   "cell_type": "markdown",
   "id": "9a81aca9",
   "metadata": {},
   "source": [
    "### 1. 데이터 수집"
   ]
  },
  {
   "cell_type": "code",
   "execution_count": 60,
   "id": "ab207ab1",
   "metadata": {},
   "outputs": [],
   "source": [
    "from nltk.corpus import movie_reviews\n",
    "\n",
    "data = movie_reviews.sents()"
   ]
  },
  {
   "cell_type": "markdown",
   "id": "bc067624",
   "metadata": {},
   "source": [
    "### 2. 데이터 전처리"
   ]
  },
  {
   "cell_type": "code",
   "execution_count": null,
   "id": "1048d078",
   "metadata": {},
   "outputs": [],
   "source": [
    "data_l = []\n",
    "for i in data:\n",
    "    bg = ngrams(i, 2, pad_left = True, pad_right = True, left_pad_symbol = 'SS', right_pad_symbol = 'SE')\n",
    "    data_l += [t for t in bg]"
   ]
  },
  {
   "cell_type": "markdown",
   "id": "128073a3",
   "metadata": {},
   "source": [
    "### 3. 모델 학습"
   ]
  },
  {
   "cell_type": "code",
   "execution_count": null,
   "id": "aafe9e5f",
   "metadata": {},
   "outputs": [],
   "source": [
    "cfd = ConditionalFreqDist(data_l)\n",
    "cpd = ConditionalProbDist(cfd, MLEProbDist)"
   ]
  },
  {
   "cell_type": "markdown",
   "id": "86038d38",
   "metadata": {},
   "source": [
    "### 4. 검증(생략)"
   ]
  },
  {
   "cell_type": "markdown",
   "id": "cdc5f785",
   "metadata": {},
   "source": [
    "### 5. 동작"
   ]
  },
  {
   "cell_type": "code",
   "execution_count": 61,
   "id": "0fc64a1b",
   "metadata": {},
   "outputs": [
    {
     "data": {
      "text/plain": [
       "\"she wasn ' s first part of these guys catch a hard 2 is . \""
      ]
     },
     "execution_count": 61,
     "metadata": {},
     "output_type": "execute_result"
    }
   ],
   "source": [
    "st = 'SS'\n",
    "all_str = []\n",
    "while True:\n",
    "    random.seed(10)\n",
    "    st = cpd[st].generate()\n",
    "    all_str.append(st + ' ')\n",
    "    if st == 'SE':\n",
    "        all_str.pop()\n",
    "        break\n",
    "    \n",
    "''.join(all_str)"
   ]
  },
  {
   "cell_type": "code",
   "execution_count": null,
   "id": "ec459cdc",
   "metadata": {},
   "outputs": [],
   "source": []
  }
 ],
 "metadata": {
  "kernelspec": {
   "display_name": "Python 3 (ipykernel)",
   "language": "python",
   "name": "python3"
  },
  "language_info": {
   "codemirror_mode": {
    "name": "ipython",
    "version": 3
   },
   "file_extension": ".py",
   "mimetype": "text/x-python",
   "name": "python",
   "nbconvert_exporter": "python",
   "pygments_lexer": "ipython3",
   "version": "3.9.7"
  }
 },
 "nbformat": 4,
 "nbformat_minor": 5
}
