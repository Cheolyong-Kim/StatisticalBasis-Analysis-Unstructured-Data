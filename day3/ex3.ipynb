{
 "cells": [
  {
   "cell_type": "markdown",
   "id": "07f9a2c4",
   "metadata": {},
   "source": [
    "### Bag of Words => 단어들의 빈도수 (문장 기준)"
   ]
  },
  {
   "cell_type": "code",
   "execution_count": 1,
   "id": "0026e5da",
   "metadata": {},
   "outputs": [],
   "source": [
    "t = '안녕 나는 강사야 너는 잘 듣고 있니?'"
   ]
  },
  {
   "cell_type": "code",
   "execution_count": 2,
   "id": "b45e3989",
   "metadata": {},
   "outputs": [],
   "source": [
    "from konlpy.tag import Okt\n",
    "\n",
    "tk = Okt()"
   ]
  },
  {
   "cell_type": "code",
   "execution_count": 3,
   "id": "460aefd4",
   "metadata": {},
   "outputs": [],
   "source": [
    "def f(t):  # 문장 처리 함수\n",
    "    t = t.replace('?', '')\n",
    "    tk_data = tk.morphs(t)\n",
    "    \n",
    "    idx = {}\n",
    "    d_l = []\n",
    "    for i in tk_data:\n",
    "        if i not in idx.keys():\n",
    "            idx[i] = len(idx)\n",
    "            d_l.insert(len(idx) - 1, 1)\n",
    "        else:\n",
    "            ix = idx.get(i)\n",
    "            d_l[ix] += 1\n",
    "    return idx, d_l"
   ]
  },
  {
   "cell_type": "code",
   "execution_count": 4,
   "id": "f5077d57",
   "metadata": {},
   "outputs": [
    {
     "data": {
      "text/plain": [
       "({'안녕': 0, '나': 1, '는': 2, '강사': 3, '야': 4, '너': 5, '잘': 6, '듣고': 7, '있니': 8},\n",
       " [1, 1, 2, 1, 1, 1, 1, 1, 1])"
      ]
     },
     "execution_count": 4,
     "metadata": {},
     "output_type": "execute_result"
    }
   ],
   "source": [
    "f(t)"
   ]
  },
  {
   "cell_type": "code",
   "execution_count": 9,
   "id": "bdb6f9e7",
   "metadata": {},
   "outputs": [
    {
     "data": {
      "text/plain": [
       "array([[1, 1, 1, 1, 1, 1]], dtype=int64)"
      ]
     },
     "execution_count": 9,
     "metadata": {},
     "output_type": "execute_result"
    }
   ],
   "source": [
    "from sklearn.feature_extraction.text import CountVectorizer\n",
    "\n",
    "tr_t = t.replace('?', '')\n",
    "# tr_t = tk.morphs(tr_t)\n",
    "v = CountVectorizer()\n",
    "v.fit_transform([tr_t]).toarray()"
   ]
  },
  {
   "cell_type": "code",
   "execution_count": 10,
   "id": "b8004445",
   "metadata": {},
   "outputs": [
    {
     "data": {
      "text/plain": [
       "{'안녕': 4, '나는': 1, '강사야': 0, '너는': 2, '듣고': 3, '있니': 5}"
      ]
     },
     "execution_count": 10,
     "metadata": {},
     "output_type": "execute_result"
    }
   ],
   "source": [
    "v.vocabulary_"
   ]
  },
  {
   "cell_type": "code",
   "execution_count": 11,
   "id": "9bfab987",
   "metadata": {},
   "outputs": [],
   "source": [
    "sentences = ['안녕 나는 강사', '나는 학생', '나는 공부 중', '나는 노는 중', '나는 자는 중']"
   ]
  },
  {
   "cell_type": "code",
   "execution_count": 12,
   "id": "dcd04004",
   "metadata": {},
   "outputs": [
    {
     "data": {
      "text/plain": [
       "array([[0, 1, 0, 0, 1, 0],\n",
       "       [0, 1, 0, 0, 0, 0],\n",
       "       [0, 1, 0, 0, 0, 0],\n",
       "       [0, 1, 0, 0, 0, 0],\n",
       "       [0, 1, 0, 0, 0, 0]], dtype=int64)"
      ]
     },
     "execution_count": 12,
     "metadata": {},
     "output_type": "execute_result"
    }
   ],
   "source": [
    "v.transform(sentences).toarray()"
   ]
  },
  {
   "cell_type": "code",
   "execution_count": 13,
   "id": "c6521e42",
   "metadata": {},
   "outputs": [
    {
     "data": {
      "text/plain": [
       "array([[1, 0, 0, 1, 0, 0],\n",
       "       [0, 0, 0, 0, 0, 1],\n",
       "       [0, 1, 0, 0, 0, 0],\n",
       "       [0, 0, 1, 0, 0, 0],\n",
       "       [0, 0, 0, 0, 1, 0]], dtype=int64)"
      ]
     },
     "execution_count": 13,
     "metadata": {},
     "output_type": "execute_result"
    }
   ],
   "source": [
    "v2 = CountVectorizer(stop_words = ['나는'])\n",
    "v2.fit_transform(sentences).toarray()"
   ]
  },
  {
   "cell_type": "code",
   "execution_count": 14,
   "id": "6cf80a59",
   "metadata": {},
   "outputs": [
    {
     "data": {
      "text/plain": [
       "{'안녕': 3, '강사': 0, '학생': 5, '공부': 1, '노는': 2, '자는': 4}"
      ]
     },
     "execution_count": 14,
     "metadata": {},
     "output_type": "execute_result"
    }
   ],
   "source": [
    "v2.vocabulary_"
   ]
  },
  {
   "cell_type": "code",
   "execution_count": 16,
   "id": "89b8c389",
   "metadata": {},
   "outputs": [
    {
     "data": {
      "text/plain": [
       "['안녕',\n",
       " '나',\n",
       " '는',\n",
       " '강사',\n",
       " '나',\n",
       " '는',\n",
       " '학생',\n",
       " '나',\n",
       " '는',\n",
       " '공부',\n",
       " '중',\n",
       " '나',\n",
       " '는',\n",
       " '노',\n",
       " '는',\n",
       " '중',\n",
       " '나',\n",
       " '는',\n",
       " '자는',\n",
       " '중']"
      ]
     },
     "execution_count": 16,
     "metadata": {},
     "output_type": "execute_result"
    }
   ],
   "source": [
    "t_l = []\n",
    "for sentence in sentences:\n",
    "    t_l += tk.morphs(sentence)\n",
    "t_l"
   ]
  },
  {
   "cell_type": "code",
   "execution_count": 17,
   "id": "e97ca70b",
   "metadata": {},
   "outputs": [
    {
     "data": {
      "text/plain": [
       "CountVectorizer()"
      ]
     },
     "execution_count": 17,
     "metadata": {},
     "output_type": "execute_result"
    }
   ],
   "source": [
    "v3 = CountVectorizer()\n",
    "v3.fit(t_l)"
   ]
  },
  {
   "cell_type": "code",
   "execution_count": 18,
   "id": "055d9a7c",
   "metadata": {},
   "outputs": [
    {
     "data": {
      "text/plain": [
       "{'안녕': 2, '강사': 0, '학생': 4, '공부': 1, '자는': 3}"
      ]
     },
     "execution_count": 18,
     "metadata": {},
     "output_type": "execute_result"
    }
   ],
   "source": [
    "v3.vocabulary_"
   ]
  },
  {
   "cell_type": "code",
   "execution_count": 19,
   "id": "de323b89",
   "metadata": {},
   "outputs": [],
   "source": [
    "t2 = '나는 강사입니다. 그리고 나는 학생들과 함께 공부를 하고있습니다. 저기 자는 학생 일어나요!'"
   ]
  },
  {
   "cell_type": "code",
   "execution_count": 20,
   "id": "5f9007d6",
   "metadata": {},
   "outputs": [
    {
     "data": {
      "text/plain": [
       "array([[0, 0, 0, 1, 1]], dtype=int64)"
      ]
     },
     "execution_count": 20,
     "metadata": {},
     "output_type": "execute_result"
    }
   ],
   "source": [
    "v3.transform([t2]).toarray()"
   ]
  },
  {
   "cell_type": "code",
   "execution_count": 21,
   "id": "91cfaa46",
   "metadata": {},
   "outputs": [
    {
     "data": {
      "text/plain": [
       "array([[1, 0, 1, 0, 0],\n",
       "       [0, 0, 0, 0, 1],\n",
       "       [0, 1, 0, 0, 0],\n",
       "       [0, 0, 0, 0, 0],\n",
       "       [0, 0, 0, 1, 0]], dtype=int64)"
      ]
     },
     "execution_count": 21,
     "metadata": {},
     "output_type": "execute_result"
    }
   ],
   "source": [
    "v3.transform(sentences).toarray()"
   ]
  },
  {
   "cell_type": "code",
   "execution_count": null,
   "id": "a3d3eaf9",
   "metadata": {},
   "outputs": [],
   "source": []
  }
 ],
 "metadata": {
  "kernelspec": {
   "display_name": "Python 3 (ipykernel)",
   "language": "python",
   "name": "python3"
  },
  "language_info": {
   "codemirror_mode": {
    "name": "ipython",
    "version": 3
   },
   "file_extension": ".py",
   "mimetype": "text/x-python",
   "name": "python",
   "nbconvert_exporter": "python",
   "pygments_lexer": "ipython3",
   "version": "3.9.7"
  }
 },
 "nbformat": 4,
 "nbformat_minor": 5
}
