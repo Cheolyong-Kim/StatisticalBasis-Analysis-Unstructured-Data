{
 "cells": [
  {
   "cell_type": "code",
   "execution_count": 1,
   "id": "f1db3f14",
   "metadata": {},
   "outputs": [
    {
     "name": "stdout",
     "output_type": "stream",
     "text": [
      "Collecting gensim\n",
      "  Downloading gensim-4.2.0-cp39-cp39-win_amd64.whl (23.9 MB)\n",
      "Requirement already satisfied: scipy>=0.18.1 in c:\\anaconda3\\lib\\site-packages (from gensim) (1.7.1)\n",
      "Collecting smart-open>=1.8.1\n",
      "  Downloading smart_open-6.0.0-py3-none-any.whl (58 kB)\n",
      "Requirement already satisfied: numpy>=1.17.0 in c:\\anaconda3\\lib\\site-packages (from gensim) (1.19.5)\n",
      "Collecting Cython==0.29.28\n",
      "  Downloading Cython-0.29.28-py2.py3-none-any.whl (983 kB)\n",
      "Installing collected packages: smart-open, Cython, gensim\n",
      "  Attempting uninstall: Cython\n",
      "    Found existing installation: Cython 0.29.24\n",
      "    Uninstalling Cython-0.29.24:\n",
      "      Successfully uninstalled Cython-0.29.24\n",
      "Successfully installed Cython-0.29.28 gensim-4.2.0 smart-open-6.0.0\n"
     ]
    }
   ],
   "source": [
    "!pip install gensim"
   ]
  },
  {
   "cell_type": "code",
   "execution_count": 16,
   "id": "34b274f2",
   "metadata": {},
   "outputs": [],
   "source": [
    "from nltk.tokenize import sent_tokenize, word_tokenize\n",
    "import gensim\n",
    "from gensim.models import Word2Vec, FastText"
   ]
  },
  {
   "cell_type": "code",
   "execution_count": 6,
   "id": "1b985441",
   "metadata": {},
   "outputs": [
    {
     "data": {
      "text/plain": [
       "'Once upon a time in London, the darlings went out to a dinner party leaving their three children Wendy, Jhon, and Michael at home. After Wendy had tucked her younger brothers Jhon and Michael to bed, she went to read a book. She heard a boy sobbing outside her window. He was flying. There was little fairy fluttering around him. Wendy opened the window to talk to him.\\n\\n“Hello! Who are you? Why are you crying ”, wendy asked him. “My name is Peter Pan. my shadow wouldn’t stock to me.”, He replied. She asked him to come in. Peter agreed and came inside the room. Wendy took his shadow and sewed it to his shoe tips.\\n\\nNow his shadow followed him wherever Peter Pan went! He was delighted and asked Wendy “Why don’t you come with me to my home. The Neverland. I lived there with my fairy Tinker Bell.” Wendy ? “Oh! What a wonderful idea! Let me wake up John and Micheal too. Could you teach us how to fly?”. “Yes! Of course! Get them we will all fly together.” Peter Pan replied\\n\\nAnd so it was. Five little figures flew out of the window of the Darlings and headed towards Neverland. As they flew over the island, Peter pan told the children more about his homeland. “All the children who get lost come and stay with Tinker Bell and me,” Peter told them.\\n\\nThe Indians also live in Neverland. The mermaids live in the lagoon around the island. And a very mean pirate called Captain Hook keeps troubling everyone. “Crocodile bit his one arm. So the captain had to put a hook in its place. Since then he is afraid of crocodiles. And rightly so! If the crocodile ever found Captain Hook it will eat up the rest of it couldn’t eat last time.” Peter told them.\\n\\nSoon they landed on the island. And to the surprise of Wendy, Jhon and Michael, Peter Pan let them in through a small opening in a tree. Inside the tree was a large room with children inside it. Somewhere huddled by the fire in the corner and somewhere playing amongst themselves. Their faces lit up when they saw Peter Pan, Tinker Bell, and their guests.\\n\\n“Hello everyone. This is Wendy, Jhon, and Michael. They will be staying with us from now on.” Peter Pan introduced them to all children. Children welcomed Wendy, Jhon, and Michael.\\n\\nA few days passed. And they settled into a routine. Wendy would take care of all the children in the day and would go out with Peter Pan and her brothers in the evening to learn about the island. She would cook for them and stitch new clothes for them. He even made a lovely new dress for Tinker Bell.\\n\\nOne evening, as they were out exploring the island Peter Pan warned everyone and said, “Hide! Hide! Pirates! and they have kidnapped the Indian princess Tiger Lily. They have kept her there, tied up by the rocks, near the water.”\\n\\nPeter was afraid and the princess would drown, is she fell into the water. So, in a voice that sounded like Captain Hook, he shouted instructions to the pirates who guarded her, “You fools! Let her go at once! Do it before I come there or else I will throw each one of you into the water.”\\n\\nThe pirates got scared and immediately released the princes. She quickly dived into the water and swam to the safety of her home. Soon everyone found out how Peter Pan had rescued the Princess. When Captain Hook found out how Peter had tricked his men he was furious. And swore to have his revenge.\\n\\nThat night Wendy told Peter Pan, that she and her brother wanted to go back home since they missed their parents. She said if the lost children could also return to her world they could find a nice home for them.\\n\\nPeter Pan didn’t want to leave Neverland. But the sake of the lost children he agreed, although a bit sadly. He would miss his friends dearly.\\n\\nThe next morning all the lost children left with Wendy, Jhon, and Michael. But on the way, Captain Hook and his men kidnapped all of them. He tied them and kept them on once of his ships.\\n\\nAs soon as Peter found out about it he rushed to the ship. He swung himself from a tress branch and on to the deck of the ship where all the children were tied up.\\n\\nHe swung his sword bravely and threw over the pirates who tried to stop him. Quickly he released everyone from their captor’s ties. Wendy, Jhon, Michael and Tinker Bell helped all the children into the water, where their friends from the Indian camp were ready with smaller boats to take them to safety\\n\\nPeter Pan now went looking for Captain Hook. “Let us finished this forever Mr. Hook”, Peter challenged Captain Hook. “Yes! Peter Pan, you have caused me enough trouble. It is time that we finished this.”\\n\\nHook replied. With his sword drawn, he raced towards Peter Pan. Quick on his feet, Peter Pan stepped aside and pushed Hook inside the sea where the crocodile was waiting to eat the rest of Hook.\\n\\nEveryone rejoiced as Captain Hook was out of their lives forever. Everybody headed back to London. Mr. and Mrs. Darling was so happy to see their children and they agreed to adopt the lost children.\\n\\nThey even asked Peter Pan to come and live with them. But Peter Pan said, he never wanted to grow up, so he and Tinker Bell will go back to Neverland.\\n\\nPeter Pan promised everyone that he will visit again sometime! And he flew out of the window with Tinker Bell by his side.\\n'"
      ]
     },
     "execution_count": 6,
     "metadata": {},
     "output_type": "execute_result"
    }
   ],
   "source": [
    "s_data = open('data1.txt', 'r', encoding = 'utf-8').read()\n",
    "s_data"
   ]
  },
  {
   "cell_type": "code",
   "execution_count": 9,
   "id": "208bac4f",
   "metadata": {},
   "outputs": [],
   "source": [
    "s_data = s_data.replace('\\n', ' ')\n",
    "d_l = []\n",
    "for sentence in sent_tokenize(s_data):\n",
    "    s_l = []\n",
    "    for word in word_tokenize(sentence):\n",
    "        s_l.append(word.lower())\n",
    "    d_l.append(s_l)"
   ]
  },
  {
   "cell_type": "code",
   "execution_count": 11,
   "id": "22cf7b8b",
   "metadata": {},
   "outputs": [],
   "source": [
    "# Word2Vec(입력data, 단어 빈도수, 임배딩된 차원, 단어 개수, sg(0=CBOW, 1=skip_gram))\n",
    "w_m1 = Word2Vec(d_l, min_count = 1, vector_size = 100, window = 5, sg = 0)"
   ]
  },
  {
   "cell_type": "code",
   "execution_count": 12,
   "id": "7d16797c",
   "metadata": {},
   "outputs": [
    {
     "data": {
      "text/plain": [
       "0.074393846"
      ]
     },
     "execution_count": 12,
     "metadata": {},
     "output_type": "execute_result"
    }
   ],
   "source": [
    "w_m1.wv.similarity('peter', 'wendy')"
   ]
  },
  {
   "cell_type": "code",
   "execution_count": 14,
   "id": "8a0afc2b",
   "metadata": {},
   "outputs": [
    {
     "data": {
      "text/plain": [
       "0.027709894"
      ]
     },
     "execution_count": 14,
     "metadata": {},
     "output_type": "execute_result"
    }
   ],
   "source": [
    "w_m1.wv.similarity('peter', 'hook')"
   ]
  },
  {
   "cell_type": "code",
   "execution_count": 13,
   "id": "26685c7c",
   "metadata": {},
   "outputs": [],
   "source": [
    "w_m2 = Word2Vec(d_l, min_count = 1, vector_size = 100, window = 5, sg = 1)"
   ]
  },
  {
   "cell_type": "code",
   "execution_count": 15,
   "id": "79a4f6e6",
   "metadata": {},
   "outputs": [
    {
     "data": {
      "text/plain": [
       "(0.40088683, 0.52016735)"
      ]
     },
     "execution_count": 15,
     "metadata": {},
     "output_type": "execute_result"
    }
   ],
   "source": [
    "w_m2.wv.similarity('peter', 'wendy'), w_m2.wv.similarity('peter', 'hook')"
   ]
  },
  {
   "cell_type": "code",
   "execution_count": 17,
   "id": "398dc783",
   "metadata": {},
   "outputs": [],
   "source": [
    "from gensim.test.utils import common_texts\n",
    "\n",
    "m2 = FastText('data1.txt', vector_size = 4, window = 3, min_count = 1)"
   ]
  },
  {
   "cell_type": "code",
   "execution_count": 18,
   "id": "b04ec19e",
   "metadata": {},
   "outputs": [
    {
     "data": {
      "text/plain": [
       "0.45924556"
      ]
     },
     "execution_count": 18,
     "metadata": {},
     "output_type": "execute_result"
    }
   ],
   "source": [
    "m2.wv.similarity('peter', 'wendy')"
   ]
  },
  {
   "cell_type": "code",
   "execution_count": 19,
   "id": "51fd51e5",
   "metadata": {},
   "outputs": [
    {
     "data": {
      "text/plain": [
       "0.043825187"
      ]
     },
     "execution_count": 19,
     "metadata": {},
     "output_type": "execute_result"
    }
   ],
   "source": [
    "m2.wv.similarity('peter', 'hook')"
   ]
  },
  {
   "cell_type": "code",
   "execution_count": null,
   "id": "305203a3",
   "metadata": {},
   "outputs": [],
   "source": []
  }
 ],
 "metadata": {
  "kernelspec": {
   "display_name": "Python 3 (ipykernel)",
   "language": "python",
   "name": "python3"
  },
  "language_info": {
   "codemirror_mode": {
    "name": "ipython",
    "version": 3
   },
   "file_extension": ".py",
   "mimetype": "text/x-python",
   "name": "python",
   "nbconvert_exporter": "python",
   "pygments_lexer": "ipython3",
   "version": "3.9.7"
  }
 },
 "nbformat": 4,
 "nbformat_minor": 5
}
