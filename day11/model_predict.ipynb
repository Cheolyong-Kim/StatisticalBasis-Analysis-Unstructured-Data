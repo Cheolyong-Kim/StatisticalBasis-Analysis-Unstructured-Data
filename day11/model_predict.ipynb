{
 "cells": [
  {
   "cell_type": "code",
   "execution_count": 1,
   "id": "807cbab9",
   "metadata": {},
   "outputs": [],
   "source": [
    "import pickle\n",
    "from konlpy.tag import Okt\n",
    "from tensorflow.keras.preprocessing.sequence import pad_sequences\n",
    "from tensorflow.keras.models import load_model"
   ]
  },
  {
   "cell_type": "code",
   "execution_count": 2,
   "id": "c53974d4",
   "metadata": {},
   "outputs": [],
   "source": [
    "with open(\"preprocessed_data.pickle\", \"rb\") as fr:\n",
    "     preprocessed_data = pickle.load(fr)"
   ]
  },
  {
   "cell_type": "code",
   "execution_count": 3,
   "id": "a07e7292",
   "metadata": {},
   "outputs": [],
   "source": [
    "test_inputs = preprocessed_data['test_x']\n",
    "test_outputs = preprocessed_data['test_y']\n",
    "token = preprocessed_data['token']\n",
    "w_l = preprocessed_data['sentence_len']\n",
    "st = preprocessed_data['stop_words']\n",
    "tk = preprocessed_data['token']"
   ]
  },
  {
   "cell_type": "code",
   "execution_count": 4,
   "id": "344b9388",
   "metadata": {},
   "outputs": [
    {
     "name": "stdout",
     "output_type": "stream",
     "text": [
      "929/929 [==============================] - 20s 20ms/step - loss: 0.4723 - accuracy: 0.7774\n"
     ]
    },
    {
     "data": {
      "text/plain": [
       "[0.4722881019115448, 0.7773849368095398]"
      ]
     },
     "execution_count": 4,
     "metadata": {},
     "output_type": "execute_result"
    }
   ],
   "source": [
    "loaded_model = load_model('best_m.h5')\n",
    "loaded_model.evaluate(test_inputs, test_outputs)"
   ]
  },
  {
   "cell_type": "code",
   "execution_count": 5,
   "id": "68bf5528",
   "metadata": {},
   "outputs": [],
   "source": [
    "def print_result(t):\n",
    "    otk = Okt()\n",
    "    t.replace('[^ㄱ-ㅎ ㅏ-ㅣ 가-힣]', '')\n",
    "    t = otk.morphs(t)\n",
    "    t = [w for w in t if w not in st]\n",
    "    t = tk.texts_to_sequences([t])\n",
    "    t = pad_sequences(t, maxlen = w_l)\n",
    "    score = float(loaded_model.predict(t))\n",
    "    \n",
    "    if score > 0.5:\n",
    "        print(f\"{score * 100:.2f}% 확률로 긍정 리뷰입니다.\\n\")\n",
    "    else:\n",
    "        print(f\"{(1 - score) * 100:.2f}% 확률로 부정 리뷰입니다.\\n\")"
   ]
  },
  {
   "cell_type": "code",
   "execution_count": 6,
   "id": "0a43b4ea",
   "metadata": {},
   "outputs": [
    {
     "name": "stdout",
     "output_type": "stream",
     "text": [
      "95.50% 확률로 부정 리뷰입니다.\n",
      "\n"
     ]
    }
   ],
   "source": [
    "print_result('반지의 제왕 좋아해서 샀고 지인과 함께 플레이 했습니다. 싱글로는 글쎄요... 스토리는 재밌었지만 그래픽도 그닥이고 볼륨도 그닥이고 지루하기 짝이 없습니다.')"
   ]
  },
  {
   "cell_type": "code",
   "execution_count": 7,
   "id": "d52e3cda",
   "metadata": {},
   "outputs": [
    {
     "data": {
      "text/plain": [
       "[<tensorflow.python.keras.layers.embeddings.Embedding at 0x2995b158eb0>,\n",
       " <tensorflow.python.keras.layers.wrappers.Bidirectional at 0x2995b158fa0>,\n",
       " <tensorflow.python.keras.layers.wrappers.Bidirectional at 0x2995b5a9fa0>,\n",
       " <tensorflow.python.keras.layers.core.Dense at 0x2996289c2e0>,\n",
       " <tensorflow.python.keras.layers.core.Dropout at 0x2996296fc70>,\n",
       " <tensorflow.python.keras.layers.normalization_v2.BatchNormalization at 0x299629b6a90>,\n",
       " <tensorflow.python.keras.layers.core.Dense at 0x29962896af0>,\n",
       " <tensorflow.python.keras.layers.core.Dropout at 0x299629b65b0>,\n",
       " <tensorflow.python.keras.layers.normalization_v2.BatchNormalization at 0x299629cb370>,\n",
       " <tensorflow.python.keras.layers.core.Dense at 0x299629cbe80>]"
      ]
     },
     "execution_count": 7,
     "metadata": {},
     "output_type": "execute_result"
    }
   ],
   "source": [
    "loaded_model.layers"
   ]
  },
  {
   "cell_type": "code",
   "execution_count": 8,
   "id": "f3ea03f4",
   "metadata": {},
   "outputs": [
    {
     "data": {
      "text/plain": [
       "1"
      ]
     },
     "execution_count": 8,
     "metadata": {},
     "output_type": "execute_result"
    }
   ],
   "source": [
    "len(loaded_model.layers[0].get_weights())"
   ]
  },
  {
   "cell_type": "code",
   "execution_count": 9,
   "id": "e368bcc5",
   "metadata": {},
   "outputs": [
    {
     "data": {
      "text/plain": [
       "12559"
      ]
     },
     "execution_count": 9,
     "metadata": {},
     "output_type": "execute_result"
    }
   ],
   "source": [
    "len(loaded_model.layers[0].get_weights()[0])"
   ]
  },
  {
   "cell_type": "code",
   "execution_count": 10,
   "id": "a4e89ada",
   "metadata": {},
   "outputs": [
    {
     "data": {
      "text/plain": [
       "64"
      ]
     },
     "execution_count": 10,
     "metadata": {},
     "output_type": "execute_result"
    }
   ],
   "source": [
    "len(loaded_model.layers[0].get_weights()[0][1])"
   ]
  },
  {
   "cell_type": "code",
   "execution_count": 11,
   "id": "dcd0da7c",
   "metadata": {},
   "outputs": [],
   "source": [
    "d = token.word_index.items()"
   ]
  },
  {
   "cell_type": "code",
   "execution_count": 12,
   "id": "1f6cf24f",
   "metadata": {},
   "outputs": [
    {
     "name": "stdout",
     "output_type": "stream",
     "text": [
      "4\n"
     ]
    }
   ],
   "source": [
    "for w, i in d:\n",
    "    print(i)\n",
    "    break"
   ]
  },
  {
   "cell_type": "code",
   "execution_count": 13,
   "id": "7dacb0c9",
   "metadata": {},
   "outputs": [],
   "source": [
    "pr_data = sorted(d, key = lambda x : x[1])"
   ]
  },
  {
   "cell_type": "code",
   "execution_count": 14,
   "id": "3299f9e4",
   "metadata": {},
   "outputs": [
    {
     "name": "stdout",
     "output_type": "stream",
     "text": [
      "1\n"
     ]
    }
   ],
   "source": [
    "for w, i in pr_data:\n",
    "    print(i)\n",
    "    break"
   ]
  },
  {
   "cell_type": "code",
   "execution_count": 15,
   "id": "0fbbf2a9",
   "metadata": {},
   "outputs": [
    {
     "data": {
      "text/plain": [
       "59246"
      ]
     },
     "execution_count": 15,
     "metadata": {},
     "output_type": "execute_result"
    }
   ],
   "source": [
    "len(token.word_index)"
   ]
  },
  {
   "cell_type": "code",
   "execution_count": 16,
   "id": "25f7d3af",
   "metadata": {},
   "outputs": [],
   "source": [
    "w_l_data = list(token.word_index.keys())"
   ]
  },
  {
   "cell_type": "code",
   "execution_count": 17,
   "id": "2a297fb4",
   "metadata": {},
   "outputs": [],
   "source": [
    "w_l_data.insert(0,'OOV')"
   ]
  },
  {
   "cell_type": "code",
   "execution_count": 18,
   "id": "a114e3c8",
   "metadata": {},
   "outputs": [],
   "source": [
    "w_l_data = w_l_data[:12559]"
   ]
  },
  {
   "cell_type": "code",
   "execution_count": 19,
   "id": "7ac7b506",
   "metadata": {},
   "outputs": [],
   "source": [
    "ws = loaded_model.layers[0].get_weights()[0]"
   ]
  },
  {
   "cell_type": "code",
   "execution_count": 20,
   "id": "690264c0",
   "metadata": {},
   "outputs": [
    {
     "data": {
      "text/plain": [
       "(12559, 12559)"
      ]
     },
     "execution_count": 20,
     "metadata": {},
     "output_type": "execute_result"
    }
   ],
   "source": [
    "len(ws), len(w_l_data)"
   ]
  },
  {
   "cell_type": "code",
   "execution_count": 21,
   "id": "ee0fd439",
   "metadata": {},
   "outputs": [],
   "source": [
    "import io\n",
    "out_v = io.open('v_data.tsv', 'w', encoding = 'utf-8')\n",
    "out_w = io.open('w_data.tsv', 'w', encoding = 'utf-8')\n",
    "for i, w in enumerate(w_l_data):\n",
    "    if i == 0:\n",
    "        continue\n",
    "    vec = ws[i]\n",
    "    out_v.write('\\t'.join([str(i) for i in vec]) + '\\n')\n",
    "    out_w.write(w + '\\n')\n",
    "out_v.close()\n",
    "out_w.close()"
   ]
  }
 ],
 "metadata": {
  "kernelspec": {
   "display_name": "Python 3 (ipykernel)",
   "language": "python",
   "name": "python3"
  },
  "language_info": {
   "codemirror_mode": {
    "name": "ipython",
    "version": 3
   },
   "file_extension": ".py",
   "mimetype": "text/x-python",
   "name": "python",
   "nbconvert_exporter": "python",
   "pygments_lexer": "ipython3",
   "version": "3.9.7"
  }
 },
 "nbformat": 4,
 "nbformat_minor": 5
}
