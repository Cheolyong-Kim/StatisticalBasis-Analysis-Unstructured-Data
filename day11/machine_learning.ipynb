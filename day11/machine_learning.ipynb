{
 "cells": [
  {
   "cell_type": "code",
   "execution_count": 1,
   "id": "be3e413c",
   "metadata": {},
   "outputs": [],
   "source": [
    "from tensorflow.keras.preprocessing.text import Tokenizer\n",
    "from tensorflow.keras.preprocessing.sequence import pad_sequences\n",
    "from tensorflow.keras.callbacks import EarlyStopping, ModelCheckpoint, TensorBoard\n",
    "from tensorflow.keras.models import Sequential\n",
    "from tensorflow.keras.layers import Dense, Dropout, Embedding, LSTM, GRU, Bidirectional, BatchNormalization\n",
    "from tensorflow.keras.optimizers import Adam\n",
    "import tensorflow as tf\n",
    "import pickle\n",
    "import matplotlib.pyplot as plt"
   ]
  },
  {
   "cell_type": "code",
   "execution_count": 2,
   "id": "f0d6acc9",
   "metadata": {},
   "outputs": [],
   "source": [
    "with open(\"preprocessed_data.pickle\",\"rb\") as fr:\n",
    "    data = pickle.load(fr)"
   ]
  },
  {
   "cell_type": "code",
   "execution_count": 3,
   "id": "fd5d955a",
   "metadata": {},
   "outputs": [
    {
     "data": {
      "text/plain": [
       "dict_keys(['train_x', 'train_y', 'test_x', 'test_y', 'validation_x', 'validation_y', 'token', 'word_num', 'sentence_len', 'stop_words'])"
      ]
     },
     "execution_count": 3,
     "metadata": {},
     "output_type": "execute_result"
    }
   ],
   "source": [
    "data.keys()"
   ]
  },
  {
   "cell_type": "code",
   "execution_count": 4,
   "id": "51fe6514",
   "metadata": {},
   "outputs": [],
   "source": [
    "t_x = data['train_x']\n",
    "t_y = data['train_y']\n",
    "tt_x = data['test_x']\n",
    "tt_y = data['test_y']\n",
    "v_x = data['validation_x']\n",
    "v_y = data['validation_y']\n",
    "token = data['token']\n",
    "word_num = data['word_num']\n",
    "sentence_len = data['sentence_len']\n",
    "stop_w = data['stop_words']"
   ]
  },
  {
   "cell_type": "code",
   "execution_count": 5,
   "id": "94b58cf6",
   "metadata": {},
   "outputs": [],
   "source": [
    "batch_size = 256\n",
    "max_sentence_num = 52\n",
    "embedding_len = 64\n",
    "neuron_num = 64\n",
    "d_out = 0.6\n",
    "lr = 0.001\n",
    "ec = 50"
   ]
  },
  {
   "cell_type": "code",
   "execution_count": 6,
   "id": "04975d3d",
   "metadata": {},
   "outputs": [],
   "source": [
    "es = EarlyStopping(monitor = 'val_loss', mode = 'min', patience = 3, restore_best_weights = True)\n",
    "ck = ModelCheckpoint('best_m.h5', monitor = 'val_accuracy', mode = 'max', save_best_only = True)\n",
    "t_bd = TensorBoard(log_dir = 'logs')"
   ]
  },
  {
   "cell_type": "code",
   "execution_count": 7,
   "id": "d6decf95",
   "metadata": {},
   "outputs": [],
   "source": [
    "m = Sequential()\n",
    "m.add(Embedding(word_num, embedding_len, input_length = max_sentence_num))\n",
    "m.add(Bidirectional(LSTM(neuron_num, dropout = d_out, return_sequences = True)))\n",
    "m.add(Bidirectional(LSTM(neuron_num // 2, dropout = d_out)))\n",
    "m.add(Dense(neuron_num, activation = 'relu'))\n",
    "m.add(Dropout(d_out))\n",
    "m.add(BatchNormalization())\n",
    "m.add(Dense(neuron_num // 2, activation = 'relu'))\n",
    "m.add(Dropout(d_out))\n",
    "m.add(BatchNormalization())\n",
    "m.add(Dense(1, activation = 'sigmoid'))\n",
    "m.compile(optimizer = Adam(lr), loss = tf.losses.BinaryCrossentropy(), metrics = ['accuracy'])"
   ]
  },
  {
   "cell_type": "code",
   "execution_count": 8,
   "id": "b7e71630",
   "metadata": {},
   "outputs": [
    {
     "name": "stdout",
     "output_type": "stream",
     "text": [
      "Epoch 1/50\n",
      "217/217 [==============================] - 90s 385ms/step - loss: 0.7577 - accuracy: 0.5298 - val_loss: 0.6105 - val_accuracy: 0.7233\n",
      "Epoch 2/50\n",
      "217/217 [==============================] - 98s 451ms/step - loss: 0.5298 - accuracy: 0.7495 - val_loss: 0.4959 - val_accuracy: 0.7630\n",
      "Epoch 3/50\n",
      "217/217 [==============================] - 101s 467ms/step - loss: 0.4542 - accuracy: 0.8036 - val_loss: 0.4746 - val_accuracy: 0.7741\n",
      "Epoch 4/50\n",
      "217/217 [==============================] - 96s 441ms/step - loss: 0.4222 - accuracy: 0.8200 - val_loss: 0.4809 - val_accuracy: 0.7716\n",
      "Epoch 5/50\n",
      "217/217 [==============================] - 91s 417ms/step - loss: 0.3980 - accuracy: 0.8339 - val_loss: 0.4896 - val_accuracy: 0.7699\n",
      "Epoch 6/50\n",
      "217/217 [==============================] - 84s 389ms/step - loss: 0.3798 - accuracy: 0.8422 - val_loss: 0.5101 - val_accuracy: 0.7639\n"
     ]
    }
   ],
   "source": [
    "hy = m.fit(t_x, t_y, epochs = ec, batch_size = batch_size, validation_data = (v_x, v_y), callbacks = [es, ck, t_bd])"
   ]
  },
  {
   "cell_type": "code",
   "execution_count": 9,
   "id": "97dd88ff",
   "metadata": {},
   "outputs": [
    {
     "data": {
      "image/png": "[encoded data removed]",
      "text/plain": [
       "<Figure size 432x288 with 1 Axes>"
      ]
     },
     "metadata": {
      "needs_background": "light"
     },
     "output_type": "display_data"
    }
   ],
   "source": [
    "plt.plot(hy.history['loss'], label = 'loss')\n",
    "plt.plot(hy.history['val_loss'], label = 'val_loss')\n",
    "plt.title('Bidirectional')\n",
    "plt.show()"
   ]
  },
  {
   "cell_type": "code",
   "execution_count": 10,
   "id": "ba28ac8a",
   "metadata": {},
   "outputs": [
    {
     "name": "stdout",
     "output_type": "stream",
     "text": [
      "929/929 [==============================] - 16s 18ms/step - loss: 0.4723 - accuracy: 0.7774\n"
     ]
    },
    {
     "data": {
      "text/plain": [
       "[0.4722881019115448, 0.7773849368095398]"
      ]
     },
     "execution_count": 10,
     "metadata": {},
     "output_type": "execute_result"
    }
   ],
   "source": [
    "m.evaluate(tt_x, tt_y)"
   ]
  },
  {
   "cell_type": "code",
   "execution_count": 11,
   "id": "c9f74398",
   "metadata": {},
   "outputs": [
    {
     "data": {
      "text/plain": [
       "Reusing TensorBoard on port 6006 (pid 2028), started 1:05:51 ago. (Use '!kill 2028' to kill it.)"
      ]
     },
     "metadata": {},
     "output_type": "display_data"
    },
    {
     "data": {
      "text/html": [
       "\n",
       "      <iframe id=\"tensorboard-frame-928079fb0a64b4d9\" width=\"100%\" height=\"800\" frameborder=\"0\">\n",
       "      </iframe>\n",
       "      <script>\n",
       "        (function() {\n",
       "          const frame = document.getElementById(\"tensorboard-frame-928079fb0a64b4d9\");\n",
       "          const url = new URL(\"/\", window.location);\n",
       "          const port = 6006;\n",
       "          if (port) {\n",
       "            url.port = port;\n",
       "          }\n",
       "          frame.src = url;\n",
       "        })();\n",
       "      </script>\n",
       "    "
      ],
      "text/plain": [
       "<IPython.core.display.HTML object>"
      ]
     },
     "metadata": {},
     "output_type": "display_data"
    }
   ],
   "source": [
    "%load_ext tensorboard\n",
    "%tensorboard --logdir logs"
   ]
  }
 ],
 "metadata": {
  "kernelspec": {
   "display_name": "Python 3 (ipykernel)",
   "language": "python",
   "name": "python3"
  },
  "language_info": {
   "codemirror_mode": {
    "name": "ipython",
    "version": 3
   },
   "file_extension": ".py",
   "mimetype": "text/x-python",
   "name": "python",
   "nbconvert_exporter": "python",
   "pygments_lexer": "ipython3",
   "version": "3.9.7"
  }
 },
 "nbformat": 4,
 "nbformat_minor": 5
}
