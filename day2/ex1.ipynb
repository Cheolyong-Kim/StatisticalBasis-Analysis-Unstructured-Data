{
 "cells": [
  {
   "cell_type": "code",
   "execution_count": 2,
   "id": "306d844c",
   "metadata": {},
   "outputs": [],
   "source": [
    "t = '인수위, 네이버·카카오 정조준... \"포털 뉴스 알고리즘 검증·공개\"'"
   ]
  },
  {
   "cell_type": "code",
   "execution_count": 4,
   "id": "f319b5ad",
   "metadata": {},
   "outputs": [
    {
     "data": {
      "text/plain": [
       "'인수위,네이버·카카오정조준...\"포털뉴스알고리즘검증·공개\"'"
      ]
     },
     "execution_count": 4,
     "metadata": {},
     "output_type": "execute_result"
    }
   ],
   "source": [
    "n_t = t.replace(' ','')\n",
    "n_t"
   ]
  },
  {
   "cell_type": "code",
   "execution_count": 5,
   "id": "3122e032",
   "metadata": {},
   "outputs": [
    {
     "data": {
      "text/plain": [
       "'인수위, 네이버·카카오정조준...\"포털 뉴스 알고리즘 검증·공개\"'"
      ]
     },
     "execution_count": 5,
     "metadata": {},
     "output_type": "execute_result"
    }
   ],
   "source": [
    "from pykospacing import Spacing\n",
    "sc = Spacing()\n",
    "e_t = sc(n_t)\n",
    "e_t"
   ]
  },
  {
   "cell_type": "code",
   "execution_count": 6,
   "id": "9dfe2fa9",
   "metadata": {},
   "outputs": [],
   "source": [
    "t1 = '나는 외 않되? 나도 할수있으면 돼지 '"
   ]
  },
  {
   "cell_type": "code",
   "execution_count": 10,
   "id": "046bc70f",
   "metadata": {},
   "outputs": [
    {
     "data": {
      "text/plain": [
       "Checked(result=True, original='나는 외 않되? 나도 할수있으면 돼지 ', checked='나는 왜 안돼? 나도 할 수 있으면 되지', errors=2, words=OrderedDict([('나는', 0), ('왜', 1), ('안돼?', 1), ('나도', 0), ('할', 1), ('수', 1), ('있으면', 1), ('되지', 1)]), time=0.15403175354003906)"
      ]
     },
     "execution_count": 10,
     "metadata": {},
     "output_type": "execute_result"
    }
   ],
   "source": [
    "from hanspell import spell_checker\n",
    "ck_t = spell_checker.check(t1)\n",
    "ck_t"
   ]
  },
  {
   "cell_type": "code",
   "execution_count": 12,
   "id": "970c30a2",
   "metadata": {},
   "outputs": [
    {
     "data": {
      "text/plain": [
       "'나는 왜 안돼? 나도 할 수 있으면 되지'"
      ]
     },
     "execution_count": 12,
     "metadata": {},
     "output_type": "execute_result"
    }
   ],
   "source": [
    "end_t = ck_t.checked\n",
    "end_t"
   ]
  },
  {
   "cell_type": "code",
   "execution_count": 16,
   "id": "bb5adee9",
   "metadata": {},
   "outputs": [
    {
     "data": {
      "text/plain": [
       "'인수위, 네이버·카카오 정조준...\"포털 뉴스 알고리즘 검증·공개\"'"
      ]
     },
     "execution_count": 16,
     "metadata": {},
     "output_type": "execute_result"
    }
   ],
   "source": [
    "ck_t1 = spell_checker.check(n_t).checked\n",
    "ck_t1\n",
    "\n",
    "# 띄워쓰기도 체크해주지만 맞춤법을 맞춰주는 모듈이기 때문에 본문의 내용이 바뀔 수도 있음"
   ]
  },
  {
   "cell_type": "code",
   "execution_count": 19,
   "id": "b84d06de",
   "metadata": {},
   "outputs": [
    {
     "data": {
      "text/plain": [
       "30091"
      ]
     },
     "execution_count": 19,
     "metadata": {},
     "output_type": "execute_result"
    }
   ],
   "source": [
    "from soynlp import DoublespaceLineCorpus\n",
    "from soynlp.word import WordExtractor\n",
    "\n",
    "all_data = DoublespaceLineCorpus('data1.txt')\n",
    "len(all_data)"
   ]
  },
  {
   "cell_type": "code",
   "execution_count": 20,
   "id": "40fe11ba",
   "metadata": {},
   "outputs": [
    {
     "data": {
      "text/plain": [
       "soynlp.utils.utils.DoublespaceLineCorpus"
      ]
     },
     "execution_count": 20,
     "metadata": {},
     "output_type": "execute_result"
    }
   ],
   "source": [
    "type(all_data)"
   ]
  },
  {
   "cell_type": "code",
   "execution_count": 25,
   "id": "2d630d91",
   "metadata": {},
   "outputs": [
    {
     "name": "stdout",
     "output_type": "stream",
     "text": [
      "19  1990  52 1 22\n",
      "오패산터널 총격전 용의자 검거 서울 연합뉴스 경찰 관계자들이 19일 오후 서울 강북구 오패산 터널 인근에서 사제 총기를 발사해 경찰을 살해한 용의자 성모씨를 검거하고 있다 성씨는 검거 당시 서바이벌 게임에서 쓰는 방탄조끼에 헬멧까지 착용한 상태였다 독자제공 영상 캡처 연합뉴스  서울 연합뉴스 김은경 기자 사제 총기로 경찰을 살해한 범인 성모 46 씨는 주도면밀했다  경찰에 따르면 성씨는 19일 오후 강북경찰서 인근 부동산 업소 밖에서 부동산업자 이모 67 씨가 나오기를 기다렸다 이씨와는 평소에도 말다툼을 자주 한 것으로 알려졌다  이씨가 나와 걷기 시작하자 성씨는 따라가면서 미리 준비해온 사제 총기를 이씨에게 발사했다 총알이 빗나가면서 이씨는 도망갔다 그 빗나간 총알은 지나가던 행인 71 씨의 배를 스쳤다  성씨는 강북서 인근 치킨집까지 이씨 뒤를 쫓으며 실랑이하다 쓰러뜨린 후 총기와 함께 가져온 망치로 이씨 머리를 때렸다  이 과정에서 오후 6시 20분께 강북구 번동 길 위에서 사람들이 싸우고 있다 총소리가 났다 는 등의 신고가 여러건 들어왔다  5분 후에 성씨의 전자발찌가 훼손됐다는 신고가 보호관찰소 시스템을 통해 들어왔다 성범죄자로 전자발찌를 차고 있던 성씨는 부엌칼로 직접 자신의 발찌를 끊었다  용의자 소지 사제총기 2정 서울 연합뉴스 임헌정 기자 서울 시내에서 폭행 용의자가 현장 조사를 벌이던 경찰관에게 사제총기를 발사해 경찰관이 숨졌다 19일 오후 6시28분 강북구 번동에서 둔기로 맞았다 는 폭행 피해 신고가 접수돼 현장에서 조사하던 강북경찰서 번동파출소 소속 김모 54 경위가 폭행 용의자 성모 45 씨가 쏜 사제총기에 맞고 쓰러진 뒤 병원에 옮겨졌으나 숨졌다 사진은 용의자가 소지한 사제총기  신고를 받고 번동파출소에서 김창호 54 경위 등 경찰들이 오후 6시 29분께 현장으로 출동했다 성씨는 그사이 부동산 앞에 놓아뒀던 가방을 챙겨 오패산 쪽으로 도망간 후였다  김 경위는 오패산 터널 입구 오른쪽의 급경사에서 성씨에게 접근하다가 오후 6시 33분께 풀숲에 숨은 성씨가 허공에 난사한 10여발의 총알 중 일부를 왼쪽 어깨 뒷부분에 맞고 쓰러졌다  김 경위는 구급차가 도착했을 때 이미 의식이 없었고 심폐소생술을 하며 병원으로 옮겨졌으나 총알이 폐를 훼손해 오후 7시 40분께 사망했다  김 경위는 외근용 조끼를 입고 있었으나 총알을 막기에는 역부족이었다  머리에 부상을 입은 이씨도 함께 병원으로 이송됐으나 생명에는 지장이 없는 것으로 알려졌다  성씨는 오패산 터널 밑쪽 숲에서 오후 6시 45분께 잡혔다  총격현장 수색하는 경찰들 서울 연합뉴스 이효석 기자 19일 오후 서울 강북구 오패산 터널 인근에서 경찰들이 폭행 용의자가 사제총기를 발사해 경찰관이 사망한 사건을 조사 하고 있다  총 때문에 쫓던 경관들과 민간인들이 몸을 숨겼는데 인근 신발가게 직원 이모씨가 다가가 성씨를 덮쳤고 이어 현장에 있던 다른 상인들과 경찰이 가세해 체포했다  성씨는 경찰에 붙잡힌 직후 나 자살하려고 한 거다 맞아 죽어도 괜찮다 고 말한 것으로 전해졌다  성씨 자신도 경찰이 발사한 공포탄 1발 실탄 3발 중 실탄 1발을 배에 맞았으나 방탄조끼를 입은 상태여서 부상하지는 않았다  경찰은 인근을 수색해 성씨가 만든 사제총 16정과 칼 7개를 압수했다 실제 폭발할지는 알 수 없는 요구르트병에 무언가를 채워두고 심지를 꽂은 사제 폭탄도 발견됐다  일부는 숲에서 발견됐고 일부는 성씨가 소지한 가방 안에 있었다\n"
     ]
    }
   ],
   "source": [
    "i = 0\n",
    "for w in all_data:\n",
    "    if len(w) > 0:\n",
    "        print(w)\n",
    "        i += 1\n",
    "    if i == 2:\n",
    "        break"
   ]
  },
  {
   "cell_type": "code",
   "execution_count": 26,
   "id": "872fdc88",
   "metadata": {},
   "outputs": [],
   "source": [
    "w_e = WordExtractor()"
   ]
  },
  {
   "cell_type": "code",
   "execution_count": 27,
   "id": "67935e91",
   "metadata": {},
   "outputs": [
    {
     "name": "stdout",
     "output_type": "stream",
     "text": [
      "training was done. used memory 0.938 Gb\n",
      "all cohesion probabilities was computed. # words = 223348\n",
      "all branching entropies was computed # words = 361598\n",
      "all accessor variety was computed # words = 361598\n"
     ]
    }
   ],
   "source": [
    "w_e.train(all_data)\n",
    "w_e_t = w_e.extract()"
   ]
  },
  {
   "cell_type": "code",
   "execution_count": 31,
   "id": "b64f18c0",
   "metadata": {},
   "outputs": [
    {
     "data": {
      "text/plain": [
       "0.08838002913645132"
      ]
     },
     "execution_count": 31,
     "metadata": {},
     "output_type": "execute_result"
    }
   ],
   "source": [
    "w_e_t['반포한'].cohesion_forward"
   ]
  },
  {
   "cell_type": "code",
   "execution_count": 29,
   "id": "cb4673c6",
   "metadata": {},
   "outputs": [
    {
     "data": {
      "text/plain": [
       "0.37891487632839754"
      ]
     },
     "execution_count": 29,
     "metadata": {},
     "output_type": "execute_result"
    }
   ],
   "source": [
    "w_e_t['반포한강공원'].cohesion_forward"
   ]
  },
  {
   "cell_type": "code",
   "execution_count": 30,
   "id": "c9819bed",
   "metadata": {},
   "outputs": [
    {
     "data": {
      "text/plain": [
       "0.33492963377557666"
      ]
     },
     "execution_count": 30,
     "metadata": {},
     "output_type": "execute_result"
    }
   ],
   "source": [
    "w_e_t['반포한강공원에'].cohesion_forward"
   ]
  },
  {
   "cell_type": "code",
   "execution_count": 32,
   "id": "93004b14",
   "metadata": {},
   "outputs": [
    {
     "data": {
      "text/plain": [
       "-0.0"
      ]
     },
     "execution_count": 32,
     "metadata": {},
     "output_type": "execute_result"
    }
   ],
   "source": [
    "w_e_t['반포한'].right_branching_entropy"
   ]
  },
  {
   "cell_type": "code",
   "execution_count": 33,
   "id": "58cf1117",
   "metadata": {},
   "outputs": [
    {
     "data": {
      "text/plain": [
       "1.3542944153448395"
      ]
     },
     "execution_count": 33,
     "metadata": {},
     "output_type": "execute_result"
    }
   ],
   "source": [
    "w_e_t['반포한강공원'].right_branching_entropy"
   ]
  },
  {
   "cell_type": "code",
   "execution_count": 34,
   "id": "db40a794",
   "metadata": {},
   "outputs": [
    {
     "data": {
      "text/plain": [
       "0.9922819748525737"
      ]
     },
     "execution_count": 34,
     "metadata": {},
     "output_type": "execute_result"
    }
   ],
   "source": [
    "w_e_t['반포한강공원에'].right_branching_entropy"
   ]
  },
  {
   "cell_type": "code",
   "execution_count": 35,
   "id": "4b937ca4",
   "metadata": {},
   "outputs": [
    {
     "data": {
      "text/plain": [
       "dict"
      ]
     },
     "execution_count": 35,
     "metadata": {},
     "output_type": "execute_result"
    }
   ],
   "source": [
    "type(w_e_t)"
   ]
  },
  {
   "cell_type": "code",
   "execution_count": 37,
   "id": "f1b47946",
   "metadata": {},
   "outputs": [
    {
     "name": "stdout",
     "output_type": "stream",
     "text": [
      "('숟', Scores(cohesion_forward=0, cohesion_backward=0, left_branching_entropy=2.379120975540097, right_branching_entropy=-0.0, left_accessor_variety=14, right_accessor_variety=1, leftside_frequency=93, rightside_frequency=0))\n",
      "('빔', Scores(cohesion_forward=0, cohesion_backward=0, left_branching_entropy=1.6719415291178146, right_branching_entropy=0.9482980107415577, left_accessor_variety=7, right_accessor_variety=3, leftside_frequency=24, rightside_frequency=18))\n",
      "('로', Scores(cohesion_forward=0, cohesion_backward=0, left_branching_entropy=3.0579829532236324, right_branching_entropy=5.515706954529061, left_accessor_variety=555, right_accessor_variety=894, leftside_frequency=4025, rightside_frequency=115740))\n"
     ]
    }
   ],
   "source": [
    "n = 0\n",
    "for i in w_e_t.items():\n",
    "    print(i)\n",
    "    n += 1\n",
    "    if n == 3:\n",
    "        break"
   ]
  },
  {
   "cell_type": "code",
   "execution_count": 38,
   "id": "a88d8cf2",
   "metadata": {},
   "outputs": [],
   "source": [
    "from soynlp.tokenizer import LTokenizer\n",
    "sc = {w : sc.cohesion_forward for w, sc in w_e_t.items()}"
   ]
  },
  {
   "cell_type": "code",
   "execution_count": 42,
   "id": "911dddc5",
   "metadata": {},
   "outputs": [
    {
     "data": {
      "text/plain": [
       "[('자료', '의'),\n",
       " ('정보를', ''),\n",
       " ('구분하기', ''),\n",
       " ('위해', ''),\n",
       " ('문서', ''),\n",
       " ('작성을', ''),\n",
       " ('했다', '.')]"
      ]
     },
     "execution_count": 42,
     "metadata": {},
     "output_type": "execute_result"
    }
   ],
   "source": [
    "l_tk = LTokenizer(scores = sc)\n",
    "ck_t = '자료의 정보를 구분하기 위해 문서 작성을 했다.'\n",
    "l_tk.tokenize(ck_t, flatten = False)"
   ]
  },
  {
   "cell_type": "code",
   "execution_count": 43,
   "id": "7f7e2f6d",
   "metadata": {},
   "outputs": [
    {
     "data": {
      "text/plain": [
       "[[('자료', 0, 2, 0.05542850920178591, 2), ('의', 2, 3, 0, 1)],\n",
       " [('정보를', 0, 3, 0.13143652206154155, 3)],\n",
       " [('구분하기', 0, 4, 0.06920871053860748, 4)],\n",
       " [('위해', 0, 2, 0.0, 2)],\n",
       " [('문서', 0, 2, 0.0, 2)],\n",
       " [('작성을', 0, 3, 0.0, 3)],\n",
       " [('했다', 0, 2, 0.6890166650423936, 2), ('.', 2, 3, 0.0, 1)]]"
      ]
     },
     "execution_count": 43,
     "metadata": {},
     "output_type": "execute_result"
    }
   ],
   "source": [
    "from soynlp.tokenizer import MaxScoreTokenizer\n",
    "m_tk = MaxScoreTokenizer(scores = sc)\n",
    "ck_t = '자료의 정보를 구분하기 위해 문서 작성을 했다.'\n",
    "m_tk.tokenize(ck_t, flatten = False)"
   ]
  },
  {
   "cell_type": "code",
   "execution_count": 44,
   "id": "8ef2c047",
   "metadata": {},
   "outputs": [
    {
     "data": {
      "text/plain": [
       "0"
      ]
     },
     "execution_count": 44,
     "metadata": {},
     "output_type": "execute_result"
    }
   ],
   "source": [
    "w_e_t['정'].cohesion_forward"
   ]
  },
  {
   "cell_type": "code",
   "execution_count": 45,
   "id": "2380ca60",
   "metadata": {},
   "outputs": [
    {
     "data": {
      "text/plain": [
       "0.0745964316057774"
      ]
     },
     "execution_count": 45,
     "metadata": {},
     "output_type": "execute_result"
    }
   ],
   "source": [
    "w_e_t['정보'].cohesion_forward"
   ]
  },
  {
   "cell_type": "code",
   "execution_count": 46,
   "id": "e93d3d77",
   "metadata": {},
   "outputs": [
    {
     "data": {
      "text/plain": [
       "0.13143652206154155"
      ]
     },
     "execution_count": 46,
     "metadata": {},
     "output_type": "execute_result"
    }
   ],
   "source": [
    "w_e_t['정보를'].cohesion_forward"
   ]
  },
  {
   "cell_type": "code",
   "execution_count": null,
   "id": "3b81ad98",
   "metadata": {},
   "outputs": [],
   "source": []
  }
 ],
 "metadata": {
  "kernelspec": {
   "display_name": "Python 3 (ipykernel)",
   "language": "python",
   "name": "python3"
  },
  "language_info": {
   "codemirror_mode": {
    "name": "ipython",
    "version": 3
   },
   "file_extension": ".py",
   "mimetype": "text/x-python",
   "name": "python",
   "nbconvert_exporter": "python",
   "pygments_lexer": "ipython3",
   "version": "3.9.7"
  }
 },
 "nbformat": 4,
 "nbformat_minor": 5
}
