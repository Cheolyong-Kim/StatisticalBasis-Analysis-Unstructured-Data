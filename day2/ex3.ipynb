{
 "cells": [
  {
   "cell_type": "code",
   "execution_count": 4,
   "id": "1dd2677c",
   "metadata": {},
   "outputs": [],
   "source": [
    "from konlpy.tag import Okt  # 한국어 분석기\n",
    "from ckonlpy.tag import Twitter  # 한국어 분석기 보조 장치"
   ]
  },
  {
   "cell_type": "code",
   "execution_count": 5,
   "id": "aabff8ff",
   "metadata": {},
   "outputs": [],
   "source": [
    "t = '은호가 교실로 들어갔다.'\n",
    "tw = Okt()"
   ]
  },
  {
   "cell_type": "code",
   "execution_count": 6,
   "id": "e6b860a6",
   "metadata": {},
   "outputs": [
    {
     "data": {
      "text/plain": [
       "['은', '호가', '교실']"
      ]
     },
     "execution_count": 6,
     "metadata": {},
     "output_type": "execute_result"
    }
   ],
   "source": [
    "tw.nouns(t)"
   ]
  },
  {
   "cell_type": "code",
   "execution_count": 7,
   "id": "8c0c8241",
   "metadata": {},
   "outputs": [
    {
     "data": {
      "text/plain": [
       "['은', '호가', '교실', '로', '들어갔다', '.']"
      ]
     },
     "execution_count": 7,
     "metadata": {},
     "output_type": "execute_result"
    }
   ],
   "source": [
    "tw.morphs(t)"
   ]
  },
  {
   "cell_type": "code",
   "execution_count": 8,
   "id": "ed935027",
   "metadata": {},
   "outputs": [
    {
     "data": {
      "text/plain": [
       "[('은', 'Noun'),\n",
       " ('호가', 'Noun'),\n",
       " ('교실', 'Noun'),\n",
       " ('로', 'Josa'),\n",
       " ('들어갔다', 'Verb'),\n",
       " ('.', 'Punctuation')]"
      ]
     },
     "execution_count": 8,
     "metadata": {},
     "output_type": "execute_result"
    }
   ],
   "source": [
    "tw.pos(t)"
   ]
  },
  {
   "cell_type": "code",
   "execution_count": 9,
   "id": "799a3b45",
   "metadata": {},
   "outputs": [
    {
     "name": "stderr",
     "output_type": "stream",
     "text": [
      "C:\\anaconda3\\lib\\site-packages\\konlpy\\tag\\_okt.py:17: UserWarning: \"Twitter\" has changed to \"Okt\" since KoNLPy v0.4.5.\n",
      "  warn('\"Twitter\" has changed to \"Okt\" since KoNLPy v0.4.5.')\n"
     ]
    },
    {
     "data": {
      "text/plain": [
       "['은', '호가', '교실', '로', '들어갔다', '.']"
      ]
     },
     "execution_count": 9,
     "metadata": {},
     "output_type": "execute_result"
    }
   ],
   "source": [
    "from konlpy.tag import Twitter\n",
    "tw1=Twitter()\n",
    "tw1.morphs(t)"
   ]
  },
  {
   "cell_type": "code",
   "execution_count": 10,
   "id": "ec28223c",
   "metadata": {},
   "outputs": [
    {
     "name": "stderr",
     "output_type": "stream",
     "text": [
      "C:\\anaconda3\\lib\\site-packages\\konlpy\\tag\\_okt.py:17: UserWarning: \"Twitter\" has changed to \"Okt\" since KoNLPy v0.4.5.\n",
      "  warn('\"Twitter\" has changed to \"Okt\" since KoNLPy v0.4.5.')\n"
     ]
    },
    {
     "data": {
      "text/plain": [
       "['은', '호가', '교실', '로', '들어갔다', '.']"
      ]
     },
     "execution_count": 10,
     "metadata": {},
     "output_type": "execute_result"
    }
   ],
   "source": [
    "from ckonlpy.tag import Twitter\n",
    "tw2 = Twitter()\n",
    "tw2.morphs(t)"
   ]
  },
  {
   "cell_type": "code",
   "execution_count": 11,
   "id": "7f5ca10e",
   "metadata": {},
   "outputs": [
    {
     "data": {
      "text/plain": [
       "['은호', '가', '교실', '로', '들어갔다', '.']"
      ]
     },
     "execution_count": 11,
     "metadata": {},
     "output_type": "execute_result"
    }
   ],
   "source": [
    "tw2.add_dictionary('은호', 'Noun')\n",
    "tw2.morphs(t)"
   ]
  },
  {
   "cell_type": "code",
   "execution_count": 12,
   "id": "89071dc2",
   "metadata": {},
   "outputs": [
    {
     "data": {
      "text/plain": [
       "['은호', '교실']"
      ]
     },
     "execution_count": 12,
     "metadata": {},
     "output_type": "execute_result"
    }
   ],
   "source": [
    "tw2.nouns(t)"
   ]
  },
  {
   "cell_type": "code",
   "execution_count": 13,
   "id": "25657d2e",
   "metadata": {},
   "outputs": [
    {
     "data": {
      "text/plain": [
       "[('은호', 'Noun'),\n",
       " ('가', 'Josa'),\n",
       " ('교실', 'Noun'),\n",
       " ('로', 'Josa'),\n",
       " ('들어갔다', 'Verb'),\n",
       " ('.', 'Punctuation')]"
      ]
     },
     "execution_count": 13,
     "metadata": {},
     "output_type": "execute_result"
    }
   ],
   "source": [
    "tw2.pos(t)"
   ]
  },
  {
   "cell_type": "code",
   "execution_count": 14,
   "id": "8107371a",
   "metadata": {},
   "outputs": [],
   "source": [
    "t2 = '은호가 교실로 은이가 집으로 돌아갔다.'"
   ]
  },
  {
   "cell_type": "code",
   "execution_count": 15,
   "id": "51804b36",
   "metadata": {},
   "outputs": [],
   "source": [
    "tw2.add_dictionary('은이', 'Noun')"
   ]
  },
  {
   "cell_type": "code",
   "execution_count": 16,
   "id": "4f9cce07",
   "metadata": {},
   "outputs": [
    {
     "data": {
      "text/plain": [
       "['은호', '가', '교실', '로', '은이', '가', '집', '으로', '돌아갔다', '.']"
      ]
     },
     "execution_count": 16,
     "metadata": {},
     "output_type": "execute_result"
    }
   ],
   "source": [
    "tw2.morphs(t2)"
   ]
  },
  {
   "cell_type": "code",
   "execution_count": null,
   "id": "b1560ead",
   "metadata": {},
   "outputs": [],
   "source": []
  }
 ],
 "metadata": {
  "kernelspec": {
   "display_name": "Python 3 (ipykernel)",
   "language": "python",
   "name": "python3"
  },
  "language_info": {
   "codemirror_mode": {
    "name": "ipython",
    "version": 3
   },
   "file_extension": ".py",
   "mimetype": "text/x-python",
   "name": "python",
   "nbconvert_exporter": "python",
   "pygments_lexer": "ipython3",
   "version": "3.9.7"
  }
 },
 "nbformat": 4,
 "nbformat_minor": 5
}
