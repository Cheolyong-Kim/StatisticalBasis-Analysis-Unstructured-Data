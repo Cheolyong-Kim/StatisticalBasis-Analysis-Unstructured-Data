{
 "cells": [
  {
   "cell_type": "markdown",
   "id": "faff8b61",
   "metadata": {},
   "source": [
    "### 1. DictVectorizer => BOW 인코딩 벡터"
   ]
  },
  {
   "cell_type": "code",
   "execution_count": 1,
   "id": "60216189",
   "metadata": {},
   "outputs": [],
   "source": [
    "from sklearn.feature_extraction import DictVectorizer"
   ]
  },
  {
   "cell_type": "code",
   "execution_count": 4,
   "id": "fb6eef68",
   "metadata": {},
   "outputs": [
    {
     "name": "stdout",
     "output_type": "stream",
     "text": [
      "[[1. 2. 0.]\n",
      " [0. 3. 1.]]\n"
     ]
    }
   ],
   "source": [
    "v = DictVectorizer(sparse = False)  # sparse = False : 매트릭스로 출력\n",
    "D = [{'A': 1, 'B': 2}, {'B': 3, 'C': 1}]\n",
    "X = v.fit_transform(D)\n",
    "print(X)  # 매트릭스 하나로 문장 수, 단어 수, 단어 빈도 수 한번에 확인 가능"
   ]
  },
  {
   "cell_type": "code",
   "execution_count": 5,
   "id": "94dfb009",
   "metadata": {},
   "outputs": [
    {
     "data": {
      "text/plain": [
       "['A', 'B', 'C']"
      ]
     },
     "execution_count": 5,
     "metadata": {},
     "output_type": "execute_result"
    }
   ],
   "source": [
    "v.feature_names_"
   ]
  },
  {
   "cell_type": "code",
   "execution_count": 6,
   "id": "822c4635",
   "metadata": {},
   "outputs": [],
   "source": [
    "D2 = {'A': 5, 'B': 1, 'D': 100}"
   ]
  },
  {
   "cell_type": "code",
   "execution_count": 7,
   "id": "3d17e4af",
   "metadata": {},
   "outputs": [
    {
     "data": {
      "text/plain": [
       "array([[5., 1., 0.]])"
      ]
     },
     "execution_count": 7,
     "metadata": {},
     "output_type": "execute_result"
    }
   ],
   "source": [
    "v.transform(D2)  # 학습 데이터에 D가 없었어서 D는 세지 못함"
   ]
  },
  {
   "cell_type": "markdown",
   "id": "e0847ee1",
   "metadata": {},
   "source": [
    "### 2. CountVectorizer => BOW 인코딩 벡터 문서의 집합 => 단어 토큰 생성 => 각 단어의 수를 셈"
   ]
  },
  {
   "cell_type": "code",
   "execution_count": 8,
   "id": "191a20d5",
   "metadata": {},
   "outputs": [],
   "source": [
    "from sklearn.feature_extraction.text import CountVectorizer"
   ]
  },
  {
   "cell_type": "code",
   "execution_count": 9,
   "id": "a3997335",
   "metadata": {},
   "outputs": [],
   "source": [
    "corpus = [\n",
    "    'This is the first document.',\n",
    "    'This is the second second document.',\n",
    "    'And the third one.',\n",
    "    'Is this the first document?',\n",
    "    'The last document?',\n",
    "]"
   ]
  },
  {
   "cell_type": "code",
   "execution_count": 11,
   "id": "67ab87b4",
   "metadata": {},
   "outputs": [
    {
     "data": {
      "text/plain": [
       "{'this': 9,\n",
       " 'is': 3,\n",
       " 'the': 7,\n",
       " 'first': 2,\n",
       " 'document': 1,\n",
       " 'second': 6,\n",
       " 'and': 0,\n",
       " 'third': 8,\n",
       " 'one': 5,\n",
       " 'last': 4}"
      ]
     },
     "execution_count": 11,
     "metadata": {},
     "output_type": "execute_result"
    }
   ],
   "source": [
    "v1 = CountVectorizer()\n",
    "v1.fit(corpus)\n",
    "v1.vocabulary_"
   ]
  },
  {
   "cell_type": "code",
   "execution_count": 16,
   "id": "f563e7c0",
   "metadata": {},
   "outputs": [
    {
     "data": {
      "text/plain": [
       "array([[0, 1, 1, 1, 0, 0, 0, 1, 0, 3]], dtype=int64)"
      ]
     },
     "execution_count": 16,
     "metadata": {},
     "output_type": "execute_result"
    }
   ],
   "source": [
    "v1.transform(['This is the first document. This This']).toarray()  # 원-핫 인코딩이 아님"
   ]
  },
  {
   "cell_type": "code",
   "execution_count": 17,
   "id": "c0d3dbc7",
   "metadata": {},
   "outputs": [
    {
     "data": {
      "text/plain": [
       "array([[0, 1, 1, 1, 0, 0, 0, 1, 0, 1]], dtype=int64)"
      ]
     },
     "execution_count": 17,
     "metadata": {},
     "output_type": "execute_result"
    }
   ],
   "source": [
    "v1.transform(['This is the first document. data']).toarray()  # data는 1번과 같이 학습에 없는 단어이기 때문에 배제"
   ]
  },
  {
   "cell_type": "markdown",
   "id": "c01a5fb2",
   "metadata": {},
   "source": [
    "### 1 -> 빈도수가 정해진 딕셔너리가 입력되어야 동작\n",
    "### 2 -> 문장이 입력되어야 동작"
   ]
  },
  {
   "cell_type": "markdown",
   "id": "99c5b4a7",
   "metadata": {},
   "source": [
    "### ↑ sklearn을 활용한 데이터 전처리"
   ]
  }
 ],
 "metadata": {
  "kernelspec": {
   "display_name": "Python 3 (ipykernel)",
   "language": "python",
   "name": "python3"
  },
  "language_info": {
   "codemirror_mode": {
    "name": "ipython",
    "version": 3
   },
   "file_extension": ".py",
   "mimetype": "text/x-python",
   "name": "python",
   "nbconvert_exporter": "python",
   "pygments_lexer": "ipython3",
   "version": "3.9.7"
  }
 },
 "nbformat": 4,
 "nbformat_minor": 5
}
