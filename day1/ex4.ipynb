{
 "cells": [
  {
   "cell_type": "markdown",
   "id": "2302a6ca",
   "metadata": {},
   "source": [
    "# 사전 기반 정수 인코딩"
   ]
  },
  {
   "cell_type": "code",
   "execution_count": 1,
   "id": "fc7ba865",
   "metadata": {},
   "outputs": [],
   "source": [
    "from nltk.tokenize import sent_tokenize, word_tokenize\n",
    "from nltk.corpus import stopwords"
   ]
  },
  {
   "cell_type": "markdown",
   "id": "7fc7315d",
   "metadata": {},
   "source": [
    "### 데이터 수집"
   ]
  },
  {
   "cell_type": "code",
   "execution_count": 2,
   "id": "8a0b45fd",
   "metadata": {},
   "outputs": [],
   "source": [
    "text = \"A barber is a person. a barber is good person. a barber is huge person. he Knew A Secret! The Secret He Kept is huge secret. Huge secret. His barber kept his word. a barber kept his word. His barber kept his secret. But keeping and keeping such a huge secret to himself was driving the barber crazy. the barber went up a huge mountain.\""
   ]
  },
  {
   "cell_type": "markdown",
   "id": "c61274f5",
   "metadata": {},
   "source": [
    "### 데이터 전처리"
   ]
  },
  {
   "cell_type": "markdown",
   "id": "194f33d8",
   "metadata": {},
   "source": [
    "##### 문장 토큰화"
   ]
  },
  {
   "cell_type": "code",
   "execution_count": 3,
   "id": "d7c17f36",
   "metadata": {},
   "outputs": [
    {
     "data": {
      "text/plain": [
       "['A barber is a person.',\n",
       " 'a barber is good person.',\n",
       " 'a barber is huge person.',\n",
       " 'he Knew A Secret!',\n",
       " 'The Secret He Kept is huge secret.',\n",
       " 'Huge secret.',\n",
       " 'His barber kept his word.',\n",
       " 'a barber kept his word.',\n",
       " 'His barber kept his secret.',\n",
       " 'But keeping and keeping such a huge secret to himself was driving the barber crazy.',\n",
       " 'the barber went up a huge mountain.']"
      ]
     },
     "execution_count": 3,
     "metadata": {},
     "output_type": "execute_result"
    }
   ],
   "source": [
    "data1 = sent_tokenize(text)\n",
    "data1"
   ]
  },
  {
   "cell_type": "markdown",
   "id": "cc4b239d",
   "metadata": {},
   "source": [
    "##### 단어 토큰화"
   ]
  },
  {
   "cell_type": "code",
   "execution_count": 4,
   "id": "2d7e4779",
   "metadata": {},
   "outputs": [
    {
     "data": {
      "text/plain": [
       "[['barber', 'person'],\n",
       " ['barber', 'good', 'person'],\n",
       " ['barber', 'huge', 'person'],\n",
       " ['knew', 'secret'],\n",
       " ['secret', 'kept', 'huge', 'secret'],\n",
       " ['huge', 'secret'],\n",
       " ['barber', 'kept', 'word'],\n",
       " ['barber', 'kept', 'word'],\n",
       " ['barber', 'kept', 'secret'],\n",
       " ['keeping', 'keeping', 'huge', 'secret', 'driving', 'barber', 'crazy'],\n",
       " ['barber', 'went', 'huge', 'mountain']]"
      ]
     },
     "execution_count": 4,
     "metadata": {},
     "output_type": "execute_result"
    }
   ],
   "source": [
    "word_l = {}\n",
    "pr_data = []\n",
    "stop_w = set(stopwords.words('english'))\n",
    "\n",
    "for sentence in data1:\n",
    "    t_data = word_tokenize(sentence)\n",
    "    l = []\n",
    "    for word in t_data:\n",
    "        word = word.lower()\n",
    "        if word not in stop_w:\n",
    "            if len(word) > 2:\n",
    "                l.append(word)\n",
    "                if word not in word_l:\n",
    "                    word_l[word] = 0\n",
    "                word_l[word] += 1\n",
    "    pr_data.append(l)\n",
    "    \n",
    "pr_data"
   ]
  },
  {
   "cell_type": "code",
   "execution_count": 5,
   "id": "0c83847e",
   "metadata": {},
   "outputs": [
    {
     "data": {
      "text/plain": [
       "{'barber': 8,\n",
       " 'person': 3,\n",
       " 'good': 1,\n",
       " 'huge': 5,\n",
       " 'knew': 1,\n",
       " 'secret': 6,\n",
       " 'kept': 4,\n",
       " 'word': 2,\n",
       " 'keeping': 2,\n",
       " 'driving': 1,\n",
       " 'crazy': 1,\n",
       " 'went': 1,\n",
       " 'mountain': 1}"
      ]
     },
     "execution_count": 5,
     "metadata": {},
     "output_type": "execute_result"
    }
   ],
   "source": [
    "word_l"
   ]
  },
  {
   "cell_type": "code",
   "execution_count": 6,
   "id": "a2dafc24",
   "metadata": {},
   "outputs": [
    {
     "data": {
      "text/plain": [
       "[('barber', 8),\n",
       " ('secret', 6),\n",
       " ('huge', 5),\n",
       " ('kept', 4),\n",
       " ('person', 3),\n",
       " ('word', 2),\n",
       " ('keeping', 2),\n",
       " ('good', 1),\n",
       " ('knew', 1),\n",
       " ('driving', 1),\n",
       " ('crazy', 1),\n",
       " ('went', 1),\n",
       " ('mountain', 1)]"
      ]
     },
     "execution_count": 6,
     "metadata": {},
     "output_type": "execute_result"
    }
   ],
   "source": [
    "sorted_word_l = sorted(word_l.items(), key = lambda x : x[1], reverse = True)\n",
    "sorted_word_l"
   ]
  },
  {
   "cell_type": "code",
   "execution_count": 7,
   "id": "01836921",
   "metadata": {},
   "outputs": [
    {
     "data": {
      "text/plain": [
       "{'barber': 1,\n",
       " 'secret': 2,\n",
       " 'huge': 3,\n",
       " 'kept': 4,\n",
       " 'person': 5,\n",
       " 'word': 6,\n",
       " 'keeping': 7}"
      ]
     },
     "execution_count": 7,
     "metadata": {},
     "output_type": "execute_result"
    }
   ],
   "source": [
    "word_idx = {}\n",
    "i = 0\n",
    "for (word, fq) in sorted_word_l:\n",
    "    if fq > 1:\n",
    "        i += 1\n",
    "        word_idx[word] = i\n",
    "\n",
    "word_idx"
   ]
  },
  {
   "cell_type": "code",
   "execution_count": 8,
   "id": "22f8aa21",
   "metadata": {},
   "outputs": [
    {
     "data": {
      "text/plain": [
       "{'barber': 1, 'secret': 2, 'huge': 3, 'kept': 4}"
      ]
     },
     "execution_count": 8,
     "metadata": {},
     "output_type": "execute_result"
    }
   ],
   "source": [
    "n = 4\n",
    "selected_data = [word for word, i in word_idx.items() if i > n]\n",
    "for i in selected_data:\n",
    "    del word_idx[i]\n",
    "\n",
    "word_idx"
   ]
  },
  {
   "cell_type": "code",
   "execution_count": 9,
   "id": "e58d9fb0",
   "metadata": {},
   "outputs": [
    {
     "data": {
      "text/plain": [
       "{'barber': 1, 'secret': 2, 'huge': 3, 'kept': 4, 'OOV': 5}"
      ]
     },
     "execution_count": 9,
     "metadata": {},
     "output_type": "execute_result"
    }
   ],
   "source": [
    "word_idx['OOV'] = len(word_idx) + 1  # 단어 추가, OOV는 집합에 없는 단어를 의미함\n",
    "word_idx"
   ]
  },
  {
   "cell_type": "markdown",
   "id": "36fe971c",
   "metadata": {},
   "source": [
    "### 데이터 정형화"
   ]
  },
  {
   "cell_type": "code",
   "execution_count": 10,
   "id": "43911c48",
   "metadata": {},
   "outputs": [
    {
     "data": {
      "text/plain": [
       "[[1, 5],\n",
       " [1, 5, 5],\n",
       " [1, 3, 5],\n",
       " [5, 2],\n",
       " [2, 4, 3, 2],\n",
       " [3, 2],\n",
       " [1, 4, 5],\n",
       " [1, 4, 5],\n",
       " [1, 4, 2],\n",
       " [5, 5, 3, 2, 5, 1, 5],\n",
       " [1, 5, 3, 5]]"
      ]
     },
     "execution_count": 10,
     "metadata": {},
     "output_type": "execute_result"
    }
   ],
   "source": [
    "ec_data = []\n",
    "for i in pr_data:\n",
    "    ec_d = []\n",
    "    for word in i:\n",
    "        try:\n",
    "            ec_d.append(word_idx[word])\n",
    "        except KeyError:\n",
    "            ec_d.append(word_idx['OOV'])\n",
    "    ec_data.append(ec_d)\n",
    "    \n",
    "ec_data"
   ]
  },
  {
   "cell_type": "markdown",
   "id": "3750e6dd",
   "metadata": {},
   "source": [
    "# Counter 기반 정수 인코딩"
   ]
  },
  {
   "cell_type": "code",
   "execution_count": 11,
   "id": "98a2b4fb",
   "metadata": {},
   "outputs": [],
   "source": [
    "from collections import Counter"
   ]
  },
  {
   "cell_type": "code",
   "execution_count": 12,
   "id": "726a2a88",
   "metadata": {},
   "outputs": [
    {
     "data": {
      "text/plain": [
       "[['barber', 'person'],\n",
       " ['barber', 'good', 'person'],\n",
       " ['barber', 'huge', 'person'],\n",
       " ['knew', 'secret'],\n",
       " ['secret', 'kept', 'huge', 'secret'],\n",
       " ['huge', 'secret'],\n",
       " ['barber', 'kept', 'word'],\n",
       " ['barber', 'kept', 'word'],\n",
       " ['barber', 'kept', 'secret'],\n",
       " ['keeping', 'keeping', 'huge', 'secret', 'driving', 'barber', 'crazy'],\n",
       " ['barber', 'went', 'huge', 'mountain']]"
      ]
     },
     "execution_count": 12,
     "metadata": {},
     "output_type": "execute_result"
    }
   ],
   "source": [
    "pr_data"
   ]
  },
  {
   "cell_type": "code",
   "execution_count": 13,
   "id": "8388dfa0",
   "metadata": {},
   "outputs": [
    {
     "data": {
      "text/plain": [
       "['barber',\n",
       " 'person',\n",
       " 'barber',\n",
       " 'good',\n",
       " 'person',\n",
       " 'barber',\n",
       " 'huge',\n",
       " 'person',\n",
       " 'knew',\n",
       " 'secret',\n",
       " 'secret',\n",
       " 'kept',\n",
       " 'huge',\n",
       " 'secret',\n",
       " 'huge',\n",
       " 'secret',\n",
       " 'barber',\n",
       " 'kept',\n",
       " 'word',\n",
       " 'barber',\n",
       " 'kept',\n",
       " 'word',\n",
       " 'barber',\n",
       " 'kept',\n",
       " 'secret',\n",
       " 'keeping',\n",
       " 'keeping',\n",
       " 'huge',\n",
       " 'secret',\n",
       " 'driving',\n",
       " 'barber',\n",
       " 'crazy',\n",
       " 'barber',\n",
       " 'went',\n",
       " 'huge',\n",
       " 'mountain']"
      ]
     },
     "execution_count": 13,
     "metadata": {},
     "output_type": "execute_result"
    }
   ],
   "source": [
    "word_li = sum(pr_data, [])\n",
    "word_li"
   ]
  },
  {
   "cell_type": "code",
   "execution_count": 14,
   "id": "09bbbefd",
   "metadata": {},
   "outputs": [
    {
     "data": {
      "text/plain": [
       "Counter({'barber': 8,\n",
       "         'person': 3,\n",
       "         'good': 1,\n",
       "         'huge': 5,\n",
       "         'knew': 1,\n",
       "         'secret': 6,\n",
       "         'kept': 4,\n",
       "         'word': 2,\n",
       "         'keeping': 2,\n",
       "         'driving': 1,\n",
       "         'crazy': 1,\n",
       "         'went': 1,\n",
       "         'mountain': 1})"
      ]
     },
     "execution_count": 14,
     "metadata": {},
     "output_type": "execute_result"
    }
   ],
   "source": [
    "l_word_li = Counter(word_li)\n",
    "l_word_li"
   ]
  },
  {
   "cell_type": "code",
   "execution_count": 15,
   "id": "4a69d5d8",
   "metadata": {},
   "outputs": [
    {
     "data": {
      "text/plain": [
       "[('barber', 8), ('secret', 6), ('huge', 5), ('kept', 4)]"
      ]
     },
     "execution_count": 15,
     "metadata": {},
     "output_type": "execute_result"
    }
   ],
   "source": [
    "n = 4\n",
    "fq_word = l_word_li.most_common(n)\n",
    "fq_word"
   ]
  },
  {
   "cell_type": "code",
   "execution_count": 16,
   "id": "c8405296",
   "metadata": {},
   "outputs": [
    {
     "data": {
      "text/plain": [
       "{'barber': 1, 'secret': 2, 'huge': 3, 'kept': 4}"
      ]
     },
     "execution_count": 16,
     "metadata": {},
     "output_type": "execute_result"
    }
   ],
   "source": [
    "word_idx2 = {}\n",
    "i = 0\n",
    "for word, fq in fq_word:\n",
    "    i += 1\n",
    "    word_idx2[word] = i\n",
    "\n",
    "word_idx2"
   ]
  },
  {
   "cell_type": "code",
   "execution_count": 17,
   "id": "ada6f221",
   "metadata": {},
   "outputs": [
    {
     "data": {
      "text/plain": [
       "{'barber': 1, 'secret': 2, 'huge': 3, 'kept': 4, 'OOV': 5}"
      ]
     },
     "execution_count": 17,
     "metadata": {},
     "output_type": "execute_result"
    }
   ],
   "source": [
    "word_idx2['OOV'] = len(word_idx2) + 1\n",
    "word_idx2"
   ]
  },
  {
   "cell_type": "code",
   "execution_count": 19,
   "id": "1a0669f2",
   "metadata": {},
   "outputs": [
    {
     "data": {
      "text/plain": [
       "[[1, 5],\n",
       " [1, 5, 5],\n",
       " [1, 3, 5],\n",
       " [5, 2],\n",
       " [2, 4, 3, 2],\n",
       " [3, 2],\n",
       " [1, 4, 5],\n",
       " [1, 4, 5],\n",
       " [1, 4, 2],\n",
       " [5, 5, 3, 2, 5, 1, 5],\n",
       " [1, 5, 3, 5]]"
      ]
     },
     "execution_count": 19,
     "metadata": {},
     "output_type": "execute_result"
    }
   ],
   "source": [
    "ec_data2 = []\n",
    "for i in pr_data:\n",
    "    ec_d2 = []\n",
    "    for word in i:\n",
    "        try:\n",
    "            ec_d2.append(word_idx2[word])\n",
    "        except KeyError:\n",
    "            ec_d2.append(word_idx2['OOV'])\n",
    "    ec_data2.append(ec_d2)\n",
    "    \n",
    "ec_data2"
   ]
  },
  {
   "cell_type": "markdown",
   "id": "b61f460b",
   "metadata": {},
   "source": [
    "# NLTK 기반 정수 인코딩"
   ]
  },
  {
   "cell_type": "code",
   "execution_count": 23,
   "id": "86689832",
   "metadata": {},
   "outputs": [],
   "source": [
    "from nltk import FreqDist\n",
    "import numpy as np"
   ]
  },
  {
   "cell_type": "code",
   "execution_count": 24,
   "id": "956a3f1d",
   "metadata": {},
   "outputs": [
    {
     "data": {
      "text/plain": [
       "FreqDist({'barber': 8, 'secret': 6, 'huge': 5, 'kept': 4, 'person': 3, 'word': 2, 'keeping': 2, 'good': 1, 'knew': 1, 'driving': 1, ...})"
      ]
     },
     "execution_count": 24,
     "metadata": {},
     "output_type": "execute_result"
    }
   ],
   "source": [
    "word_li = FreqDist(np.hstack(pr_data))\n",
    "word_li"
   ]
  },
  {
   "cell_type": "code",
   "execution_count": 25,
   "id": "5db5996b",
   "metadata": {},
   "outputs": [
    {
     "data": {
      "text/plain": [
       "[('barber', 8), ('secret', 6), ('huge', 5), ('kept', 4)]"
      ]
     },
     "execution_count": 25,
     "metadata": {},
     "output_type": "execute_result"
    }
   ],
   "source": [
    "word_li = word_li.most_common(4)\n",
    "word_li"
   ]
  },
  {
   "cell_type": "markdown",
   "id": "02a3688a",
   "metadata": {},
   "source": [
    "# keras 기반 토큰화 및 정수 인코딩"
   ]
  },
  {
   "cell_type": "code",
   "execution_count": 26,
   "id": "a1ef3147",
   "metadata": {},
   "outputs": [
    {
     "data": {
      "text/plain": [
       "[['barber', 'person'],\n",
       " ['barber', 'good', 'person'],\n",
       " ['barber', 'huge', 'person'],\n",
       " ['knew', 'secret'],\n",
       " ['secret', 'kept', 'huge', 'secret'],\n",
       " ['huge', 'secret'],\n",
       " ['barber', 'kept', 'word'],\n",
       " ['barber', 'kept', 'word'],\n",
       " ['barber', 'kept', 'secret'],\n",
       " ['keeping', 'keeping', 'huge', 'secret', 'driving', 'barber', 'crazy'],\n",
       " ['barber', 'went', 'huge', 'mountain']]"
      ]
     },
     "execution_count": 26,
     "metadata": {},
     "output_type": "execute_result"
    }
   ],
   "source": [
    "from tensorflow.keras.preprocessing.text import Tokenizer\n",
    "pr_data"
   ]
  },
  {
   "cell_type": "code",
   "execution_count": 28,
   "id": "9cdd0832",
   "metadata": {},
   "outputs": [
    {
     "data": {
      "text/plain": [
       "{'barber': 1,\n",
       " 'secret': 2,\n",
       " 'huge': 3,\n",
       " 'kept': 4,\n",
       " 'person': 5,\n",
       " 'word': 6,\n",
       " 'keeping': 7,\n",
       " 'good': 8,\n",
       " 'knew': 9,\n",
       " 'driving': 10,\n",
       " 'crazy': 11,\n",
       " 'went': 12,\n",
       " 'mountain': 13}"
      ]
     },
     "execution_count": 28,
     "metadata": {},
     "output_type": "execute_result"
    }
   ],
   "source": [
    "ck_t = Tokenizer()\n",
    "ck_t.fit_on_texts(pr_data)\n",
    "ck_t.word_index"
   ]
  },
  {
   "cell_type": "code",
   "execution_count": 29,
   "id": "9635e435",
   "metadata": {},
   "outputs": [
    {
     "data": {
      "text/plain": [
       "OrderedDict([('barber', 8),\n",
       "             ('person', 3),\n",
       "             ('good', 1),\n",
       "             ('huge', 5),\n",
       "             ('knew', 1),\n",
       "             ('secret', 6),\n",
       "             ('kept', 4),\n",
       "             ('word', 2),\n",
       "             ('keeping', 2),\n",
       "             ('driving', 1),\n",
       "             ('crazy', 1),\n",
       "             ('went', 1),\n",
       "             ('mountain', 1)])"
      ]
     },
     "execution_count": 29,
     "metadata": {},
     "output_type": "execute_result"
    }
   ],
   "source": [
    "ck_t.word_counts"
   ]
  },
  {
   "cell_type": "code",
   "execution_count": 30,
   "id": "dda977af",
   "metadata": {},
   "outputs": [
    {
     "data": {
      "text/plain": [
       "[[1, 5],\n",
       " [1, 8, 5],\n",
       " [1, 3, 5],\n",
       " [9, 2],\n",
       " [2, 4, 3, 2],\n",
       " [3, 2],\n",
       " [1, 4, 6],\n",
       " [1, 4, 6],\n",
       " [1, 4, 2],\n",
       " [7, 7, 3, 2, 10, 1, 11],\n",
       " [1, 12, 3, 13]]"
      ]
     },
     "execution_count": 30,
     "metadata": {},
     "output_type": "execute_result"
    }
   ],
   "source": [
    "ck_t.texts_to_sequences(pr_data)"
   ]
  },
  {
   "cell_type": "code",
   "execution_count": 43,
   "id": "e6288f3f",
   "metadata": {},
   "outputs": [
    {
     "data": {
      "text/plain": [
       "{'OOV': 1,\n",
       " 'barber': 2,\n",
       " 'secret': 3,\n",
       " 'huge': 4,\n",
       " 'kept': 5,\n",
       " 'person': 6,\n",
       " 'word': 7,\n",
       " 'keeping': 8,\n",
       " 'good': 9,\n",
       " 'knew': 10,\n",
       " 'driving': 11,\n",
       " 'crazy': 12,\n",
       " 'went': 13,\n",
       " 'mountain': 14}"
      ]
     },
     "execution_count": 43,
     "metadata": {},
     "output_type": "execute_result"
    }
   ],
   "source": [
    "n = 4\n",
    "end_ck = Tokenizer(num_words = n + 2, oov_token = 'OOV')\n",
    "end_ck.fit_on_texts(pr_data)\n",
    "end_ck.word_index"
   ]
  },
  {
   "cell_type": "code",
   "execution_count": 40,
   "id": "3ff158cd",
   "metadata": {},
   "outputs": [
    {
     "data": {
      "text/plain": [
       "[[2, 1],\n",
       " [2, 1, 1],\n",
       " [2, 1, 1],\n",
       " [1, 3],\n",
       " [3, 1, 1, 3],\n",
       " [1, 3],\n",
       " [2, 1, 1],\n",
       " [2, 1, 1],\n",
       " [2, 1, 3],\n",
       " [1, 1, 1, 3, 1, 2, 1],\n",
       " [2, 1, 1, 1]]"
      ]
     },
     "execution_count": 40,
     "metadata": {},
     "output_type": "execute_result"
    }
   ],
   "source": [
    "end_ck.texts_to_sequences(pr_data)"
   ]
  },
  {
   "cell_type": "code",
   "execution_count": null,
   "id": "6a761217",
   "metadata": {},
   "outputs": [],
   "source": []
  }
 ],
 "metadata": {
  "kernelspec": {
   "display_name": "Python 3 (ipykernel)",
   "language": "python",
   "name": "python3"
  },
  "language_info": {
   "codemirror_mode": {
    "name": "ipython",
    "version": 3
   },
   "file_extension": ".py",
   "mimetype": "text/x-python",
   "name": "python",
   "nbconvert_exporter": "python",
   "pygments_lexer": "ipython3",
   "version": "3.9.7"
  }
 },
 "nbformat": 4,
 "nbformat_minor": 5
}
