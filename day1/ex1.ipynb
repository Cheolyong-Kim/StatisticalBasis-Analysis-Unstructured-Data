{
 "cells": [
  {
   "cell_type": "code",
   "execution_count": 1,
   "id": "2cf564be",
   "metadata": {},
   "outputs": [
    {
     "data": {
      "text/plain": [
       "('3.6.5', '0.6.0')"
      ]
     },
     "execution_count": 1,
     "metadata": {},
     "output_type": "execute_result"
    }
   ],
   "source": [
    "import nltk, kss, konlpy\n",
    "nltk.__version__ , konlpy.__version__"
   ]
  },
  {
   "cell_type": "code",
   "execution_count": 2,
   "id": "0f7192d8",
   "metadata": {},
   "outputs": [
    {
     "name": "stderr",
     "output_type": "stream",
     "text": [
      "[Korean Sentence Splitter]: Initializing Pynori...\n"
     ]
    },
    {
     "data": {
      "text/plain": [
       "['안녕 하세요']"
      ]
     },
     "execution_count": 2,
     "metadata": {},
     "output_type": "execute_result"
    }
   ],
   "source": [
    "tt = '안녕 하세요'\n",
    "kss.split_sentences(tt)"
   ]
  },
  {
   "cell_type": "code",
   "execution_count": 3,
   "id": "49276b8a",
   "metadata": {},
   "outputs": [
    {
     "name": "stderr",
     "output_type": "stream",
     "text": [
      "[nltk_data] Downloading package punkt to\n",
      "[nltk_data]     C:\\Users\\김철용\\AppData\\Roaming\\nltk_data...\n",
      "[nltk_data]   Package punkt is already up-to-date!\n",
      "[nltk_data] Downloading package averaged_perceptron_tagger to\n",
      "[nltk_data]     C:\\Users\\김철용\\AppData\\Roaming\\nltk_data...\n",
      "[nltk_data]   Package averaged_perceptron_tagger is already up-to-\n",
      "[nltk_data]       date!\n"
     ]
    },
    {
     "data": {
      "text/plain": [
       "True"
      ]
     },
     "execution_count": 3,
     "metadata": {},
     "output_type": "execute_result"
    }
   ],
   "source": [
    "nltk.download('punkt')\n",
    "nltk.download('averaged_perceptron_tagger')"
   ]
  },
  {
   "cell_type": "code",
   "execution_count": 4,
   "id": "47b3e367",
   "metadata": {},
   "outputs": [],
   "source": [
    "t = \"Don't be fooled by the dark sounding name, Mr. Jone's Orphanage is as cheery as cheery goes for a pastry shop.\""
   ]
  },
  {
   "cell_type": "code",
   "execution_count": 5,
   "id": "1fc250d2",
   "metadata": {},
   "outputs": [],
   "source": [
    "from nltk.tokenize import word_tokenize, WordPunctTokenizer\n",
    "from tensorflow.keras.preprocessing.text import text_to_word_sequence"
   ]
  },
  {
   "cell_type": "markdown",
   "id": "d0f92ba7",
   "metadata": {},
   "source": [
    "### 영어 토큰화 방법 1"
   ]
  },
  {
   "cell_type": "code",
   "execution_count": 6,
   "id": "69b0fadf",
   "metadata": {},
   "outputs": [
    {
     "data": {
      "text/plain": [
       "['Do',\n",
       " \"n't\",\n",
       " 'be',\n",
       " 'fooled',\n",
       " 'by',\n",
       " 'the',\n",
       " 'dark',\n",
       " 'sounding',\n",
       " 'name',\n",
       " ',',\n",
       " 'Mr.',\n",
       " 'Jone',\n",
       " \"'s\",\n",
       " 'Orphanage',\n",
       " 'is',\n",
       " 'as',\n",
       " 'cheery',\n",
       " 'as',\n",
       " 'cheery',\n",
       " 'goes',\n",
       " 'for',\n",
       " 'a',\n",
       " 'pastry',\n",
       " 'shop',\n",
       " '.']"
      ]
     },
     "execution_count": 6,
     "metadata": {},
     "output_type": "execute_result"
    }
   ],
   "source": [
    "word_tokenize(t)"
   ]
  },
  {
   "cell_type": "markdown",
   "id": "62049616",
   "metadata": {},
   "source": [
    "### 방법 2 "
   ]
  },
  {
   "cell_type": "code",
   "execution_count": 8,
   "id": "abaf0be0",
   "metadata": {},
   "outputs": [
    {
     "data": {
      "text/plain": [
       "['Don',\n",
       " \"'\",\n",
       " 't',\n",
       " 'be',\n",
       " 'fooled',\n",
       " 'by',\n",
       " 'the',\n",
       " 'dark',\n",
       " 'sounding',\n",
       " 'name',\n",
       " ',',\n",
       " 'Mr',\n",
       " '.',\n",
       " 'Jone',\n",
       " \"'\",\n",
       " 's',\n",
       " 'Orphanage',\n",
       " 'is',\n",
       " 'as',\n",
       " 'cheery',\n",
       " 'as',\n",
       " 'cheery',\n",
       " 'goes',\n",
       " 'for',\n",
       " 'a',\n",
       " 'pastry',\n",
       " 'shop',\n",
       " '.']"
      ]
     },
     "execution_count": 8,
     "metadata": {},
     "output_type": "execute_result"
    }
   ],
   "source": [
    "WordPunctTokenizer().tokenize(t)"
   ]
  },
  {
   "cell_type": "markdown",
   "id": "cc8bdf48",
   "metadata": {},
   "source": [
    "### 방법 3"
   ]
  },
  {
   "cell_type": "code",
   "execution_count": 9,
   "id": "9f90aa61",
   "metadata": {},
   "outputs": [
    {
     "data": {
      "text/plain": [
       "[\"don't\",\n",
       " 'be',\n",
       " 'fooled',\n",
       " 'by',\n",
       " 'the',\n",
       " 'dark',\n",
       " 'sounding',\n",
       " 'name',\n",
       " 'mr',\n",
       " \"jone's\",\n",
       " 'orphanage',\n",
       " 'is',\n",
       " 'as',\n",
       " 'cheery',\n",
       " 'as',\n",
       " 'cheery',\n",
       " 'goes',\n",
       " 'for',\n",
       " 'a',\n",
       " 'pastry',\n",
       " 'shop']"
      ]
     },
     "execution_count": 9,
     "metadata": {},
     "output_type": "execute_result"
    }
   ],
   "source": [
    "text_to_word_sequence(t)"
   ]
  },
  {
   "cell_type": "code",
   "execution_count": 12,
   "id": "c8ae00a3",
   "metadata": {},
   "outputs": [],
   "source": [
    "from nltk.tokenize import TreebankWordTokenizer\n",
    "t2 = \"Don't be fooled by the dark sounding name, hom-data Mr. Jone's Orphanage is as cheery as cheery goes for a pastry shop.\""
   ]
  },
  {
   "cell_type": "code",
   "execution_count": 13,
   "id": "78b09e13",
   "metadata": {},
   "outputs": [
    {
     "data": {
      "text/plain": [
       "['Do',\n",
       " \"n't\",\n",
       " 'be',\n",
       " 'fooled',\n",
       " 'by',\n",
       " 'the',\n",
       " 'dark',\n",
       " 'sounding',\n",
       " 'name',\n",
       " ',',\n",
       " 'hom-data',\n",
       " 'Mr.',\n",
       " 'Jone',\n",
       " \"'s\",\n",
       " 'Orphanage',\n",
       " 'is',\n",
       " 'as',\n",
       " 'cheery',\n",
       " 'as',\n",
       " 'cheery',\n",
       " 'goes',\n",
       " 'for',\n",
       " 'a',\n",
       " 'pastry',\n",
       " 'shop',\n",
       " '.']"
      ]
     },
     "execution_count": 13,
     "metadata": {},
     "output_type": "execute_result"
    }
   ],
   "source": [
    "TreebankWordTokenizer().tokenize(t2)"
   ]
  },
  {
   "cell_type": "code",
   "execution_count": 14,
   "id": "5b5d22c7",
   "metadata": {},
   "outputs": [
    {
     "data": {
      "text/plain": [
       "['Do',\n",
       " \"n't\",\n",
       " 'be',\n",
       " 'fooled',\n",
       " 'by',\n",
       " 'the',\n",
       " 'dark',\n",
       " 'sounding',\n",
       " 'name',\n",
       " ',',\n",
       " 'hom-data',\n",
       " 'Mr.',\n",
       " 'Jone',\n",
       " \"'s\",\n",
       " 'Orphanage',\n",
       " 'is',\n",
       " 'as',\n",
       " 'cheery',\n",
       " 'as',\n",
       " 'cheery',\n",
       " 'goes',\n",
       " 'for',\n",
       " 'a',\n",
       " 'pastry',\n",
       " 'shop',\n",
       " '.']"
      ]
     },
     "execution_count": 14,
     "metadata": {},
     "output_type": "execute_result"
    }
   ],
   "source": [
    "word_tokenize(t2)"
   ]
  },
  {
   "cell_type": "code",
   "execution_count": 15,
   "id": "6d21680c",
   "metadata": {},
   "outputs": [],
   "source": [
    "t3 = \"His barber kept his word. But keeping such a huge secret to himself was driving him crazy. Finally, the barber went up a mountain and almost to the edge of a cliff. He dug a hole in the midst of some reeds. He looked about, to make sure no one was near.\""
   ]
  },
  {
   "cell_type": "code",
   "execution_count": 16,
   "id": "2012a1b9",
   "metadata": {},
   "outputs": [
    {
     "data": {
      "text/plain": [
       "['His barber kept his word.',\n",
       " 'But keeping such a huge secret to himself was driving him crazy.',\n",
       " 'Finally, the barber went up a mountain and almost to the edge of a cliff.',\n",
       " 'He dug a hole in the midst of some reeds.',\n",
       " 'He looked about, to make sure no one was near.']"
      ]
     },
     "execution_count": 16,
     "metadata": {},
     "output_type": "execute_result"
    }
   ],
   "source": [
    "from nltk.tokenize import sent_tokenize\n",
    "sent_tokenize(t3)"
   ]
  },
  {
   "cell_type": "code",
   "execution_count": 19,
   "id": "26ca7e41",
   "metadata": {},
   "outputs": [],
   "source": [
    "t4 = \"His barber kept his word. But keeping such a huge secret to himself was driving him crazy. Finally, a PH.D. the barber went up a mountain and almost to the edge of a cliff. He dug a hole in the midst of some reeds. He looked about, to make sure no one was near.\""
   ]
  },
  {
   "cell_type": "code",
   "execution_count": 20,
   "id": "ec1cc069",
   "metadata": {},
   "outputs": [
    {
     "data": {
      "text/plain": [
       "['His barber kept his word.',\n",
       " 'But keeping such a huge secret to himself was driving him crazy.',\n",
       " 'Finally, a PH.D. the barber went up a mountain and almost to the edge of a cliff.',\n",
       " 'He dug a hole in the midst of some reeds.',\n",
       " 'He looked about, to make sure no one was near.']"
      ]
     },
     "execution_count": 20,
     "metadata": {},
     "output_type": "execute_result"
    }
   ],
   "source": [
    "sent_tokenize(t4)"
   ]
  },
  {
   "cell_type": "code",
   "execution_count": 21,
   "id": "16af42f3",
   "metadata": {},
   "outputs": [],
   "source": [
    "t5 = '이번 수업은 오늘 진행 됩니다. 그리고 내일 부터는 휴일 입니다. 다음주 월요일날 2차 수업이 진행 됩니다.'"
   ]
  },
  {
   "cell_type": "code",
   "execution_count": 22,
   "id": "086982b2",
   "metadata": {},
   "outputs": [],
   "source": [
    "import kss"
   ]
  },
  {
   "cell_type": "code",
   "execution_count": 23,
   "id": "43711e7b",
   "metadata": {},
   "outputs": [
    {
     "data": {
      "text/plain": [
       "['이번 수업은 오늘 진행 됩니다.', '그리고 내일 부터는 휴일 입니다.', '다음주 월요일날 2차 수업이 진행 됩니다.']"
      ]
     },
     "execution_count": 23,
     "metadata": {},
     "output_type": "execute_result"
    }
   ],
   "source": [
    "kss.split_sentences(t5)"
   ]
  },
  {
   "cell_type": "code",
   "execution_count": 24,
   "id": "d6a39b47",
   "metadata": {},
   "outputs": [],
   "source": [
    "t6 = \"I am actively looking for Ph.D. students. and you are a Ph.D. student.\""
   ]
  },
  {
   "cell_type": "code",
   "execution_count": 25,
   "id": "59c8af18",
   "metadata": {},
   "outputs": [
    {
     "data": {
      "text/plain": [
       "['I',\n",
       " 'am',\n",
       " 'actively',\n",
       " 'looking',\n",
       " 'for',\n",
       " 'Ph.D.',\n",
       " 'students',\n",
       " '.',\n",
       " 'and',\n",
       " 'you',\n",
       " 'are',\n",
       " 'a',\n",
       " 'Ph.D.',\n",
       " 'student',\n",
       " '.']"
      ]
     },
     "execution_count": 25,
     "metadata": {},
     "output_type": "execute_result"
    }
   ],
   "source": [
    "from nltk.tokenize import word_tokenize\n",
    "from nltk.tag import pos_tag\n",
    "\n",
    "t_t = word_tokenize(t6)\n",
    "t_t"
   ]
  },
  {
   "cell_type": "code",
   "execution_count": 26,
   "id": "cad77d0a",
   "metadata": {},
   "outputs": [
    {
     "data": {
      "text/plain": [
       "[('I', 'PRP'),\n",
       " ('am', 'VBP'),\n",
       " ('actively', 'RB'),\n",
       " ('looking', 'VBG'),\n",
       " ('for', 'IN'),\n",
       " ('Ph.D.', 'NNP'),\n",
       " ('students', 'NNS'),\n",
       " ('.', '.'),\n",
       " ('and', 'CC'),\n",
       " ('you', 'PRP'),\n",
       " ('are', 'VBP'),\n",
       " ('a', 'DT'),\n",
       " ('Ph.D.', 'NNP'),\n",
       " ('student', 'NN'),\n",
       " ('.', '.')]"
      ]
     },
     "execution_count": 26,
     "metadata": {},
     "output_type": "execute_result"
    }
   ],
   "source": [
    "pos_tag(t_t)"
   ]
  },
  {
   "cell_type": "code",
   "execution_count": 27,
   "id": "4d7c629f",
   "metadata": {},
   "outputs": [],
   "source": [
    "from konlpy.tag import Okt\n",
    "from konlpy.tag import Kkma"
   ]
  },
  {
   "cell_type": "code",
   "execution_count": 28,
   "id": "09217931",
   "metadata": {},
   "outputs": [
    {
     "data": {
      "text/plain": [
       "['우리',\n",
       " '는',\n",
       " '즐거운',\n",
       " '어린이날',\n",
       " '부터',\n",
       " '휴일',\n",
       " '입니다',\n",
       " '.',\n",
       " '고생',\n",
       " '한',\n",
       " '여러분',\n",
       " '휴일',\n",
       " '을',\n",
       " '즐기세요',\n",
       " '.']"
      ]
     },
     "execution_count": 28,
     "metadata": {},
     "output_type": "execute_result"
    }
   ],
   "source": [
    "n1 = Okt()\n",
    "\n",
    "# 형태소\n",
    "t7 = \"우리는 즐거운 어린이날 부터 휴일 입니다. 고생한 여러분 휴일을 즐기세요.\"\n",
    "n1.morphs(t7)"
   ]
  },
  {
   "cell_type": "code",
   "execution_count": 29,
   "id": "0d25a255",
   "metadata": {},
   "outputs": [
    {
     "data": {
      "text/plain": [
       "[('우리', 'Noun'),\n",
       " ('는', 'Josa'),\n",
       " ('즐거운', 'Adjective'),\n",
       " ('어린이날', 'Noun'),\n",
       " ('부터', 'Noun'),\n",
       " ('휴일', 'Noun'),\n",
       " ('입니다', 'Adjective'),\n",
       " ('.', 'Punctuation'),\n",
       " ('고생', 'Noun'),\n",
       " ('한', 'Josa'),\n",
       " ('여러분', 'Noun'),\n",
       " ('휴일', 'Noun'),\n",
       " ('을', 'Josa'),\n",
       " ('즐기세요', 'Verb'),\n",
       " ('.', 'Punctuation')]"
      ]
     },
     "execution_count": 29,
     "metadata": {},
     "output_type": "execute_result"
    }
   ],
   "source": [
    "# 품사 태깅\n",
    "n1.pos(t7)"
   ]
  },
  {
   "cell_type": "code",
   "execution_count": 30,
   "id": "e74e9396",
   "metadata": {},
   "outputs": [
    {
     "data": {
      "text/plain": [
       "['우리', '어린이날', '부터', '휴일', '고생', '여러분', '휴일']"
      ]
     },
     "execution_count": 30,
     "metadata": {},
     "output_type": "execute_result"
    }
   ],
   "source": [
    "# 명사 추출\n",
    "n1.nouns(t7)"
   ]
  },
  {
   "cell_type": "code",
   "execution_count": 32,
   "id": "57299678",
   "metadata": {},
   "outputs": [
    {
     "data": {
      "text/plain": [
       "(['우리',\n",
       "  '는',\n",
       "  '즐겁',\n",
       "  'ㄴ',\n",
       "  '어린이날',\n",
       "  '부터',\n",
       "  '휴일',\n",
       "  '이',\n",
       "  'ㅂ니다',\n",
       "  '.',\n",
       "  '고생',\n",
       "  '하',\n",
       "  'ㄴ',\n",
       "  '여러',\n",
       "  '분',\n",
       "  '휴일',\n",
       "  '을',\n",
       "  '즐기',\n",
       "  '세요',\n",
       "  '.'],\n",
       " [('우리', 'NP'),\n",
       "  ('는', 'JX'),\n",
       "  ('즐겁', 'VA'),\n",
       "  ('ㄴ', 'ETD'),\n",
       "  ('어린이날', 'NNG'),\n",
       "  ('부터', 'JX'),\n",
       "  ('휴일', 'NNG'),\n",
       "  ('이', 'VCP'),\n",
       "  ('ㅂ니다', 'EFN'),\n",
       "  ('.', 'SF'),\n",
       "  ('고생', 'NNG'),\n",
       "  ('하', 'XSV'),\n",
       "  ('ㄴ', 'ETD'),\n",
       "  ('여러', 'MDT'),\n",
       "  ('분', 'NNB'),\n",
       "  ('휴일', 'NNG'),\n",
       "  ('을', 'JKO'),\n",
       "  ('즐기', 'VV'),\n",
       "  ('세요', 'EFN'),\n",
       "  ('.', 'SF')],\n",
       " ['우리', '어린이날', '휴일', '고생', '분'])"
      ]
     },
     "execution_count": 32,
     "metadata": {},
     "output_type": "execute_result"
    }
   ],
   "source": [
    "n2 = Kkma()\n",
    "n2.morphs(t7), n2.pos(t7), n2.nouns(t7)"
   ]
  },
  {
   "cell_type": "code",
   "execution_count": 33,
   "id": "fb3421ad",
   "metadata": {},
   "outputs": [],
   "source": [
    "t8 = \"I am actively looking for Ph.D. students. and you are a Ph.D. student.\""
   ]
  },
  {
   "cell_type": "code",
   "execution_count": 34,
   "id": "d5ba8ff9",
   "metadata": {},
   "outputs": [],
   "source": [
    "import re"
   ]
  },
  {
   "cell_type": "code",
   "execution_count": 37,
   "id": "40f2c35c",
   "metadata": {},
   "outputs": [
    {
     "data": {
      "text/plain": [
       "' actively looking for. students. and you are. student.'"
      ]
     },
     "execution_count": 37,
     "metadata": {},
     "output_type": "execute_result"
    }
   ],
   "source": [
    "ck = re.compile(r'\\W*\\b\\w{1,2}\\b')\n",
    "ck.sub('', t8)"
   ]
  },
  {
   "cell_type": "code",
   "execution_count": 40,
   "id": "660471c6",
   "metadata": {},
   "outputs": [
    {
     "data": {
      "text/plain": [
       "'우리는 즐거운 어린이날 입니다 여러분들이 고생했으니 휴일을 즐겁게 보냈으면.'"
      ]
     },
     "execution_count": 40,
     "metadata": {},
     "output_type": "execute_result"
    }
   ],
   "source": [
    "t9 = \"우리는 즐거운 어린이날 부터 휴일 입니다. 난 여러분들이 고생했으니 휴일을 좀 많이 즐겁게 보냈으면 해요.\"\n",
    "ck.sub('', t9)"
   ]
  }
 ],
 "metadata": {
  "kernelspec": {
   "display_name": "Python 3 (ipykernel)",
   "language": "python",
   "name": "python3"
  },
  "language_info": {
   "codemirror_mode": {
    "name": "ipython",
    "version": 3
   },
   "file_extension": ".py",
   "mimetype": "text/x-python",
   "name": "python",
   "nbconvert_exporter": "python",
   "pygments_lexer": "ipython3",
   "version": "3.9.7"
  }
 },
 "nbformat": 4,
 "nbformat_minor": 5
}
