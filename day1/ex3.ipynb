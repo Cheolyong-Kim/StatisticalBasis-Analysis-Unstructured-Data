{
 "cells": [
  {
   "cell_type": "code",
   "execution_count": 1,
   "id": "eb449c58",
   "metadata": {},
   "outputs": [],
   "source": [
    "import re"
   ]
  },
  {
   "cell_type": "markdown",
   "id": "1df0564d",
   "metadata": {},
   "source": [
    "   ### . 기호 (단어 한개)"
   ]
  },
  {
   "cell_type": "code",
   "execution_count": 2,
   "id": "1c6ee62e",
   "metadata": {},
   "outputs": [],
   "source": [
    "r = re.compile('d.t')  # d와 t사이의 아무 문자 하나\n",
    "r.search('ggg')"
   ]
  },
  {
   "cell_type": "code",
   "execution_count": 4,
   "id": "42728bb8",
   "metadata": {},
   "outputs": [
    {
     "data": {
      "text/plain": [
       "<re.Match object; span=(0, 3), match='dat'>"
      ]
     },
     "execution_count": 4,
     "metadata": {},
     "output_type": "execute_result"
    }
   ],
   "source": [
    "r.search('dat')"
   ]
  },
  {
   "cell_type": "code",
   "execution_count": 5,
   "id": "fcb108fe",
   "metadata": {},
   "outputs": [
    {
     "data": {
      "text/plain": [
       "<re.Match object; span=(0, 3), match='dat'>"
      ]
     },
     "execution_count": 5,
     "metadata": {},
     "output_type": "execute_result"
    }
   ],
   "source": [
    "r.search('datwwwdat')"
   ]
  },
  {
   "cell_type": "markdown",
   "id": "ce2e4b0e",
   "metadata": {},
   "source": [
    "### ? 기호 (입력 이후 중간 문자의 유무 상관없이 끝문자가 나오면 인식)"
   ]
  },
  {
   "cell_type": "code",
   "execution_count": 6,
   "id": "7c4afe60",
   "metadata": {},
   "outputs": [],
   "source": [
    "r = re.compile('d?t')\n",
    "r.search('ggg')"
   ]
  },
  {
   "cell_type": "code",
   "execution_count": 7,
   "id": "5f5b8596",
   "metadata": {},
   "outputs": [
    {
     "data": {
      "text/plain": [
       "<re.Match object; span=(2, 3), match='t'>"
      ]
     },
     "execution_count": 7,
     "metadata": {},
     "output_type": "execute_result"
    }
   ],
   "source": [
    "r.search('data')"
   ]
  },
  {
   "cell_type": "code",
   "execution_count": 8,
   "id": "2f84fa0d",
   "metadata": {},
   "outputs": [
    {
     "data": {
      "text/plain": [
       "<re.Match object; span=(0, 1), match='t'>"
      ]
     },
     "execution_count": 8,
     "metadata": {},
     "output_type": "execute_result"
    }
   ],
   "source": [
    "r.search('t')"
   ]
  },
  {
   "cell_type": "markdown",
   "id": "0a1fbe78",
   "metadata": {},
   "source": [
    "   ### * 기호 (연결된 문자의 중복 개수 상관없이 인식, 0개도 가능)"
   ]
  },
  {
   "cell_type": "code",
   "execution_count": 20,
   "id": "94832271",
   "metadata": {},
   "outputs": [
    {
     "data": {
      "text/plain": [
       "<re.Match object; span=(0, 2), match='ac'>"
      ]
     },
     "execution_count": 20,
     "metadata": {},
     "output_type": "execute_result"
    }
   ],
   "source": [
    "r = re.compile('ab*c')\n",
    "r.search('ac')"
   ]
  },
  {
   "cell_type": "code",
   "execution_count": 12,
   "id": "7d3e6c21",
   "metadata": {},
   "outputs": [
    {
     "data": {
      "text/plain": [
       "<re.Match object; span=(0, 9), match='abbbbbbbc'>"
      ]
     },
     "execution_count": 12,
     "metadata": {},
     "output_type": "execute_result"
    }
   ],
   "source": [
    "r.search('abbbbbbbc')"
   ]
  },
  {
   "cell_type": "code",
   "execution_count": 21,
   "id": "23b8d1bd",
   "metadata": {},
   "outputs": [
    {
     "data": {
      "text/plain": [
       "<re.Match object; span=(0, 3), match='abc'>"
      ]
     },
     "execution_count": 21,
     "metadata": {},
     "output_type": "execute_result"
    }
   ],
   "source": [
    "r.search('abc')"
   ]
  },
  {
   "cell_type": "markdown",
   "id": "1b866b73",
   "metadata": {},
   "source": [
    "### + 기호 (연결된 문자의 중복 개수 상관없이 인식, 0개 불가능)"
   ]
  },
  {
   "cell_type": "code",
   "execution_count": 15,
   "id": "9544e2ae",
   "metadata": {},
   "outputs": [
    {
     "data": {
      "text/plain": [
       "<re.Match object; span=(0, 3), match='abc'>"
      ]
     },
     "execution_count": 15,
     "metadata": {},
     "output_type": "execute_result"
    }
   ],
   "source": [
    "r = re.compile('ab+c')\n",
    "r.search('abc')"
   ]
  },
  {
   "cell_type": "markdown",
   "id": "580ba634",
   "metadata": {},
   "source": [
    "### ^ 기호 (기호 이후 문자열로 시작되는 문자열 인식)"
   ]
  },
  {
   "cell_type": "code",
   "execution_count": 16,
   "id": "e1599a4b",
   "metadata": {},
   "outputs": [
    {
     "data": {
      "text/plain": [
       "<re.Match object; span=(0, 2), match='ab'>"
      ]
     },
     "execution_count": 16,
     "metadata": {},
     "output_type": "execute_result"
    }
   ],
   "source": [
    "r = re.compile('^ab')\n",
    "r.search('abc')"
   ]
  },
  {
   "cell_type": "code",
   "execution_count": 17,
   "id": "ecc8990f",
   "metadata": {},
   "outputs": [],
   "source": [
    "r.search('asdasffasdbc')"
   ]
  },
  {
   "cell_type": "code",
   "execution_count": 18,
   "id": "31813817",
   "metadata": {},
   "outputs": [
    {
     "data": {
      "text/plain": [
       "<re.Match object; span=(0, 2), match='ab'>"
      ]
     },
     "execution_count": 18,
     "metadata": {},
     "output_type": "execute_result"
    }
   ],
   "source": [
    "r.search('abqwjgjsdhgjkhg')"
   ]
  },
  {
   "cell_type": "markdown",
   "id": "8f6fc29f",
   "metadata": {},
   "source": [
    "   ### {숫자} 기호 (기호 앞에 있는 단어의 개수가 기호 안의 숫자만큼 있을 때 인식)"
   ]
  },
  {
   "cell_type": "code",
   "execution_count": 23,
   "id": "dc5bec7b",
   "metadata": {},
   "outputs": [],
   "source": [
    "r = re.compile('ab{2}c')\n",
    "r.search('abc')"
   ]
  },
  {
   "cell_type": "code",
   "execution_count": 26,
   "id": "8d3775c5",
   "metadata": {},
   "outputs": [
    {
     "data": {
      "text/plain": [
       "<re.Match object; span=(0, 4), match='abbc'>"
      ]
     },
     "execution_count": 26,
     "metadata": {},
     "output_type": "execute_result"
    }
   ],
   "source": [
    "r.search('abbc')"
   ]
  },
  {
   "cell_type": "markdown",
   "id": "a5650312",
   "metadata": {},
   "source": [
    "### {숫자, 숫자} 기호 (기호 앞에 있는 단어의 개수가 기호 안의 숫자 범위만큼 있을 때 인식)"
   ]
  },
  {
   "cell_type": "code",
   "execution_count": 27,
   "id": "94240d28",
   "metadata": {},
   "outputs": [
    {
     "data": {
      "text/plain": [
       "<re.Match object; span=(0, 4), match='abbc'>"
      ]
     },
     "execution_count": 27,
     "metadata": {},
     "output_type": "execute_result"
    }
   ],
   "source": [
    "r = re.compile('ab{2,5}c')\n",
    "r.search('abbc')"
   ]
  },
  {
   "cell_type": "code",
   "execution_count": 28,
   "id": "7439f19f",
   "metadata": {},
   "outputs": [
    {
     "data": {
      "text/plain": [
       "<re.Match object; span=(0, 5), match='abbbc'>"
      ]
     },
     "execution_count": 28,
     "metadata": {},
     "output_type": "execute_result"
    }
   ],
   "source": [
    "r.search('abbbc')"
   ]
  },
  {
   "cell_type": "code",
   "execution_count": 29,
   "id": "14e9e666",
   "metadata": {},
   "outputs": [
    {
     "data": {
      "text/plain": [
       "<re.Match object; span=(0, 6), match='abbbbc'>"
      ]
     },
     "execution_count": 29,
     "metadata": {},
     "output_type": "execute_result"
    }
   ],
   "source": [
    "r.search('abbbbc')"
   ]
  },
  {
   "cell_type": "code",
   "execution_count": 30,
   "id": "55837f0a",
   "metadata": {},
   "outputs": [
    {
     "data": {
      "text/plain": [
       "<re.Match object; span=(0, 7), match='abbbbbc'>"
      ]
     },
     "execution_count": 30,
     "metadata": {},
     "output_type": "execute_result"
    }
   ],
   "source": [
    "r.search('abbbbbc')"
   ]
  },
  {
   "cell_type": "code",
   "execution_count": 31,
   "id": "c76a74bd",
   "metadata": {},
   "outputs": [],
   "source": [
    "r.search('abbbbbbc')"
   ]
  },
  {
   "cell_type": "markdown",
   "id": "110de28f",
   "metadata": {},
   "source": [
    "### {숫자, } 기호 (슬라이싱과 비슷)"
   ]
  },
  {
   "cell_type": "code",
   "execution_count": 32,
   "id": "ce3942cb",
   "metadata": {},
   "outputs": [
    {
     "data": {
      "text/plain": [
       "<re.Match object; span=(0, 4), match='abbc'>"
      ]
     },
     "execution_count": 32,
     "metadata": {},
     "output_type": "execute_result"
    }
   ],
   "source": [
    "r = re.compile('ab{2,}c')\n",
    "r.search('abbc')"
   ]
  },
  {
   "cell_type": "code",
   "execution_count": 33,
   "id": "c25ffe7b",
   "metadata": {},
   "outputs": [
    {
     "data": {
      "text/plain": [
       "<re.Match object; span=(0, 32), match='abbbbbbbbbbbbbbbbbbbbbbbbbbbbbbc'>"
      ]
     },
     "execution_count": 33,
     "metadata": {},
     "output_type": "execute_result"
    }
   ],
   "source": [
    "r.search('abbbbbbbbbbbbbbbbbbbbbbbbbbbbbbc')"
   ]
  },
  {
   "cell_type": "code",
   "execution_count": 34,
   "id": "d25866b2",
   "metadata": {},
   "outputs": [
    {
     "data": {
      "text/plain": [
       "<re.Match object; span=(0, 4), match='abbc'>"
      ]
     },
     "execution_count": 34,
     "metadata": {},
     "output_type": "execute_result"
    }
   ],
   "source": [
    "r = re.compile('ab{,2}c')\n",
    "r.search('abbc')"
   ]
  },
  {
   "cell_type": "code",
   "execution_count": 35,
   "id": "4c71dd84",
   "metadata": {},
   "outputs": [],
   "source": [
    "r.search('abbbc')"
   ]
  },
  {
   "cell_type": "code",
   "execution_count": 36,
   "id": "35db5abd",
   "metadata": {},
   "outputs": [
    {
     "data": {
      "text/plain": [
       "<re.Match object; span=(0, 3), match='abc'>"
      ]
     },
     "execution_count": 36,
     "metadata": {},
     "output_type": "execute_result"
    }
   ],
   "source": [
    "r.search('abc')"
   ]
  },
  {
   "cell_type": "code",
   "execution_count": 37,
   "id": "fd5b92f5",
   "metadata": {},
   "outputs": [
    {
     "data": {
      "text/plain": [
       "<re.Match object; span=(0, 2), match='ac'>"
      ]
     },
     "execution_count": 37,
     "metadata": {},
     "output_type": "execute_result"
    }
   ],
   "source": [
    "r.search('ac')"
   ]
  },
  {
   "cell_type": "markdown",
   "id": "0c23967e",
   "metadata": {},
   "source": [
    "### [] 기호 (괄호 안에 있는 문자의 유무)"
   ]
  },
  {
   "cell_type": "code",
   "execution_count": 38,
   "id": "e6fe7588",
   "metadata": {},
   "outputs": [
    {
     "data": {
      "text/plain": [
       "<re.Match object; span=(0, 1), match='a'>"
      ]
     },
     "execution_count": 38,
     "metadata": {},
     "output_type": "execute_result"
    }
   ],
   "source": [
    "r = re.compile('[abc]')\n",
    "r.search('abbc')"
   ]
  },
  {
   "cell_type": "code",
   "execution_count": 39,
   "id": "0036fc24",
   "metadata": {},
   "outputs": [],
   "source": [
    "r.search('d')"
   ]
  },
  {
   "cell_type": "code",
   "execution_count": 40,
   "id": "49a83214",
   "metadata": {},
   "outputs": [
    {
     "data": {
      "text/plain": [
       "<re.Match object; span=(0, 1), match='c'>"
      ]
     },
     "execution_count": 40,
     "metadata": {},
     "output_type": "execute_result"
    }
   ],
   "source": [
    "r.search('cab')"
   ]
  },
  {
   "cell_type": "code",
   "execution_count": 41,
   "id": "b870581c",
   "metadata": {},
   "outputs": [
    {
     "data": {
      "text/plain": [
       "<re.Match object; span=(1, 2), match='c'>"
      ]
     },
     "execution_count": 41,
     "metadata": {},
     "output_type": "execute_result"
    }
   ],
   "source": [
    "r.search('dcba')"
   ]
  },
  {
   "cell_type": "code",
   "execution_count": 42,
   "id": "d4979797",
   "metadata": {},
   "outputs": [
    {
     "data": {
      "text/plain": [
       "<re.Match object; span=(0, 1), match='a'>"
      ]
     },
     "execution_count": 42,
     "metadata": {},
     "output_type": "execute_result"
    }
   ],
   "source": [
    "r = re.compile('[a-z]')  # -로 범위 선정 가능\n",
    "r.search('a')"
   ]
  },
  {
   "cell_type": "code",
   "execution_count": 43,
   "id": "302ec7ea",
   "metadata": {},
   "outputs": [
    {
     "data": {
      "text/plain": [
       "<re.Match object; span=(0, 1), match='b'>"
      ]
     },
     "execution_count": 43,
     "metadata": {},
     "output_type": "execute_result"
    }
   ],
   "source": [
    "r.search('b')"
   ]
  },
  {
   "cell_type": "code",
   "execution_count": 44,
   "id": "c4ac5584",
   "metadata": {},
   "outputs": [
    {
     "data": {
      "text/plain": [
       "<re.Match object; span=(0, 1), match='y'>"
      ]
     },
     "execution_count": 44,
     "metadata": {},
     "output_type": "execute_result"
    }
   ],
   "source": [
    "r.search('y')"
   ]
  },
  {
   "cell_type": "markdown",
   "id": "a1468bac",
   "metadata": {},
   "source": [
    "### [^] 기호 (괄호 내부에 있는 문자가 없는 문자열 인식)"
   ]
  },
  {
   "cell_type": "code",
   "execution_count": 46,
   "id": "c141b40b",
   "metadata": {},
   "outputs": [
    {
     "data": {
      "text/plain": [
       "<re.Match object; span=(0, 1), match='y'>"
      ]
     },
     "execution_count": 46,
     "metadata": {},
     "output_type": "execute_result"
    }
   ],
   "source": [
    "r = re.compile('[^abc]')\n",
    "r.search('y')"
   ]
  },
  {
   "cell_type": "code",
   "execution_count": 47,
   "id": "683f2619",
   "metadata": {},
   "outputs": [],
   "source": [
    "r.search('a')"
   ]
  },
  {
   "cell_type": "markdown",
   "id": "817cdb61",
   "metadata": {},
   "source": [
    "### 함수"
   ]
  },
  {
   "cell_type": "code",
   "execution_count": 48,
   "id": "d8a1efc3",
   "metadata": {},
   "outputs": [
    {
     "data": {
      "text/plain": [
       "<re.Match object; span=(1, 2), match='a'>"
      ]
     },
     "execution_count": 48,
     "metadata": {},
     "output_type": "execute_result"
    }
   ],
   "source": [
    "r = re.compile('[a.c]')  # 조건 설정\n",
    "r.search('data0- aac')  # 조건을 만족하기만 하면 인식"
   ]
  },
  {
   "cell_type": "code",
   "execution_count": 49,
   "id": "ce169649",
   "metadata": {},
   "outputs": [],
   "source": [
    "r.match('data0- aac')  # 시작부터 조건에 맞는지 확인"
   ]
  },
  {
   "cell_type": "code",
   "execution_count": 50,
   "id": "6f52c241",
   "metadata": {},
   "outputs": [
    {
     "data": {
      "text/plain": [
       "['data1', 'data2', 'data3']"
      ]
     },
     "execution_count": 50,
     "metadata": {},
     "output_type": "execute_result"
    }
   ],
   "source": [
    "data = 'data1 data2 data3'\n",
    "re.split(' ', data) # 자르기"
   ]
  },
  {
   "cell_type": "code",
   "execution_count": 57,
   "id": "3b42e543",
   "metadata": {},
   "outputs": [
    {
     "data": {
      "text/plain": [
       "['dat', 'dat', 'dat']"
      ]
     },
     "execution_count": 57,
     "metadata": {},
     "output_type": "execute_result"
    }
   ],
   "source": [
    "re.findall('dat', data)"
   ]
  },
  {
   "cell_type": "code",
   "execution_count": 59,
   "id": "72cdfa96",
   "metadata": {},
   "outputs": [
    {
     "data": {
      "text/plain": [
       "'data1수정data2수정data3'"
      ]
     },
     "execution_count": 59,
     "metadata": {},
     "output_type": "execute_result"
    }
   ],
   "source": [
    "re.sub('\\W+', \"수정\", data)"
   ]
  },
  {
   "cell_type": "code",
   "execution_count": 61,
   "id": "b59602d7",
   "metadata": {},
   "outputs": [],
   "source": [
    "t = \"Don't be fooled by the dark sounding name, Mr. Jone's Orphanage is as cheery as cheery goes for a pastry shop.\""
   ]
  },
  {
   "cell_type": "code",
   "execution_count": 62,
   "id": "3ca77de4",
   "metadata": {},
   "outputs": [
    {
     "data": {
      "text/plain": [
       "['Don',\n",
       " 't',\n",
       " 'be',\n",
       " 'fooled',\n",
       " 'by',\n",
       " 'the',\n",
       " 'dark',\n",
       " 'sounding',\n",
       " 'name',\n",
       " 'Mr',\n",
       " 'Jone',\n",
       " 's',\n",
       " 'Orphanage',\n",
       " 'is',\n",
       " 'as',\n",
       " 'cheery',\n",
       " 'as',\n",
       " 'cheery',\n",
       " 'goes',\n",
       " 'for',\n",
       " 'a',\n",
       " 'pastry',\n",
       " 'shop']"
      ]
     },
     "execution_count": 62,
     "metadata": {},
     "output_type": "execute_result"
    }
   ],
   "source": [
    "from nltk.tokenize import RegexpTokenizer\n",
    "ck1 = RegexpTokenizer('[\\w]+')\n",
    "ck1.tokenize(t)"
   ]
  },
  {
   "cell_type": "code",
   "execution_count": 64,
   "id": "181fe43c",
   "metadata": {},
   "outputs": [
    {
     "data": {
      "text/plain": [
       "['Don',\n",
       " 't',\n",
       " 'be',\n",
       " 'fooled',\n",
       " 'by',\n",
       " 'the',\n",
       " 'dark',\n",
       " 'sounding',\n",
       " 'name',\n",
       " 'Mr',\n",
       " 'Jone',\n",
       " 's',\n",
       " 'Orphanage',\n",
       " 'is',\n",
       " 'as',\n",
       " 'cheery',\n",
       " 'as',\n",
       " 'cheery',\n",
       " 'goes',\n",
       " 'for',\n",
       " 'a',\n",
       " 'pastry',\n",
       " 'shop']"
      ]
     },
     "execution_count": 64,
     "metadata": {},
     "output_type": "execute_result"
    }
   ],
   "source": [
    "ck2 = RegexpTokenizer('\\W+', gaps = True)\n",
    "ck2.tokenize(t)"
   ]
  },
  {
   "cell_type": "code",
   "execution_count": null,
   "id": "9c0cdac7",
   "metadata": {},
   "outputs": [],
   "source": []
  }
 ],
 "metadata": {
  "kernelspec": {
   "display_name": "Python 3 (ipykernel)",
   "language": "python",
   "name": "python3"
  },
  "language_info": {
   "codemirror_mode": {
    "name": "ipython",
    "version": 3
   },
   "file_extension": ".py",
   "mimetype": "text/x-python",
   "name": "python",
   "nbconvert_exporter": "python",
   "pygments_lexer": "ipython3",
   "version": "3.9.7"
  }
 },
 "nbformat": 4,
 "nbformat_minor": 5
}
