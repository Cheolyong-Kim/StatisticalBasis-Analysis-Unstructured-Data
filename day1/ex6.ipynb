{
 "cells": [
  {
   "cell_type": "code",
   "execution_count": 1,
   "id": "22da0124",
   "metadata": {},
   "outputs": [],
   "source": [
    "t = '오늘 수업은 빠르게 시간이 흐른다.'"
   ]
  },
  {
   "cell_type": "code",
   "execution_count": 2,
   "id": "1f713c43",
   "metadata": {},
   "outputs": [],
   "source": [
    "from tensorflow.keras.preprocessing.text import Tokenizer\n",
    "t_k = Tokenizer()"
   ]
  },
  {
   "cell_type": "code",
   "execution_count": 4,
   "id": "4370a4f7",
   "metadata": {},
   "outputs": [
    {
     "data": {
      "text/plain": [
       "{1: '오늘', 2: '수업은', 3: '빠르게', 4: '시간이', 5: '흐른다'}"
      ]
     },
     "execution_count": 4,
     "metadata": {},
     "output_type": "execute_result"
    }
   ],
   "source": [
    "t_k.fit_on_texts([t])\n",
    "t_k.index_word"
   ]
  },
  {
   "cell_type": "code",
   "execution_count": 5,
   "id": "8b912b00",
   "metadata": {},
   "outputs": [
    {
     "data": {
      "text/plain": [
       "[1, 2, 3]"
      ]
     },
     "execution_count": 5,
     "metadata": {},
     "output_type": "execute_result"
    }
   ],
   "source": [
    "t2 = '오늘 수업은 빠르게 끝나고 마무리 된다.'\n",
    "e = t_k.texts_to_sequences([t2])[0]\n",
    "e"
   ]
  },
  {
   "cell_type": "code",
   "execution_count": 6,
   "id": "2e8d23c8",
   "metadata": {},
   "outputs": [
    {
     "data": {
      "text/plain": [
       "array([[0., 1., 0., 0.],\n",
       "       [0., 0., 1., 0.],\n",
       "       [0., 0., 0., 1.]], dtype=float32)"
      ]
     },
     "execution_count": 6,
     "metadata": {},
     "output_type": "execute_result"
    }
   ],
   "source": [
    "from tensorflow.keras.utils import to_categorical\n",
    "end_d = to_categorical(e)\n",
    "end_d"
   ]
  },
  {
   "cell_type": "code",
   "execution_count": null,
   "id": "6d31d63a",
   "metadata": {},
   "outputs": [],
   "source": []
  }
 ],
 "metadata": {
  "kernelspec": {
   "display_name": "Python 3 (ipykernel)",
   "language": "python",
   "name": "python3"
  },
  "language_info": {
   "codemirror_mode": {
    "name": "ipython",
    "version": 3
   },
   "file_extension": ".py",
   "mimetype": "text/x-python",
   "name": "python",
   "nbconvert_exporter": "python",
   "pygments_lexer": "ipython3",
   "version": "3.9.7"
  }
 },
 "nbformat": 4,
 "nbformat_minor": 5
}
