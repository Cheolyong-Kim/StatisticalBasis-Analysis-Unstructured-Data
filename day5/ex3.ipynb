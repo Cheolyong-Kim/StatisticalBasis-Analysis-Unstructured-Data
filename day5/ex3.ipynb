{
 "cells": [
  {
   "cell_type": "code",
   "execution_count": 1,
   "id": "f7834e15",
   "metadata": {},
   "outputs": [
    {
     "data": {
      "text/plain": [
       "{'신문': 1, '전자': 2, '삼성': 3, '주식': 4, '한화': 5, '기록': 6}"
      ]
     },
     "execution_count": 1,
     "metadata": {},
     "output_type": "execute_result"
    }
   ],
   "source": [
    "from tensorflow.keras.preprocessing.text import Tokenizer\n",
    "\n",
    "t_data = ['신문 전자 삼성 전자 주식 신문', '삼성 신문', '한화 신문', '기록 신문']\n",
    "tk = Tokenizer()\n",
    "tk.fit_on_texts(t_data)\n",
    "tk.word_index"
   ]
  },
  {
   "cell_type": "code",
   "execution_count": 2,
   "id": "6f9d875b",
   "metadata": {},
   "outputs": [
    {
     "data": {
      "text/plain": [
       "array([[0., 1., 1., 1., 1., 0., 0.],\n",
       "       [0., 1., 0., 1., 0., 0., 0.],\n",
       "       [0., 1., 0., 0., 0., 1., 0.],\n",
       "       [0., 1., 0., 0., 0., 0., 1.]])"
      ]
     },
     "execution_count": 2,
     "metadata": {},
     "output_type": "execute_result"
    }
   ],
   "source": [
    "tk.texts_to_matrix(t_data)"
   ]
  },
  {
   "cell_type": "code",
   "execution_count": 3,
   "id": "dd631a9f",
   "metadata": {},
   "outputs": [
    {
     "data": {
      "text/plain": [
       "array([[0., 2., 2., 1., 1., 0., 0.],\n",
       "       [0., 1., 0., 1., 0., 0., 0.],\n",
       "       [0., 1., 0., 0., 0., 1., 0.],\n",
       "       [0., 1., 0., 0., 0., 0., 1.]])"
      ]
     },
     "execution_count": 3,
     "metadata": {},
     "output_type": "execute_result"
    }
   ],
   "source": [
    "tk.texts_to_matrix(t_data, mode = 'count')"
   ]
  },
  {
   "cell_type": "code",
   "execution_count": 4,
   "id": "bd1e905c",
   "metadata": {},
   "outputs": [
    {
     "data": {
      "text/plain": [
       "array([[0.        , 0.99520933, 1.8601123 , 0.84729786, 1.09861229,\n",
       "        0.        , 0.        ],\n",
       "       [0.        , 0.58778666, 0.        , 0.84729786, 0.        ,\n",
       "        0.        , 0.        ],\n",
       "       [0.        , 0.58778666, 0.        , 0.        , 0.        ,\n",
       "        1.09861229, 0.        ],\n",
       "       [0.        , 0.58778666, 0.        , 0.        , 0.        ,\n",
       "        0.        , 1.09861229]])"
      ]
     },
     "execution_count": 4,
     "metadata": {},
     "output_type": "execute_result"
    }
   ],
   "source": [
    "tk.texts_to_matrix(t_data, mode = 'tfidf')"
   ]
  },
  {
   "cell_type": "code",
   "execution_count": 5,
   "id": "4afd1aa5",
   "metadata": {},
   "outputs": [],
   "source": [
    "from sklearn.datasets import fetch_20newsgroups\n",
    "import pandas as pd\n",
    "from tensorflow.keras.preprocessing.text import Tokenizer\n",
    "from tensorflow.keras.utils import to_categorical\n",
    "import matplotlib.pyplot as plt"
   ]
  },
  {
   "cell_type": "code",
   "execution_count": 6,
   "id": "2da9033e",
   "metadata": {},
   "outputs": [
    {
     "name": "stdout",
     "output_type": "stream",
     "text": [
      "dict_keys(['data', 'filenames', 'target_names', 'target', 'DESCR'])\n"
     ]
    }
   ],
   "source": [
    "w_data = fetch_20newsgroups()\n",
    "print(w_data.keys())\n",
    "data = w_data.data"
   ]
  },
  {
   "cell_type": "code",
   "execution_count": 7,
   "id": "c3c86260",
   "metadata": {},
   "outputs": [
    {
     "data": {
      "text/plain": [
       "11314"
      ]
     },
     "execution_count": 7,
     "metadata": {},
     "output_type": "execute_result"
    }
   ],
   "source": [
    "len(data)"
   ]
  },
  {
   "cell_type": "code",
   "execution_count": 8,
   "id": "a6843be6",
   "metadata": {},
   "outputs": [
    {
     "data": {
      "text/plain": [
       "20"
      ]
     },
     "execution_count": 8,
     "metadata": {},
     "output_type": "execute_result"
    }
   ],
   "source": [
    "len(w_data.target_names)"
   ]
  },
  {
   "cell_type": "code",
   "execution_count": 9,
   "id": "946154ed",
   "metadata": {},
   "outputs": [],
   "source": [
    "X_data = w_data.data\n",
    "Y_data = w_data.target"
   ]
  },
  {
   "cell_type": "code",
   "execution_count": 10,
   "id": "df40cdd2",
   "metadata": {},
   "outputs": [
    {
     "data": {
      "text/plain": [
       "array([ 0,  1,  2,  3,  4,  5,  6,  7,  8,  9, 10, 11, 12, 13, 14, 15, 16,\n",
       "       17, 18, 19])"
      ]
     },
     "execution_count": 10,
     "metadata": {},
     "output_type": "execute_result"
    }
   ],
   "source": [
    "import numpy as np\n",
    "\n",
    "np.unique(Y_data)"
   ]
  },
  {
   "cell_type": "code",
   "execution_count": 11,
   "id": "b6e60aa5",
   "metadata": {},
   "outputs": [
    {
     "data": {
      "text/plain": [
       "11314"
      ]
     },
     "execution_count": 11,
     "metadata": {},
     "output_type": "execute_result"
    }
   ],
   "source": [
    "len(np.unique(X_data))"
   ]
  },
  {
   "cell_type": "code",
   "execution_count": 12,
   "id": "7bf95727",
   "metadata": {},
   "outputs": [
    {
     "data": {
      "text/html": [
       "<div>\n",
       "<style scoped>\n",
       "    .dataframe tbody tr th:only-of-type {\n",
       "        vertical-align: middle;\n",
       "    }\n",
       "\n",
       "    .dataframe tbody tr th {\n",
       "        vertical-align: top;\n",
       "    }\n",
       "\n",
       "    .dataframe thead th {\n",
       "        text-align: right;\n",
       "    }\n",
       "</style>\n",
       "<table border=\"1\" class=\"dataframe\">\n",
       "  <thead>\n",
       "    <tr style=\"text-align: right;\">\n",
       "      <th></th>\n",
       "      <th>X</th>\n",
       "      <th>Y</th>\n",
       "    </tr>\n",
       "  </thead>\n",
       "  <tbody>\n",
       "    <tr>\n",
       "      <th>0</th>\n",
       "      <td>From: lerxst@wam.umd.edu (where's my thing)\\nS...</td>\n",
       "      <td>7</td>\n",
       "    </tr>\n",
       "    <tr>\n",
       "      <th>1</th>\n",
       "      <td>From: guykuo@carson.u.washington.edu (Guy Kuo)...</td>\n",
       "      <td>4</td>\n",
       "    </tr>\n",
       "    <tr>\n",
       "      <th>2</th>\n",
       "      <td>From: twillis@ec.ecn.purdue.edu (Thomas E Will...</td>\n",
       "      <td>4</td>\n",
       "    </tr>\n",
       "    <tr>\n",
       "      <th>3</th>\n",
       "      <td>From: jgreen@amber (Joe Green)\\nSubject: Re: W...</td>\n",
       "      <td>1</td>\n",
       "    </tr>\n",
       "    <tr>\n",
       "      <th>4</th>\n",
       "      <td>From: jcm@head-cfa.harvard.edu (Jonathan McDow...</td>\n",
       "      <td>14</td>\n",
       "    </tr>\n",
       "    <tr>\n",
       "      <th>...</th>\n",
       "      <td>...</td>\n",
       "      <td>...</td>\n",
       "    </tr>\n",
       "    <tr>\n",
       "      <th>11309</th>\n",
       "      <td>From: jim.zisfein@factory.com (Jim Zisfein) \\n...</td>\n",
       "      <td>13</td>\n",
       "    </tr>\n",
       "    <tr>\n",
       "      <th>11310</th>\n",
       "      <td>From: ebodin@pearl.tufts.edu\\nSubject: Screen ...</td>\n",
       "      <td>4</td>\n",
       "    </tr>\n",
       "    <tr>\n",
       "      <th>11311</th>\n",
       "      <td>From: westes@netcom.com (Will Estes)\\nSubject:...</td>\n",
       "      <td>3</td>\n",
       "    </tr>\n",
       "    <tr>\n",
       "      <th>11312</th>\n",
       "      <td>From: steve@hcrlgw (Steven Collins)\\nSubject: ...</td>\n",
       "      <td>1</td>\n",
       "    </tr>\n",
       "    <tr>\n",
       "      <th>11313</th>\n",
       "      <td>From: gunning@cco.caltech.edu (Kevin J. Gunnin...</td>\n",
       "      <td>8</td>\n",
       "    </tr>\n",
       "  </tbody>\n",
       "</table>\n",
       "<p>11314 rows × 2 columns</p>\n",
       "</div>"
      ],
      "text/plain": [
       "                                                       X   Y\n",
       "0      From: lerxst@wam.umd.edu (where's my thing)\\nS...   7\n",
       "1      From: guykuo@carson.u.washington.edu (Guy Kuo)...   4\n",
       "2      From: twillis@ec.ecn.purdue.edu (Thomas E Will...   4\n",
       "3      From: jgreen@amber (Joe Green)\\nSubject: Re: W...   1\n",
       "4      From: jcm@head-cfa.harvard.edu (Jonathan McDow...  14\n",
       "...                                                  ...  ..\n",
       "11309  From: jim.zisfein@factory.com (Jim Zisfein) \\n...  13\n",
       "11310  From: ebodin@pearl.tufts.edu\\nSubject: Screen ...   4\n",
       "11311  From: westes@netcom.com (Will Estes)\\nSubject:...   3\n",
       "11312  From: steve@hcrlgw (Steven Collins)\\nSubject: ...   1\n",
       "11313  From: gunning@cco.caltech.edu (Kevin J. Gunnin...   8\n",
       "\n",
       "[11314 rows x 2 columns]"
      ]
     },
     "execution_count": 12,
     "metadata": {},
     "output_type": "execute_result"
    }
   ],
   "source": [
    "all_data = pd.DataFrame()\n",
    "all_data['X'] = X_data\n",
    "all_data['Y'] = Y_data\n",
    "all_data"
   ]
  },
  {
   "cell_type": "code",
   "execution_count": 13,
   "id": "a331bdb6",
   "metadata": {},
   "outputs": [
    {
     "data": {
      "text/plain": [
       "(75154, 125)"
      ]
     },
     "execution_count": 13,
     "metadata": {},
     "output_type": "execute_result"
    }
   ],
   "source": [
    "n_l = []\n",
    "for i in X_data:\n",
    "    n = len(i)\n",
    "    n_l.append(n)\n",
    "\n",
    "max(n_l), min(n_l)"
   ]
  },
  {
   "cell_type": "code",
   "execution_count": 14,
   "id": "f6ce8e46",
   "metadata": {},
   "outputs": [
    {
     "data": {
      "text/plain": [
       "str"
      ]
     },
     "execution_count": 14,
     "metadata": {},
     "output_type": "execute_result"
    }
   ],
   "source": [
    "type(X_data[0])"
   ]
  },
  {
   "cell_type": "code",
   "execution_count": 15,
   "id": "4805c349",
   "metadata": {},
   "outputs": [
    {
     "data": {
      "text/plain": [
       "134142"
      ]
     },
     "execution_count": 15,
     "metadata": {},
     "output_type": "execute_result"
    }
   ],
   "source": [
    "tk = Tokenizer(num_words = 10000)\n",
    "tk.fit_on_texts(X_data)\n",
    "len(tk.word_index)"
   ]
  },
  {
   "cell_type": "code",
   "execution_count": 16,
   "id": "67ada4ae",
   "metadata": {},
   "outputs": [
    {
     "data": {
      "text/plain": [
       "array([[0., 1., 1., ..., 0., 0., 0.],\n",
       "       [0., 1., 1., ..., 0., 0., 0.],\n",
       "       [0., 1., 1., ..., 0., 0., 0.],\n",
       "       ...,\n",
       "       [0., 1., 1., ..., 0., 0., 0.],\n",
       "       [0., 1., 1., ..., 0., 0., 0.],\n",
       "       [0., 0., 0., ..., 0., 0., 0.]])"
      ]
     },
     "execution_count": 16,
     "metadata": {},
     "output_type": "execute_result"
    }
   ],
   "source": [
    "t_x_data = tk.texts_to_matrix(X_data)\n",
    "t_x_data"
   ]
  },
  {
   "cell_type": "code",
   "execution_count": 17,
   "id": "b8c77ca3",
   "metadata": {},
   "outputs": [
    {
     "data": {
      "text/plain": [
       "array([[ 0.,  6.,  2., ...,  0.,  0.,  0.],\n",
       "       [ 0.,  4.,  1., ...,  0.,  0.,  0.],\n",
       "       [ 0., 21.,  6., ...,  0.,  0.,  0.],\n",
       "       ...,\n",
       "       [ 0., 12.,  1., ...,  0.,  0.,  0.],\n",
       "       [ 0.,  3.,  2., ...,  0.,  0.,  0.],\n",
       "       [ 0.,  0.,  0., ...,  0.,  0.,  0.]])"
      ]
     },
     "execution_count": 17,
     "metadata": {},
     "output_type": "execute_result"
    }
   ],
   "source": [
    "t1_x_data = tk.texts_to_matrix(X_data, mode = 'count')\n",
    "t1_x_data"
   ]
  },
  {
   "cell_type": "code",
   "execution_count": 18,
   "id": "57543f75",
   "metadata": {},
   "outputs": [
    {
     "data": {
      "text/plain": [
       "array([[0.        , 2.03303026, 1.26800369, ..., 0.        , 0.        ,\n",
       "        0.        ],\n",
       "       [0.        , 1.73776026, 0.74890341, ..., 0.        , 0.        ,\n",
       "        0.        ],\n",
       "       [0.        , 2.94532413, 2.09075818, ..., 0.        , 0.        ,\n",
       "        0.        ],\n",
       "       ...,\n",
       "       [0.        , 2.53779767, 0.74890341, ..., 0.        , 0.        ,\n",
       "        0.        ],\n",
       "       [0.        , 1.52826285, 1.26800369, ..., 0.        , 0.        ,\n",
       "        0.        ],\n",
       "       [0.        , 0.        , 0.        , ..., 0.        , 0.        ,\n",
       "        0.        ]])"
      ]
     },
     "execution_count": 18,
     "metadata": {},
     "output_type": "execute_result"
    }
   ],
   "source": [
    "t2_x_data = tk.texts_to_matrix(X_data, mode = 'tfidf')\n",
    "t2_x_data"
   ]
  },
  {
   "cell_type": "code",
   "execution_count": 19,
   "id": "127c282f",
   "metadata": {},
   "outputs": [
    {
     "data": {
      "text/plain": [
       "array([[0., 0., 0., ..., 0., 0., 0.],\n",
       "       [0., 0., 0., ..., 0., 0., 0.],\n",
       "       [0., 0., 0., ..., 0., 0., 0.],\n",
       "       ...,\n",
       "       [0., 0., 0., ..., 0., 0., 0.],\n",
       "       [0., 1., 0., ..., 0., 0., 0.],\n",
       "       [0., 0., 0., ..., 0., 0., 0.]], dtype=float32)"
      ]
     },
     "execution_count": 19,
     "metadata": {},
     "output_type": "execute_result"
    }
   ],
   "source": [
    "Y_data = to_categorical(Y_data)\n",
    "Y_data"
   ]
  },
  {
   "cell_type": "code",
   "execution_count": 55,
   "id": "25da893d",
   "metadata": {},
   "outputs": [],
   "source": [
    "X_data1 = t_x_data\n",
    "X_data2 = t1_x_data\n",
    "X_data3 = t2_x_data"
   ]
  },
  {
   "cell_type": "code",
   "execution_count": 21,
   "id": "93696fa0",
   "metadata": {},
   "outputs": [],
   "source": [
    "from sklearn.model_selection import train_test_split\n",
    "\n",
    "# 단어 유무 특징을 갖는 data\n",
    "t_x1, tt_x1, t_y1, tt_y1  = train_test_split(X_data1, Y_data, random_state = 1)"
   ]
  },
  {
   "cell_type": "code",
   "execution_count": 22,
   "id": "06163587",
   "metadata": {},
   "outputs": [],
   "source": [
    "# 단어 빈도수를 특징으로 갖는 data\n",
    "t_x2, tt_x2, t_y2, tt_y2  = train_test_split(X_data2, Y_data, random_state = 1)"
   ]
  },
  {
   "cell_type": "code",
   "execution_count": 23,
   "id": "01537131",
   "metadata": {},
   "outputs": [],
   "source": [
    "# 단어 가중치를 특징으로 갖는 data\n",
    "t_x3, tt_x3, t_y3, tt_y3  = train_test_split(X_data3, Y_data, random_state = 1)"
   ]
  },
  {
   "cell_type": "code",
   "execution_count": 24,
   "id": "d73f8804",
   "metadata": {},
   "outputs": [
    {
     "data": {
      "text/html": [
       "<div>\n",
       "<style scoped>\n",
       "    .dataframe tbody tr th:only-of-type {\n",
       "        vertical-align: middle;\n",
       "    }\n",
       "\n",
       "    .dataframe tbody tr th {\n",
       "        vertical-align: top;\n",
       "    }\n",
       "\n",
       "    .dataframe thead th {\n",
       "        text-align: right;\n",
       "    }\n",
       "</style>\n",
       "<table border=\"1\" class=\"dataframe\">\n",
       "  <thead>\n",
       "    <tr style=\"text-align: right;\">\n",
       "      <th></th>\n",
       "      <th>0</th>\n",
       "      <th>1</th>\n",
       "      <th>2</th>\n",
       "      <th>3</th>\n",
       "      <th>4</th>\n",
       "      <th>5</th>\n",
       "      <th>6</th>\n",
       "      <th>7</th>\n",
       "      <th>8</th>\n",
       "      <th>9</th>\n",
       "      <th>...</th>\n",
       "      <th>9991</th>\n",
       "      <th>9992</th>\n",
       "      <th>9993</th>\n",
       "      <th>9994</th>\n",
       "      <th>9995</th>\n",
       "      <th>9996</th>\n",
       "      <th>9997</th>\n",
       "      <th>9998</th>\n",
       "      <th>9999</th>\n",
       "      <th>Y</th>\n",
       "    </tr>\n",
       "  </thead>\n",
       "  <tbody>\n",
       "    <tr>\n",
       "      <th>0</th>\n",
       "      <td>0.0</td>\n",
       "      <td>2.033030</td>\n",
       "      <td>1.268004</td>\n",
       "      <td>1.600426</td>\n",
       "      <td>1.595462</td>\n",
       "      <td>0.0</td>\n",
       "      <td>0.000000</td>\n",
       "      <td>0.782792</td>\n",
       "      <td>1.687681</td>\n",
       "      <td>1.762122</td>\n",
       "      <td>...</td>\n",
       "      <td>0.0</td>\n",
       "      <td>0.0</td>\n",
       "      <td>0.0</td>\n",
       "      <td>0.0</td>\n",
       "      <td>0.0</td>\n",
       "      <td>0.0</td>\n",
       "      <td>0.0</td>\n",
       "      <td>0.0</td>\n",
       "      <td>0.0</td>\n",
       "      <td>7</td>\n",
       "    </tr>\n",
       "    <tr>\n",
       "      <th>1</th>\n",
       "      <td>0.0</td>\n",
       "      <td>1.737760</td>\n",
       "      <td>0.748903</td>\n",
       "      <td>1.600426</td>\n",
       "      <td>1.287208</td>\n",
       "      <td>0.0</td>\n",
       "      <td>1.657382</td>\n",
       "      <td>0.782792</td>\n",
       "      <td>1.361610</td>\n",
       "      <td>0.000000</td>\n",
       "      <td>...</td>\n",
       "      <td>0.0</td>\n",
       "      <td>0.0</td>\n",
       "      <td>0.0</td>\n",
       "      <td>0.0</td>\n",
       "      <td>0.0</td>\n",
       "      <td>0.0</td>\n",
       "      <td>0.0</td>\n",
       "      <td>0.0</td>\n",
       "      <td>0.0</td>\n",
       "      <td>4</td>\n",
       "    </tr>\n",
       "    <tr>\n",
       "      <th>2</th>\n",
       "      <td>0.0</td>\n",
       "      <td>2.945324</td>\n",
       "      <td>2.090758</td>\n",
       "      <td>2.129029</td>\n",
       "      <td>2.649386</td>\n",
       "      <td>0.0</td>\n",
       "      <td>2.060808</td>\n",
       "      <td>2.042648</td>\n",
       "      <td>2.476453</td>\n",
       "      <td>2.191043</td>\n",
       "      <td>...</td>\n",
       "      <td>0.0</td>\n",
       "      <td>0.0</td>\n",
       "      <td>0.0</td>\n",
       "      <td>0.0</td>\n",
       "      <td>0.0</td>\n",
       "      <td>0.0</td>\n",
       "      <td>0.0</td>\n",
       "      <td>0.0</td>\n",
       "      <td>0.0</td>\n",
       "      <td>4</td>\n",
       "    </tr>\n",
       "    <tr>\n",
       "      <th>3</th>\n",
       "      <td>0.0</td>\n",
       "      <td>1.737760</td>\n",
       "      <td>0.748903</td>\n",
       "      <td>0.762612</td>\n",
       "      <td>0.760246</td>\n",
       "      <td>0.0</td>\n",
       "      <td>0.000000</td>\n",
       "      <td>0.782792</td>\n",
       "      <td>0.000000</td>\n",
       "      <td>0.839661</td>\n",
       "      <td>...</td>\n",
       "      <td>0.0</td>\n",
       "      <td>0.0</td>\n",
       "      <td>0.0</td>\n",
       "      <td>0.0</td>\n",
       "      <td>0.0</td>\n",
       "      <td>0.0</td>\n",
       "      <td>0.0</td>\n",
       "      <td>0.0</td>\n",
       "      <td>0.0</td>\n",
       "      <td>1</td>\n",
       "    </tr>\n",
       "    <tr>\n",
       "      <th>4</th>\n",
       "      <td>0.0</td>\n",
       "      <td>2.145287</td>\n",
       "      <td>0.748903</td>\n",
       "      <td>0.762612</td>\n",
       "      <td>1.595462</td>\n",
       "      <td>0.0</td>\n",
       "      <td>1.337166</td>\n",
       "      <td>1.867973</td>\n",
       "      <td>0.804189</td>\n",
       "      <td>2.003678</td>\n",
       "      <td>...</td>\n",
       "      <td>0.0</td>\n",
       "      <td>0.0</td>\n",
       "      <td>0.0</td>\n",
       "      <td>0.0</td>\n",
       "      <td>0.0</td>\n",
       "      <td>0.0</td>\n",
       "      <td>0.0</td>\n",
       "      <td>0.0</td>\n",
       "      <td>0.0</td>\n",
       "      <td>14</td>\n",
       "    </tr>\n",
       "    <tr>\n",
       "      <th>...</th>\n",
       "      <td>...</td>\n",
       "      <td>...</td>\n",
       "      <td>...</td>\n",
       "      <td>...</td>\n",
       "      <td>...</td>\n",
       "      <td>...</td>\n",
       "      <td>...</td>\n",
       "      <td>...</td>\n",
       "      <td>...</td>\n",
       "      <td>...</td>\n",
       "      <td>...</td>\n",
       "      <td>...</td>\n",
       "      <td>...</td>\n",
       "      <td>...</td>\n",
       "      <td>...</td>\n",
       "      <td>...</td>\n",
       "      <td>...</td>\n",
       "      <td>...</td>\n",
       "      <td>...</td>\n",
       "      <td>...</td>\n",
       "      <td>...</td>\n",
       "    </tr>\n",
       "    <tr>\n",
       "      <th>11309</th>\n",
       "      <td>0.0</td>\n",
       "      <td>2.474434</td>\n",
       "      <td>2.306204</td>\n",
       "      <td>1.600426</td>\n",
       "      <td>2.710238</td>\n",
       "      <td>0.0</td>\n",
       "      <td>2.431994</td>\n",
       "      <td>1.642778</td>\n",
       "      <td>2.245102</td>\n",
       "      <td>2.191043</td>\n",
       "      <td>...</td>\n",
       "      <td>0.0</td>\n",
       "      <td>0.0</td>\n",
       "      <td>0.0</td>\n",
       "      <td>0.0</td>\n",
       "      <td>0.0</td>\n",
       "      <td>0.0</td>\n",
       "      <td>0.0</td>\n",
       "      <td>0.0</td>\n",
       "      <td>0.0</td>\n",
       "      <td>13</td>\n",
       "    </tr>\n",
       "    <tr>\n",
       "      <th>11310</th>\n",
       "      <td>0.0</td>\n",
       "      <td>2.242528</td>\n",
       "      <td>0.748903</td>\n",
       "      <td>0.762612</td>\n",
       "      <td>2.341133</td>\n",
       "      <td>0.0</td>\n",
       "      <td>1.337166</td>\n",
       "      <td>0.782792</td>\n",
       "      <td>1.919032</td>\n",
       "      <td>0.000000</td>\n",
       "      <td>...</td>\n",
       "      <td>0.0</td>\n",
       "      <td>0.0</td>\n",
       "      <td>0.0</td>\n",
       "      <td>0.0</td>\n",
       "      <td>0.0</td>\n",
       "      <td>0.0</td>\n",
       "      <td>0.0</td>\n",
       "      <td>0.0</td>\n",
       "      <td>0.0</td>\n",
       "      <td>4</td>\n",
       "    </tr>\n",
       "    <tr>\n",
       "      <th>11311</th>\n",
       "      <td>0.0</td>\n",
       "      <td>2.537798</td>\n",
       "      <td>0.748903</td>\n",
       "      <td>1.600426</td>\n",
       "      <td>1.983815</td>\n",
       "      <td>0.0</td>\n",
       "      <td>1.657382</td>\n",
       "      <td>1.642778</td>\n",
       "      <td>1.361610</td>\n",
       "      <td>0.000000</td>\n",
       "      <td>...</td>\n",
       "      <td>0.0</td>\n",
       "      <td>0.0</td>\n",
       "      <td>0.0</td>\n",
       "      <td>0.0</td>\n",
       "      <td>0.0</td>\n",
       "      <td>0.0</td>\n",
       "      <td>0.0</td>\n",
       "      <td>0.0</td>\n",
       "      <td>0.0</td>\n",
       "      <td>3</td>\n",
       "    </tr>\n",
       "    <tr>\n",
       "      <th>11312</th>\n",
       "      <td>0.0</td>\n",
       "      <td>1.528263</td>\n",
       "      <td>1.268004</td>\n",
       "      <td>0.000000</td>\n",
       "      <td>2.122424</td>\n",
       "      <td>0.0</td>\n",
       "      <td>1.884580</td>\n",
       "      <td>1.867973</td>\n",
       "      <td>1.919032</td>\n",
       "      <td>2.003678</td>\n",
       "      <td>...</td>\n",
       "      <td>0.0</td>\n",
       "      <td>0.0</td>\n",
       "      <td>0.0</td>\n",
       "      <td>0.0</td>\n",
       "      <td>0.0</td>\n",
       "      <td>0.0</td>\n",
       "      <td>0.0</td>\n",
       "      <td>0.0</td>\n",
       "      <td>0.0</td>\n",
       "      <td>1</td>\n",
       "    </tr>\n",
       "    <tr>\n",
       "      <th>11313</th>\n",
       "      <td>0.0</td>\n",
       "      <td>0.000000</td>\n",
       "      <td>0.000000</td>\n",
       "      <td>0.762612</td>\n",
       "      <td>0.000000</td>\n",
       "      <td>0.0</td>\n",
       "      <td>1.337166</td>\n",
       "      <td>0.000000</td>\n",
       "      <td>0.000000</td>\n",
       "      <td>0.000000</td>\n",
       "      <td>...</td>\n",
       "      <td>0.0</td>\n",
       "      <td>0.0</td>\n",
       "      <td>0.0</td>\n",
       "      <td>0.0</td>\n",
       "      <td>0.0</td>\n",
       "      <td>0.0</td>\n",
       "      <td>0.0</td>\n",
       "      <td>0.0</td>\n",
       "      <td>0.0</td>\n",
       "      <td>8</td>\n",
       "    </tr>\n",
       "  </tbody>\n",
       "</table>\n",
       "<p>11314 rows × 10001 columns</p>\n",
       "</div>"
      ],
      "text/plain": [
       "         0         1         2         3         4    5         6         7  \\\n",
       "0      0.0  2.033030  1.268004  1.600426  1.595462  0.0  0.000000  0.782792   \n",
       "1      0.0  1.737760  0.748903  1.600426  1.287208  0.0  1.657382  0.782792   \n",
       "2      0.0  2.945324  2.090758  2.129029  2.649386  0.0  2.060808  2.042648   \n",
       "3      0.0  1.737760  0.748903  0.762612  0.760246  0.0  0.000000  0.782792   \n",
       "4      0.0  2.145287  0.748903  0.762612  1.595462  0.0  1.337166  1.867973   \n",
       "...    ...       ...       ...       ...       ...  ...       ...       ...   \n",
       "11309  0.0  2.474434  2.306204  1.600426  2.710238  0.0  2.431994  1.642778   \n",
       "11310  0.0  2.242528  0.748903  0.762612  2.341133  0.0  1.337166  0.782792   \n",
       "11311  0.0  2.537798  0.748903  1.600426  1.983815  0.0  1.657382  1.642778   \n",
       "11312  0.0  1.528263  1.268004  0.000000  2.122424  0.0  1.884580  1.867973   \n",
       "11313  0.0  0.000000  0.000000  0.762612  0.000000  0.0  1.337166  0.000000   \n",
       "\n",
       "              8         9  ...  9991  9992  9993  9994  9995  9996  9997  \\\n",
       "0      1.687681  1.762122  ...   0.0   0.0   0.0   0.0   0.0   0.0   0.0   \n",
       "1      1.361610  0.000000  ...   0.0   0.0   0.0   0.0   0.0   0.0   0.0   \n",
       "2      2.476453  2.191043  ...   0.0   0.0   0.0   0.0   0.0   0.0   0.0   \n",
       "3      0.000000  0.839661  ...   0.0   0.0   0.0   0.0   0.0   0.0   0.0   \n",
       "4      0.804189  2.003678  ...   0.0   0.0   0.0   0.0   0.0   0.0   0.0   \n",
       "...         ...       ...  ...   ...   ...   ...   ...   ...   ...   ...   \n",
       "11309  2.245102  2.191043  ...   0.0   0.0   0.0   0.0   0.0   0.0   0.0   \n",
       "11310  1.919032  0.000000  ...   0.0   0.0   0.0   0.0   0.0   0.0   0.0   \n",
       "11311  1.361610  0.000000  ...   0.0   0.0   0.0   0.0   0.0   0.0   0.0   \n",
       "11312  1.919032  2.003678  ...   0.0   0.0   0.0   0.0   0.0   0.0   0.0   \n",
       "11313  0.000000  0.000000  ...   0.0   0.0   0.0   0.0   0.0   0.0   0.0   \n",
       "\n",
       "       9998  9999   Y  \n",
       "0       0.0   0.0   7  \n",
       "1       0.0   0.0   4  \n",
       "2       0.0   0.0   4  \n",
       "3       0.0   0.0   1  \n",
       "4       0.0   0.0  14  \n",
       "...     ...   ...  ..  \n",
       "11309   0.0   0.0  13  \n",
       "11310   0.0   0.0   4  \n",
       "11311   0.0   0.0   3  \n",
       "11312   0.0   0.0   1  \n",
       "11313   0.0   0.0   8  \n",
       "\n",
       "[11314 rows x 10001 columns]"
      ]
     },
     "execution_count": 24,
     "metadata": {},
     "output_type": "execute_result"
    }
   ],
   "source": [
    "w_all_data = pd.DataFrame(X_data3)\n",
    "w_all_data['Y'] = w_data.target\n",
    "w_all_data"
   ]
  },
  {
   "cell_type": "code",
   "execution_count": 25,
   "id": "e0704130",
   "metadata": {},
   "outputs": [],
   "source": [
    "from tensorflow.keras.models import Sequential\n",
    "from tensorflow.keras.layers import Dense, Dropout"
   ]
  },
  {
   "cell_type": "code",
   "execution_count": 26,
   "id": "9c879f24",
   "metadata": {},
   "outputs": [
    {
     "data": {
      "text/plain": [
       "(8485, 10000)"
      ]
     },
     "execution_count": 26,
     "metadata": {},
     "output_type": "execute_result"
    }
   ],
   "source": [
    "t_x1.shape"
   ]
  },
  {
   "cell_type": "code",
   "execution_count": 27,
   "id": "77a869c2",
   "metadata": {},
   "outputs": [
    {
     "name": "stdout",
     "output_type": "stream",
     "text": [
      "Epoch 1/10\n",
      "266/266 [==============================] - 12s 44ms/step - loss: 1.9321 - accuracy: 0.4372 - val_loss: 0.6959 - val_accuracy: 0.8476\n",
      "Epoch 2/10\n",
      "266/266 [==============================] - 8s 29ms/step - loss: 0.6400 - accuracy: 0.8205 - val_loss: 0.4224 - val_accuracy: 0.8879\n",
      "Epoch 3/10\n",
      "266/266 [==============================] - 7s 27ms/step - loss: 0.3332 - accuracy: 0.9113 - val_loss: 0.3816 - val_accuracy: 0.8968\n",
      "Epoch 4/10\n",
      "266/266 [==============================] - 7s 25ms/step - loss: 0.1882 - accuracy: 0.9512 - val_loss: 0.3674 - val_accuracy: 0.8986\n",
      "Epoch 5/10\n",
      "266/266 [==============================] - 6s 24ms/step - loss: 0.1403 - accuracy: 0.9678 - val_loss: 0.3717 - val_accuracy: 0.9039\n",
      "Epoch 6/10\n",
      "266/266 [==============================] - 7s 25ms/step - loss: 0.1116 - accuracy: 0.9744 - val_loss: 0.3795 - val_accuracy: 0.9035\n",
      "Epoch 7/10\n",
      "266/266 [==============================] - 7s 28ms/step - loss: 0.0959 - accuracy: 0.9765 - val_loss: 0.4101 - val_accuracy: 0.8996\n",
      "Epoch 8/10\n",
      "266/266 [==============================] - 7s 28ms/step - loss: 0.0647 - accuracy: 0.9842 - val_loss: 0.3924 - val_accuracy: 0.9067\n",
      "Epoch 9/10\n",
      "266/266 [==============================] - 7s 26ms/step - loss: 0.0619 - accuracy: 0.9864 - val_loss: 0.3936 - val_accuracy: 0.9081\n",
      "Epoch 10/10\n",
      "266/266 [==============================] - 6s 24ms/step - loss: 0.0872 - accuracy: 0.9821 - val_loss: 0.4298 - val_accuracy: 0.9031\n"
     ]
    }
   ],
   "source": [
    "m = Sequential()\n",
    "m.add(Dense(256, input_shape = (10000, ), activation = 'relu'))\n",
    "m.add(Dropout(0.5))\n",
    "m.add(Dense(128, activation = 'relu'))\n",
    "m.add(Dropout(0.5))\n",
    "m.add(Dense(20, activation = 'softmax'))\n",
    "m.compile(optimizer = 'adam', loss = 'categorical_crossentropy', metrics = ['accuracy'])\n",
    "hy = m.fit(t_x1, t_y1, epochs = 10, validation_data = (tt_x1, tt_y1))"
   ]
  },
  {
   "cell_type": "code",
   "execution_count": 28,
   "id": "414e71b4",
   "metadata": {},
   "outputs": [
    {
     "data": {
      "image/png": "[encoded data removed]",
      "text/plain": [
       "<Figure size 432x288 with 1 Axes>"
      ]
     },
     "metadata": {
      "needs_background": "light"
     },
     "output_type": "display_data"
    }
   ],
   "source": [
    "import matplotlib.pyplot as plt\n",
    "\n",
    "ec = range(1, len(hy.history['accuracy']) + 1)\n",
    "plt.plot(ec, hy.history['loss'], label = 'loss')\n",
    "plt.plot(ec, hy.history['val_loss'], label = 'val_loss')\n",
    "plt.legend()\n",
    "plt.show()"
   ]
  },
  {
   "cell_type": "code",
   "execution_count": 44,
   "id": "f16e4311",
   "metadata": {},
   "outputs": [],
   "source": [
    "from sklearn.datasets import fetch_20newsgroups\n",
    "import pandas as pd\n",
    "from tensorflow.keras.preprocessing.text import Tokenizer\n",
    "from tensorflow.keras.utils import to_categorical\n",
    "import matplotlib.pyplot as plt\n",
    "from sklearn.model_selection import train_test_split\n",
    "from tensorflow.keras.models import Sequential\n",
    "from tensorflow.keras.layers import Dense, Dropout"
   ]
  },
  {
   "cell_type": "markdown",
   "id": "36d0b699",
   "metadata": {},
   "source": [
    "### 데이터 수집"
   ]
  },
  {
   "cell_type": "code",
   "execution_count": 45,
   "id": "0580d41f",
   "metadata": {},
   "outputs": [],
   "source": [
    "data = fetch_20newsgroups()\n",
    "X_data = data.data\n",
    "Y_data = data.target"
   ]
  },
  {
   "cell_type": "markdown",
   "id": "3d5d3d75",
   "metadata": {},
   "source": [
    "### 데이터 전처리"
   ]
  },
  {
   "cell_type": "code",
   "execution_count": 51,
   "id": "cfbd5295",
   "metadata": {},
   "outputs": [],
   "source": [
    "def text_preprocessor(X_data, Y_data, mode):\n",
    "    tk = Tokenizer(num_words = 10000)\n",
    "    tk.fit_on_texts(X_data)\n",
    "    X = tk.texts_to_matrix(X_data, mode = mode)\n",
    "    Y = to_categorical(Y_data)\n",
    "    t_x, tt_x, t_y, tt_y = train_test_split(X, Y)\n",
    "    return t_x, tt_x, t_y, tt_y"
   ]
  },
  {
   "cell_type": "markdown",
   "id": "296f63d7",
   "metadata": {},
   "source": [
    "### 모델 생성 및 학습"
   ]
  },
  {
   "cell_type": "code",
   "execution_count": 52,
   "id": "42c427c0",
   "metadata": {},
   "outputs": [],
   "source": [
    "def text_classifier(t_all):\n",
    "    m = Sequential()\n",
    "    m.add(Dense(256, input_shape = (10000, ), activation = 'relu'))\n",
    "    m.add(Dropout(0.5))\n",
    "    m.add(Dense(128, activation = 'relu'))\n",
    "    m.add(Dropout(0.5))\n",
    "    m.add(Dense(20, activation = 'softmax'))\n",
    "    m.compile(optimizer = 'adam', loss = 'categorical_crossentropy', metrics = ['accuracy'])\n",
    "    hy = m.fit(t_all[0], t_all[2], epochs = 10, validation_data = (t_all[1], t_all[3]))\n",
    "    return hy"
   ]
  },
  {
   "cell_type": "code",
   "execution_count": 53,
   "id": "04db81c7",
   "metadata": {},
   "outputs": [
    {
     "name": "stdout",
     "output_type": "stream",
     "text": [
      "Epoch 1/10\n",
      "266/266 [==============================] - 10s 36ms/step - loss: 1.9022 - accuracy: 0.4593 - val_loss: 0.6140 - val_accuracy: 0.8512\n",
      "Epoch 2/10\n",
      "266/266 [==============================] - 7s 26ms/step - loss: 0.7238 - accuracy: 0.8166 - val_loss: 0.4410 - val_accuracy: 0.8805\n",
      "Epoch 3/10\n",
      "266/266 [==============================] - 6s 23ms/step - loss: 0.4431 - accuracy: 0.8950 - val_loss: 0.3878 - val_accuracy: 0.8950\n",
      "Epoch 4/10\n",
      "266/266 [==============================] - 6s 22ms/step - loss: 0.2810 - accuracy: 0.9332 - val_loss: 0.3854 - val_accuracy: 0.8971\n",
      "Epoch 5/10\n",
      "266/266 [==============================] - 6s 23ms/step - loss: 0.2553 - accuracy: 0.9484 - val_loss: 0.3994 - val_accuracy: 0.9017\n",
      "Epoch 6/10\n",
      "266/266 [==============================] - 6s 23ms/step - loss: 0.1933 - accuracy: 0.9621 - val_loss: 0.4067 - val_accuracy: 0.8971\n",
      "Epoch 7/10\n",
      "266/266 [==============================] - 5s 19ms/step - loss: 0.1907 - accuracy: 0.9624 - val_loss: 0.4227 - val_accuracy: 0.9028\n",
      "Epoch 8/10\n",
      "266/266 [==============================] - 5s 18ms/step - loss: 0.1567 - accuracy: 0.9696 - val_loss: 0.4355 - val_accuracy: 0.8978\n",
      "Epoch 9/10\n",
      "266/266 [==============================] - 5s 20ms/step - loss: 0.1501 - accuracy: 0.9714 - val_loss: 0.4457 - val_accuracy: 0.8993\n",
      "Epoch 10/10\n",
      "266/266 [==============================] - 6s 21ms/step - loss: 0.0999 - accuracy: 0.9793 - val_loss: 0.4671 - val_accuracy: 0.9007\n"
     ]
    }
   ],
   "source": [
    "t_all = text_preprocessor(X_data, Y_data, mode = 'tfidf')\n",
    "hy = text_classifier(t_all)"
   ]
  },
  {
   "cell_type": "code",
   "execution_count": 54,
   "id": "7696a312",
   "metadata": {},
   "outputs": [
    {
     "data": {
      "image/png": "[encoded data removed]",
      "text/plain": [
       "<Figure size 432x288 with 1 Axes>"
      ]
     },
     "metadata": {
      "needs_background": "light"
     },
     "output_type": "display_data"
    }
   ],
   "source": [
    "ec = range(1, len(hy.history['accuracy']) + 1)\n",
    "plt.plot(ec, hy.history['loss'], label = 'loss')\n",
    "plt.plot(ec, hy.history['val_loss'], label = 'val_loss')\n",
    "plt.legend()\n",
    "plt.show()"
   ]
  },
  {
   "cell_type": "code",
   "execution_count": null,
   "id": "31973153",
   "metadata": {},
   "outputs": [],
   "source": []
  }
 ],
 "metadata": {
  "kernelspec": {
   "display_name": "Python 3 (ipykernel)",
   "language": "python",
   "name": "python3"
  },
  "language_info": {
   "codemirror_mode": {
    "name": "ipython",
    "version": 3
   },
   "file_extension": ".py",
   "mimetype": "text/x-python",
   "name": "python",
   "nbconvert_exporter": "python",
   "pygments_lexer": "ipython3",
   "version": "3.9.7"
  }
 },
 "nbformat": 4,
 "nbformat_minor": 5
}
