{
 "cells": [
  {
   "cell_type": "code",
   "execution_count": 14,
   "id": "8074848f",
   "metadata": {},
   "outputs": [],
   "source": [
    "import tensorflow as tf\n",
    "import numpy as np\n",
    "from tensorflow.keras import layers\n",
    "from tensorflow.keras.models import Sequential\n",
    "from tensorflow.keras.layers import Dropout, Dense, Embedding, SimpleRNN, LSTM, Bidirectional\n",
    "from tensorflow.keras.optimizers import Adam\n",
    "from tensorflow.keras.datasets.imdb import load_data"
   ]
  },
  {
   "cell_type": "code",
   "execution_count": 2,
   "id": "98dd188e",
   "metadata": {},
   "outputs": [
    {
     "name": "stderr",
     "output_type": "stream",
     "text": [
      "<__array_function__ internals>:5: VisibleDeprecationWarning: Creating an ndarray from ragged nested sequences (which is a list-or-tuple of lists-or-tuples-or ndarrays with different lengths or shapes) is deprecated. If you meant to do this, you must specify 'dtype=object' when creating the ndarray\n",
      "C:\\anaconda3\\lib\\site-packages\\tensorflow\\python\\keras\\datasets\\imdb.py:155: VisibleDeprecationWarning: Creating an ndarray from ragged nested sequences (which is a list-or-tuple of lists-or-tuples-or ndarrays with different lengths or shapes) is deprecated. If you meant to do this, you must specify 'dtype=object' when creating the ndarray\n",
      "  x_train, y_train = np.array(xs[:idx]), np.array(labels[:idx])\n",
      "C:\\anaconda3\\lib\\site-packages\\tensorflow\\python\\keras\\datasets\\imdb.py:156: VisibleDeprecationWarning: Creating an ndarray from ragged nested sequences (which is a list-or-tuple of lists-or-tuples-or ndarrays with different lengths or shapes) is deprecated. If you meant to do this, you must specify 'dtype=object' when creating the ndarray\n",
      "  x_test, y_test = np.array(xs[idx:]), np.array(labels[idx:])\n"
     ]
    }
   ],
   "source": [
    "tf.random.set_seed(22)\n",
    "np.random.seed(22)\n",
    "(t_x, t_y), (tt_x, tt_y) = load_data(num_words = 10000)"
   ]
  },
  {
   "cell_type": "code",
   "execution_count": 3,
   "id": "908f1426",
   "metadata": {},
   "outputs": [],
   "source": [
    "t_x = tf.keras.preprocessing.sequence.pad_sequences(t_x, maxlen = 80)\n",
    "tt_x = tf.keras.preprocessing.sequence.pad_sequences(tt_x, maxlen = 80)"
   ]
  },
  {
   "cell_type": "code",
   "execution_count": 4,
   "id": "145fc5fc",
   "metadata": {},
   "outputs": [
    {
     "data": {
      "text/plain": [
       "((25000, 80), (25000, 80), (25000,), (25000,))"
      ]
     },
     "execution_count": 4,
     "metadata": {},
     "output_type": "execute_result"
    }
   ],
   "source": [
    "t_x.shape, tt_x.shape, t_y.shape, tt_y.shape"
   ]
  },
  {
   "cell_type": "code",
   "execution_count": 16,
   "id": "a16e1418",
   "metadata": {},
   "outputs": [],
   "source": [
    "batch_size = 128\n",
    "total_word_num = 10000\n",
    "max_sentence_len = 80\n",
    "embedding_len = 100\n",
    "neuron_num = 64\n",
    "d_out = 0.5\n",
    "lr = 0.001\n",
    "ec = 4"
   ]
  },
  {
   "cell_type": "code",
   "execution_count": 6,
   "id": "2f5dc8c2",
   "metadata": {},
   "outputs": [
    {
     "name": "stdout",
     "output_type": "stream",
     "text": [
      "Epoch 1/4\n",
      "782/782 [==============================] - 62s 72ms/step - loss: 0.7076 - acc: 0.5057\n",
      "Epoch 2/4\n",
      "782/782 [==============================] - 66s 84ms/step - loss: 0.6979 - acc: 0.5106 - val_loss: 0.6863 - val_acc: 0.5202\n",
      "Epoch 3/4\n",
      "782/782 [==============================] - 55s 71ms/step - loss: 0.6417 - acc: 0.6221\n",
      "Epoch 4/4\n",
      "782/782 [==============================] - 63s 80ms/step - loss: 0.5919 - acc: 0.6823 - val_loss: 0.4928 - val_acc: 0.7745\n"
     ]
    },
    {
     "data": {
      "text/plain": [
       "<tensorflow.python.keras.callbacks.History at 0x1bea9d9c4f0>"
      ]
     },
     "execution_count": 6,
     "metadata": {},
     "output_type": "execute_result"
    }
   ],
   "source": [
    "# Embedding(단어 수, 피쳐의 차원)\n",
    "m = Sequential()\n",
    "m.add(Embedding(total_word_num, embedding_len, input_length = max_sentence_len))\n",
    "m.add(SimpleRNN(neuron_num, dropout = d_out, return_sequences = True))\n",
    "m.add(SimpleRNN(neuron_num, dropout = d_out))\n",
    "m.add(Dense(1, activation = 'sigmoid'))\n",
    "m.compile(optimizer = Adam(lr), loss = tf.losses.BinaryCrossentropy(), metrics = ['acc'])\n",
    "m.fit(t_x, t_y, epochs = ec, validation_data = (tt_x, tt_y), validation_freq = 2)"
   ]
  },
  {
   "cell_type": "code",
   "execution_count": 9,
   "id": "e8ed3429",
   "metadata": {},
   "outputs": [
    {
     "name": "stdout",
     "output_type": "stream",
     "text": [
      "Epoch 1/4\n",
      "782/782 [==============================] - 114s 140ms/step - loss: 0.4366 - acc: 0.7909\n",
      "Epoch 2/4\n",
      "782/782 [==============================] - 122s 156ms/step - loss: 0.2936 - acc: 0.8790 - val_loss: 0.3690 - val_acc: 0.8374\n",
      "Epoch 3/4\n",
      "782/782 [==============================] - 73s 93ms/step - loss: 0.2367 - acc: 0.9055\n",
      "Epoch 4/4\n",
      "782/782 [==============================] - 91s 116ms/step - loss: 0.1913 - acc: 0.9268 - val_loss: 0.4292 - val_acc: 0.8316\n"
     ]
    },
    {
     "data": {
      "text/plain": [
       "<tensorflow.python.keras.callbacks.History at 0x1beaad2e970>"
      ]
     },
     "execution_count": 9,
     "metadata": {},
     "output_type": "execute_result"
    }
   ],
   "source": [
    "m = Sequential()\n",
    "m.add(Embedding(total_word_num, embedding_len, input_length = max_sentence_len))\n",
    "m.add(LSTM(neuron_num, dropout = d_out, return_sequences = True))\n",
    "m.add(LSTM(neuron_num, dropout = d_out))\n",
    "m.add(Dense(1, activation = 'sigmoid'))\n",
    "m.compile(optimizer = Adam(lr), loss = tf.losses.BinaryCrossentropy(), metrics = ['acc'])\n",
    "m.fit(t_x, t_y, epochs = ec, validation_data = (tt_x, tt_y), validation_freq = 2)"
   ]
  },
  {
   "cell_type": "code",
   "execution_count": 12,
   "id": "acc430df",
   "metadata": {},
   "outputs": [
    {
     "name": "stdout",
     "output_type": "stream",
     "text": [
      "Epoch 1/4\n",
      "782/782 [==============================] - 103s 117ms/step - loss: 0.4546 - acc: 0.7776\n",
      "Epoch 2/4\n",
      "782/782 [==============================] - 101s 129ms/step - loss: 0.2982 - acc: 0.8764 - val_loss: 0.3681 - val_acc: 0.8352\n",
      "Epoch 3/4\n",
      "782/782 [==============================] - 80s 103ms/step - loss: 0.2331 - acc: 0.9101\n",
      "Epoch 4/4\n",
      "782/782 [==============================] - 83s 106ms/step - loss: 0.1841 - acc: 0.9313 - val_loss: 0.3861 - val_acc: 0.8387\n"
     ]
    },
    {
     "data": {
      "text/plain": [
       "<tensorflow.python.keras.callbacks.History at 0x1beb14c6e50>"
      ]
     },
     "execution_count": 12,
     "metadata": {},
     "output_type": "execute_result"
    }
   ],
   "source": [
    "m = Sequential()\n",
    "m.add(Embedding(total_word_num, embedding_len, input_length = max_sentence_len))\n",
    "m.add(layers.GRU(neuron_num, dropout = d_out, return_sequences = True))\n",
    "m.add(layers.GRU(neuron_num, dropout = d_out))\n",
    "m.add(Dense(1, activation = 'sigmoid'))\n",
    "m.compile(optimizer = Adam(lr), loss = tf.losses.BinaryCrossentropy(), metrics = ['acc'])\n",
    "m.fit(t_x, t_y, epochs = ec, validation_data = (tt_x, tt_y), validation_freq = 2)"
   ]
  },
  {
   "cell_type": "code",
   "execution_count": 15,
   "id": "e408ce28",
   "metadata": {},
   "outputs": [
    {
     "name": "stdout",
     "output_type": "stream",
     "text": [
      "Epoch 1/4\n",
      "782/782 [==============================] - 79s 95ms/step - loss: 0.4309 - acc: 0.7968\n",
      "Epoch 2/4\n",
      "782/782 [==============================] - 92s 118ms/step - loss: 0.2739 - acc: 0.8875 - val_loss: 0.3725 - val_acc: 0.8324\n",
      "Epoch 3/4\n",
      "782/782 [==============================] - 63s 81ms/step - loss: 0.1992 - acc: 0.9229\n",
      "Epoch 4/4\n",
      "782/782 [==============================] - 74s 95ms/step - loss: 0.1227 - acc: 0.9543 - val_loss: 0.4985 - val_acc: 0.8276\n"
     ]
    },
    {
     "data": {
      "text/plain": [
       "<tensorflow.python.keras.callbacks.History at 0x1beb3d12040>"
      ]
     },
     "execution_count": 15,
     "metadata": {},
     "output_type": "execute_result"
    }
   ],
   "source": [
    "m = Sequential()\n",
    "m.add(Embedding(total_word_num, embedding_len, input_length = max_sentence_len))\n",
    "m.add(Bidirectional(LSTM(neuron_num)))\n",
    "m.add(Dropout(0.5))\n",
    "m.add(Dense(1, activation = 'sigmoid'))\n",
    "m.compile(optimizer = Adam(lr), loss = tf.losses.BinaryCrossentropy(), metrics = ['acc'])\n",
    "m.fit(t_x, t_y, epochs = ec, validation_data = (tt_x, tt_y), validation_freq = 2)"
   ]
  },
  {
   "cell_type": "code",
   "execution_count": 17,
   "id": "09679e14",
   "metadata": {},
   "outputs": [
    {
     "name": "stdout",
     "output_type": "stream",
     "text": [
      "Epoch 1/5\n",
      "782/782 [==============================] - 129s 158ms/step - loss: 0.4165 - acc: 0.8050\n",
      "Epoch 2/5\n",
      "782/782 [==============================] - 159s 204ms/step - loss: 0.2661 - acc: 0.8938 - val_loss: 0.4355 - val_acc: 0.8227\n",
      "Epoch 3/5\n",
      "782/782 [==============================] - 123s 157ms/step - loss: 0.1727 - acc: 0.9344\n",
      "Epoch 4/5\n",
      "782/782 [==============================] - 168s 215ms/step - loss: 0.0967 - acc: 0.9629 - val_loss: 0.5578 - val_acc: 0.8224\n",
      "Epoch 5/5\n",
      "782/782 [==============================] - 132s 168ms/step - loss: 0.0507 - acc: 0.9833\n"
     ]
    },
    {
     "data": {
      "text/plain": [
       "<tensorflow.python.keras.callbacks.History at 0x1beb69f0d60>"
      ]
     },
     "execution_count": 17,
     "metadata": {},
     "output_type": "execute_result"
    }
   ],
   "source": [
    "m = Sequential()\n",
    "m.add(Embedding(total_word_num, embedding_len, input_length = max_sentence_len))\n",
    "m.add(Bidirectional(LSTM(neuron_num, return_sequences = True)))\n",
    "m.add(Bidirectional(LSTM(neuron_num//2)))\n",
    "m.add(Dropout(0.5))\n",
    "m.add(Dense(1, activation = 'sigmoid'))\n",
    "m.compile(optimizer = Adam(lr), loss = tf.losses.BinaryCrossentropy(), metrics = ['acc'])\n",
    "m.fit(t_x, t_y, epochs = ec, validation_data = (tt_x, tt_y), validation_freq = 2)"
   ]
  },
  {
   "cell_type": "code",
   "execution_count": null,
   "id": "076307c1",
   "metadata": {},
   "outputs": [],
   "source": []
  }
 ],
 "metadata": {
  "kernelspec": {
   "display_name": "Python 3 (ipykernel)",
   "language": "python",
   "name": "python3"
  },
  "language_info": {
   "codemirror_mode": {
    "name": "ipython",
    "version": 3
   },
   "file_extension": ".py",
   "mimetype": "text/x-python",
   "name": "python",
   "nbconvert_exporter": "python",
   "pygments_lexer": "ipython3",
   "version": "3.9.7"
  }
 },
 "nbformat": 4,
 "nbformat_minor": 5
}
