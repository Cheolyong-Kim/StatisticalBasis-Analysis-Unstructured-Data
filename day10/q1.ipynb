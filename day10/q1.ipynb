{
 "cells": [
  {
   "cell_type": "code",
   "execution_count": 1,
   "id": "4d8cc75a",
   "metadata": {},
   "outputs": [
    {
     "name": "stdout",
     "output_type": "stream",
     "text": [
      "importing Jupyter notebook from preprocessor_eng.ipynb\n"
     ]
    }
   ],
   "source": [
    "import import_ipynb\n",
    "from preprocessor_eng import Preprocessor_eng\n",
    "import pandas as pd\n",
    "import numpy as np\n",
    "from nltk.corpus import stopwords\n",
    "from string import punctuation\n",
    "from tensorflow.keras.models import Sequential\n",
    "from tensorflow.keras.layers import Dense, Dropout, Embedding, BatchNormalization, LSTM, GRU, Bidirectional, SimpleRNN\n",
    "from tensorflow.keras.optimizers import Adam\n",
    "from tensorflow.keras.callbacks import EarlyStopping, ModelCheckpoint\n",
    "import tensorflow as tf\n",
    "import matplotlib.pyplot as plt"
   ]
  },
  {
   "cell_type": "code",
   "execution_count": 2,
   "id": "b657f160",
   "metadata": {},
   "outputs": [
    {
     "data": {
      "text/html": [
       "<div>\n",
       "<style scoped>\n",
       "    .dataframe tbody tr th:only-of-type {\n",
       "        vertical-align: middle;\n",
       "    }\n",
       "\n",
       "    .dataframe tbody tr th {\n",
       "        vertical-align: top;\n",
       "    }\n",
       "\n",
       "    .dataframe thead th {\n",
       "        text-align: right;\n",
       "    }\n",
       "</style>\n",
       "<table border=\"1\" class=\"dataframe\">\n",
       "  <thead>\n",
       "    <tr style=\"text-align: right;\">\n",
       "      <th></th>\n",
       "      <th>v1</th>\n",
       "      <th>v2</th>\n",
       "      <th>Unnamed: 2</th>\n",
       "      <th>Unnamed: 3</th>\n",
       "      <th>Unnamed: 4</th>\n",
       "    </tr>\n",
       "  </thead>\n",
       "  <tbody>\n",
       "    <tr>\n",
       "      <th>0</th>\n",
       "      <td>ham</td>\n",
       "      <td>Go until jurong point, crazy.. Available only ...</td>\n",
       "      <td>NaN</td>\n",
       "      <td>NaN</td>\n",
       "      <td>NaN</td>\n",
       "    </tr>\n",
       "    <tr>\n",
       "      <th>1</th>\n",
       "      <td>ham</td>\n",
       "      <td>Ok lar... Joking wif u oni...</td>\n",
       "      <td>NaN</td>\n",
       "      <td>NaN</td>\n",
       "      <td>NaN</td>\n",
       "    </tr>\n",
       "    <tr>\n",
       "      <th>2</th>\n",
       "      <td>spam</td>\n",
       "      <td>Free entry in 2 a wkly comp to win FA Cup fina...</td>\n",
       "      <td>NaN</td>\n",
       "      <td>NaN</td>\n",
       "      <td>NaN</td>\n",
       "    </tr>\n",
       "    <tr>\n",
       "      <th>3</th>\n",
       "      <td>ham</td>\n",
       "      <td>U dun say so early hor... U c already then say...</td>\n",
       "      <td>NaN</td>\n",
       "      <td>NaN</td>\n",
       "      <td>NaN</td>\n",
       "    </tr>\n",
       "    <tr>\n",
       "      <th>4</th>\n",
       "      <td>ham</td>\n",
       "      <td>Nah I don't think he goes to usf, he lives aro...</td>\n",
       "      <td>NaN</td>\n",
       "      <td>NaN</td>\n",
       "      <td>NaN</td>\n",
       "    </tr>\n",
       "    <tr>\n",
       "      <th>...</th>\n",
       "      <td>...</td>\n",
       "      <td>...</td>\n",
       "      <td>...</td>\n",
       "      <td>...</td>\n",
       "      <td>...</td>\n",
       "    </tr>\n",
       "    <tr>\n",
       "      <th>5567</th>\n",
       "      <td>spam</td>\n",
       "      <td>This is the 2nd time we have tried 2 contact u...</td>\n",
       "      <td>NaN</td>\n",
       "      <td>NaN</td>\n",
       "      <td>NaN</td>\n",
       "    </tr>\n",
       "    <tr>\n",
       "      <th>5568</th>\n",
       "      <td>ham</td>\n",
       "      <td>Will Ì_ b going to esplanade fr home?</td>\n",
       "      <td>NaN</td>\n",
       "      <td>NaN</td>\n",
       "      <td>NaN</td>\n",
       "    </tr>\n",
       "    <tr>\n",
       "      <th>5569</th>\n",
       "      <td>ham</td>\n",
       "      <td>Pity, * was in mood for that. So...any other s...</td>\n",
       "      <td>NaN</td>\n",
       "      <td>NaN</td>\n",
       "      <td>NaN</td>\n",
       "    </tr>\n",
       "    <tr>\n",
       "      <th>5570</th>\n",
       "      <td>ham</td>\n",
       "      <td>The guy did some bitching but I acted like i'd...</td>\n",
       "      <td>NaN</td>\n",
       "      <td>NaN</td>\n",
       "      <td>NaN</td>\n",
       "    </tr>\n",
       "    <tr>\n",
       "      <th>5571</th>\n",
       "      <td>ham</td>\n",
       "      <td>Rofl. Its true to its name</td>\n",
       "      <td>NaN</td>\n",
       "      <td>NaN</td>\n",
       "      <td>NaN</td>\n",
       "    </tr>\n",
       "  </tbody>\n",
       "</table>\n",
       "<p>5572 rows × 5 columns</p>\n",
       "</div>"
      ],
      "text/plain": [
       "        v1                                                 v2 Unnamed: 2  \\\n",
       "0      ham  Go until jurong point, crazy.. Available only ...        NaN   \n",
       "1      ham                      Ok lar... Joking wif u oni...        NaN   \n",
       "2     spam  Free entry in 2 a wkly comp to win FA Cup fina...        NaN   \n",
       "3      ham  U dun say so early hor... U c already then say...        NaN   \n",
       "4      ham  Nah I don't think he goes to usf, he lives aro...        NaN   \n",
       "...    ...                                                ...        ...   \n",
       "5567  spam  This is the 2nd time we have tried 2 contact u...        NaN   \n",
       "5568   ham              Will Ì_ b going to esplanade fr home?        NaN   \n",
       "5569   ham  Pity, * was in mood for that. So...any other s...        NaN   \n",
       "5570   ham  The guy did some bitching but I acted like i'd...        NaN   \n",
       "5571   ham                         Rofl. Its true to its name        NaN   \n",
       "\n",
       "     Unnamed: 3 Unnamed: 4  \n",
       "0           NaN        NaN  \n",
       "1           NaN        NaN  \n",
       "2           NaN        NaN  \n",
       "3           NaN        NaN  \n",
       "4           NaN        NaN  \n",
       "...         ...        ...  \n",
       "5567        NaN        NaN  \n",
       "5568        NaN        NaN  \n",
       "5569        NaN        NaN  \n",
       "5570        NaN        NaN  \n",
       "5571        NaN        NaN  \n",
       "\n",
       "[5572 rows x 5 columns]"
      ]
     },
     "execution_count": 2,
     "metadata": {},
     "output_type": "execute_result"
    }
   ],
   "source": [
    "data = pd.read_csv('spam.csv', encoding = 'latin1')\n",
    "data"
   ]
  },
  {
   "cell_type": "code",
   "execution_count": 3,
   "id": "d0d93948",
   "metadata": {},
   "outputs": [
    {
     "data": {
      "text/html": [
       "<div>\n",
       "<style scoped>\n",
       "    .dataframe tbody tr th:only-of-type {\n",
       "        vertical-align: middle;\n",
       "    }\n",
       "\n",
       "    .dataframe tbody tr th {\n",
       "        vertical-align: top;\n",
       "    }\n",
       "\n",
       "    .dataframe thead th {\n",
       "        text-align: right;\n",
       "    }\n",
       "</style>\n",
       "<table border=\"1\" class=\"dataframe\">\n",
       "  <thead>\n",
       "    <tr style=\"text-align: right;\">\n",
       "      <th></th>\n",
       "      <th>v1</th>\n",
       "      <th>v2</th>\n",
       "    </tr>\n",
       "  </thead>\n",
       "  <tbody>\n",
       "    <tr>\n",
       "      <th>0</th>\n",
       "      <td>ham</td>\n",
       "      <td>Go until jurong point, crazy.. Available only ...</td>\n",
       "    </tr>\n",
       "    <tr>\n",
       "      <th>1</th>\n",
       "      <td>ham</td>\n",
       "      <td>Ok lar... Joking wif u oni...</td>\n",
       "    </tr>\n",
       "    <tr>\n",
       "      <th>2</th>\n",
       "      <td>spam</td>\n",
       "      <td>Free entry in 2 a wkly comp to win FA Cup fina...</td>\n",
       "    </tr>\n",
       "    <tr>\n",
       "      <th>3</th>\n",
       "      <td>ham</td>\n",
       "      <td>U dun say so early hor... U c already then say...</td>\n",
       "    </tr>\n",
       "    <tr>\n",
       "      <th>4</th>\n",
       "      <td>ham</td>\n",
       "      <td>Nah I don't think he goes to usf, he lives aro...</td>\n",
       "    </tr>\n",
       "    <tr>\n",
       "      <th>...</th>\n",
       "      <td>...</td>\n",
       "      <td>...</td>\n",
       "    </tr>\n",
       "    <tr>\n",
       "      <th>5567</th>\n",
       "      <td>spam</td>\n",
       "      <td>This is the 2nd time we have tried 2 contact u...</td>\n",
       "    </tr>\n",
       "    <tr>\n",
       "      <th>5568</th>\n",
       "      <td>ham</td>\n",
       "      <td>Will Ì_ b going to esplanade fr home?</td>\n",
       "    </tr>\n",
       "    <tr>\n",
       "      <th>5569</th>\n",
       "      <td>ham</td>\n",
       "      <td>Pity, * was in mood for that. So...any other s...</td>\n",
       "    </tr>\n",
       "    <tr>\n",
       "      <th>5570</th>\n",
       "      <td>ham</td>\n",
       "      <td>The guy did some bitching but I acted like i'd...</td>\n",
       "    </tr>\n",
       "    <tr>\n",
       "      <th>5571</th>\n",
       "      <td>ham</td>\n",
       "      <td>Rofl. Its true to its name</td>\n",
       "    </tr>\n",
       "  </tbody>\n",
       "</table>\n",
       "<p>5572 rows × 2 columns</p>\n",
       "</div>"
      ],
      "text/plain": [
       "        v1                                                 v2\n",
       "0      ham  Go until jurong point, crazy.. Available only ...\n",
       "1      ham                      Ok lar... Joking wif u oni...\n",
       "2     spam  Free entry in 2 a wkly comp to win FA Cup fina...\n",
       "3      ham  U dun say so early hor... U c already then say...\n",
       "4      ham  Nah I don't think he goes to usf, he lives aro...\n",
       "...    ...                                                ...\n",
       "5567  spam  This is the 2nd time we have tried 2 contact u...\n",
       "5568   ham              Will Ì_ b going to esplanade fr home?\n",
       "5569   ham  Pity, * was in mood for that. So...any other s...\n",
       "5570   ham  The guy did some bitching but I acted like i'd...\n",
       "5571   ham                         Rofl. Its true to its name\n",
       "\n",
       "[5572 rows x 2 columns]"
      ]
     },
     "execution_count": 3,
     "metadata": {},
     "output_type": "execute_result"
    }
   ],
   "source": [
    "data = data.drop(labels = ['Unnamed: 2', 'Unnamed: 3', 'Unnamed: 4'], axis = 1)\n",
    "data"
   ]
  },
  {
   "cell_type": "code",
   "execution_count": 4,
   "id": "54e37ed5",
   "metadata": {},
   "outputs": [],
   "source": [
    "st = set(stopwords.words('english'))\n",
    "p = list(punctuation)\n",
    "st.update(p)"
   ]
  },
  {
   "cell_type": "code",
   "execution_count": 5,
   "id": "c3871b0a",
   "metadata": {},
   "outputs": [
    {
     "name": "stderr",
     "output_type": "stream",
     "text": [
      "<string>:29: SettingWithCopyWarning: \n",
      "A value is trying to be set on a copy of a slice from a DataFrame.\n",
      "Try using .loc[row_indexer,col_indexer] = value instead\n",
      "\n",
      "See the caveats in the documentation: https://pandas.pydata.org/pandas-docs/stable/user_guide/indexing.html#returning-a-view-versus-a-copy\n",
      "<string>:30: FutureWarning: The default value of regex will change from True to False in a future version.\n",
      "<string>:30: SettingWithCopyWarning: \n",
      "A value is trying to be set on a copy of a slice from a DataFrame.\n",
      "Try using .loc[row_indexer,col_indexer] = value instead\n",
      "\n",
      "See the caveats in the documentation: https://pandas.pydata.org/pandas-docs/stable/user_guide/indexing.html#returning-a-view-versus-a-copy\n",
      "<string>:31: FutureWarning: The default value of regex will change from True to False in a future version.\n",
      "<string>:31: SettingWithCopyWarning: \n",
      "A value is trying to be set on a copy of a slice from a DataFrame.\n",
      "Try using .loc[row_indexer,col_indexer] = value instead\n",
      "\n",
      "See the caveats in the documentation: https://pandas.pydata.org/pandas-docs/stable/user_guide/indexing.html#returning-a-view-versus-a-copy\n",
      "C:\\anaconda3\\lib\\site-packages\\pandas\\core\\generic.py:6619: SettingWithCopyWarning: \n",
      "A value is trying to be set on a copy of a slice from a DataFrame\n",
      "\n",
      "See the caveats in the documentation: https://pandas.pydata.org/pandas-docs/stable/user_guide/indexing.html#returning-a-view-versus-a-copy\n",
      "  return self._update_inplace(result)\n",
      "C:\\anaconda3\\lib\\site-packages\\numpy\\core\\_asarray.py:83: VisibleDeprecationWarning: Creating an ndarray from ragged nested sequences (which is a list-or-tuple of lists-or-tuples-or ndarrays with different lengths or shapes) is deprecated. If you meant to do this, you must specify 'dtype=object' when creating the ndarray\n",
      "  return array(a, dtype, copy=False, order=order)\n"
     ]
    }
   ],
   "source": [
    "ps = Preprocessor_eng(data, 'v2', st)\n",
    "ps.preprocessor('v2', remove_stopwords = True)\n",
    "t_x, v_x, tt_x, t_y, v_y, tt_y, total_word_num = ps.data_classification('v1', isstr = True, isbin = True)"
   ]
  },
  {
   "cell_type": "code",
   "execution_count": 6,
   "id": "b6051ff1",
   "metadata": {},
   "outputs": [
    {
     "data": {
      "text/plain": [
       "((2841, 57), (708, 57), (1519, 57), (2841,), (708,), (1519,))"
      ]
     },
     "execution_count": 6,
     "metadata": {},
     "output_type": "execute_result"
    }
   ],
   "source": [
    "t_x.shape, v_x.shape, tt_x.shape, t_y.shape, v_y.shape, tt_y.shape"
   ]
  },
  {
   "cell_type": "code",
   "execution_count": 7,
   "id": "90349e34",
   "metadata": {},
   "outputs": [],
   "source": [
    "batch_size = 256\n",
    "max_sentence_num = 57\n",
    "embedding_len = 128\n",
    "neuron_num = 128\n",
    "d_out = 0.5\n",
    "lr = 0.001\n",
    "ec = 50"
   ]
  },
  {
   "cell_type": "code",
   "execution_count": 8,
   "id": "55a81dae",
   "metadata": {},
   "outputs": [],
   "source": [
    "es = EarlyStopping(monitor = 'val_loss', mode = 'min', patience = 3, restore_best_weights = True)\n",
    "ck1 = ModelCheckpoint('best_em1.h5', monitor = 'val_acc', mode = 'max', save_best_only = True)\n",
    "ck2 = ModelCheckpoint('best_em2.h5', monitor = 'val_acc', mode = 'max', save_best_only = True)\n",
    "ck3 = ModelCheckpoint('best_em3.h5', monitor = 'val_acc', mode = 'max', save_best_only = True)\n",
    "ck4 = ModelCheckpoint('best_em4.h5', monitor = 'val_acc', mode = 'max', save_best_only = True)"
   ]
  },
  {
   "cell_type": "code",
   "execution_count": 9,
   "id": "4fd7c743",
   "metadata": {},
   "outputs": [],
   "source": [
    "m1 = Sequential()\n",
    "m1.add(Embedding(total_word_num, embedding_len, input_length = max_sentence_num))\n",
    "m1.add(SimpleRNN(neuron_num, dropout = d_out, return_sequences = True))\n",
    "m1.add(SimpleRNN(neuron_num, dropout = d_out))\n",
    "m1.add(Dense(neuron_num, activation = 'relu'))\n",
    "m1.add(Dropout(d_out))\n",
    "m1.add(BatchNormalization())\n",
    "m1.add(Dense(neuron_num // 2, activation = 'relu'))\n",
    "m1.add(Dropout(d_out))\n",
    "m1.add(BatchNormalization())\n",
    "m1.add(Dense(1, activation = 'sigmoid'))\n",
    "m1.compile(optimizer = Adam(lr), loss = tf.losses.BinaryCrossentropy(), metrics = ['acc'])"
   ]
  },
  {
   "cell_type": "code",
   "execution_count": 10,
   "id": "012c0307",
   "metadata": {},
   "outputs": [
    {
     "name": "stdout",
     "output_type": "stream",
     "text": [
      "Epoch 1/50\n",
      "12/12 [==============================] - 5s 226ms/step - loss: 0.8101 - acc: 0.5438 - val_loss: 0.9900 - val_acc: 0.1314\n",
      "Epoch 2/50\n",
      "12/12 [==============================] - 2s 183ms/step - loss: 0.7121 - acc: 0.6350 - val_loss: 0.4937 - val_acc: 0.8573\n",
      "Epoch 3/50\n",
      "12/12 [==============================] - 2s 172ms/step - loss: 0.6343 - acc: 0.6807 - val_loss: 0.3914 - val_acc: 0.8729\n",
      "Epoch 4/50\n",
      "12/12 [==============================] - 2s 186ms/step - loss: 0.5437 - acc: 0.7501 - val_loss: 0.3345 - val_acc: 0.8898\n",
      "Epoch 5/50\n",
      "12/12 [==============================] - 2s 196ms/step - loss: 0.4142 - acc: 0.8508 - val_loss: 0.2379 - val_acc: 0.9449\n",
      "Epoch 6/50\n",
      "12/12 [==============================] - 2s 187ms/step - loss: 0.3281 - acc: 0.9173 - val_loss: 0.2882 - val_acc: 0.9011\n",
      "Epoch 7/50\n",
      "12/12 [==============================] - 2s 188ms/step - loss: 0.2972 - acc: 0.9345 - val_loss: 0.1870 - val_acc: 0.9548\n",
      "Epoch 8/50\n",
      "12/12 [==============================] - 3s 210ms/step - loss: 0.2128 - acc: 0.9736 - val_loss: 0.1701 - val_acc: 0.9619\n",
      "Epoch 9/50\n",
      "12/12 [==============================] - 2s 195ms/step - loss: 0.1657 - acc: 0.9799 - val_loss: 0.1599 - val_acc: 0.9647\n",
      "Epoch 10/50\n",
      "12/12 [==============================] - 2s 186ms/step - loss: 0.1391 - acc: 0.9820 - val_loss: 0.1604 - val_acc: 0.9534\n",
      "Epoch 11/50\n",
      "12/12 [==============================] - 2s 186ms/step - loss: 0.1309 - acc: 0.9838 - val_loss: 0.1532 - val_acc: 0.9718\n",
      "Epoch 12/50\n",
      "12/12 [==============================] - 2s 210ms/step - loss: 0.1104 - acc: 0.9842 - val_loss: 0.1477 - val_acc: 0.9576\n",
      "Epoch 13/50\n",
      "12/12 [==============================] - 2s 206ms/step - loss: 0.1038 - acc: 0.9845 - val_loss: 0.1171 - val_acc: 0.9675\n",
      "Epoch 14/50\n",
      "12/12 [==============================] - 3s 214ms/step - loss: 0.0879 - acc: 0.9863 - val_loss: 0.1114 - val_acc: 0.9732\n",
      "Epoch 15/50\n",
      "12/12 [==============================] - 2s 198ms/step - loss: 0.0693 - acc: 0.9905 - val_loss: 0.1287 - val_acc: 0.9760\n",
      "Epoch 16/50\n",
      "12/12 [==============================] - 2s 191ms/step - loss: 0.0636 - acc: 0.9912 - val_loss: 0.1204 - val_acc: 0.9746\n",
      "Epoch 17/50\n",
      "12/12 [==============================] - 2s 196ms/step - loss: 0.0584 - acc: 0.9916 - val_loss: 0.1165 - val_acc: 0.9689\n"
     ]
    }
   ],
   "source": [
    "hy1 = m1.fit(t_x, t_y, epochs = ec, batch_size = batch_size, validation_data = (v_x, v_y), callbacks = [ck1, es])"
   ]
  },
  {
   "cell_type": "code",
   "execution_count": 11,
   "id": "a22bcefd",
   "metadata": {},
   "outputs": [],
   "source": [
    "m2 = Sequential()\n",
    "m2.add(Embedding(total_word_num, embedding_len, input_length = max_sentence_num))\n",
    "m2.add(LSTM(neuron_num, dropout = d_out, return_sequences = True))\n",
    "m2.add(LSTM(neuron_num, dropout = d_out))\n",
    "m2.add(Dense(neuron_num, activation = 'relu'))\n",
    "m2.add(Dropout(d_out))\n",
    "m2.add(BatchNormalization())\n",
    "m2.add(Dense(neuron_num // 2, activation = 'relu'))\n",
    "m2.add(Dropout(d_out))\n",
    "m2.add(BatchNormalization())\n",
    "m2.add(Dense(1, activation = 'sigmoid'))\n",
    "m2.compile(optimizer = Adam(lr), loss = tf.losses.BinaryCrossentropy(), metrics = ['acc'])"
   ]
  },
  {
   "cell_type": "code",
   "execution_count": 12,
   "id": "5f9b87b1",
   "metadata": {},
   "outputs": [
    {
     "name": "stdout",
     "output_type": "stream",
     "text": [
      "Epoch 1/50\n",
      "12/12 [==============================] - 11s 612ms/step - loss: 0.8021 - acc: 0.5681 - val_loss: 0.6221 - val_acc: 0.8686\n",
      "Epoch 2/50\n",
      "12/12 [==============================] - 6s 531ms/step - loss: 0.6650 - acc: 0.6382 - val_loss: 0.5830 - val_acc: 0.8686\n",
      "Epoch 3/50\n",
      "12/12 [==============================] - 6s 473ms/step - loss: 0.4523 - acc: 0.7902 - val_loss: 0.5295 - val_acc: 0.8729\n",
      "Epoch 4/50\n",
      "12/12 [==============================] - 6s 482ms/step - loss: 0.3168 - acc: 0.9102 - val_loss: 0.4629 - val_acc: 0.9181\n",
      "Epoch 5/50\n",
      "12/12 [==============================] - 6s 483ms/step - loss: 0.2282 - acc: 0.9606 - val_loss: 0.4117 - val_acc: 0.9153\n",
      "Epoch 6/50\n",
      "12/12 [==============================] - 6s 497ms/step - loss: 0.1834 - acc: 0.9810 - val_loss: 0.3693 - val_acc: 0.9237\n",
      "Epoch 7/50\n",
      "12/12 [==============================] - 6s 489ms/step - loss: 0.1553 - acc: 0.9824 - val_loss: 0.3327 - val_acc: 0.9336\n",
      "Epoch 8/50\n",
      "12/12 [==============================] - 6s 508ms/step - loss: 0.1248 - acc: 0.9873 - val_loss: 0.3093 - val_acc: 0.9364\n",
      "Epoch 9/50\n",
      "12/12 [==============================] - 6s 510ms/step - loss: 0.1082 - acc: 0.9891 - val_loss: 0.2886 - val_acc: 0.9364\n",
      "Epoch 10/50\n",
      "12/12 [==============================] - 6s 495ms/step - loss: 0.0851 - acc: 0.9926 - val_loss: 0.2649 - val_acc: 0.9407\n",
      "Epoch 11/50\n",
      "12/12 [==============================] - 6s 532ms/step - loss: 0.0783 - acc: 0.9926 - val_loss: 0.2541 - val_acc: 0.9421\n",
      "Epoch 12/50\n",
      "12/12 [==============================] - 6s 521ms/step - loss: 0.0679 - acc: 0.9947 - val_loss: 0.2279 - val_acc: 0.9477\n",
      "Epoch 13/50\n",
      "12/12 [==============================] - 6s 520ms/step - loss: 0.0637 - acc: 0.9930 - val_loss: 0.2342 - val_acc: 0.9435\n",
      "Epoch 14/50\n",
      "12/12 [==============================] - 6s 481ms/step - loss: 0.0576 - acc: 0.9944 - val_loss: 0.1997 - val_acc: 0.9492\n",
      "Epoch 15/50\n",
      "12/12 [==============================] - 6s 522ms/step - loss: 0.0567 - acc: 0.9926 - val_loss: 0.1980 - val_acc: 0.9477\n",
      "Epoch 16/50\n",
      "12/12 [==============================] - 7s 572ms/step - loss: 0.0459 - acc: 0.9947 - val_loss: 0.1837 - val_acc: 0.9548\n",
      "Epoch 17/50\n",
      "12/12 [==============================] - 7s 570ms/step - loss: 0.0412 - acc: 0.9954 - val_loss: 0.1838 - val_acc: 0.9477\n",
      "Epoch 18/50\n",
      "12/12 [==============================] - 6s 541ms/step - loss: 0.0422 - acc: 0.9940 - val_loss: 0.1574 - val_acc: 0.9647\n",
      "Epoch 19/50\n",
      "12/12 [==============================] - 7s 536ms/step - loss: 0.0345 - acc: 0.9965 - val_loss: 0.1523 - val_acc: 0.9633\n",
      "Epoch 20/50\n",
      "12/12 [==============================] - 7s 564ms/step - loss: 0.0291 - acc: 0.9972 - val_loss: 0.1389 - val_acc: 0.9661\n",
      "Epoch 21/50\n",
      "12/12 [==============================] - 6s 533ms/step - loss: 0.0299 - acc: 0.9958 - val_loss: 0.1396 - val_acc: 0.9661\n",
      "Epoch 22/50\n",
      "12/12 [==============================] - 6s 541ms/step - loss: 0.0305 - acc: 0.9965 - val_loss: 0.1478 - val_acc: 0.9633\n",
      "Epoch 23/50\n",
      "12/12 [==============================] - 6s 496ms/step - loss: 0.0278 - acc: 0.9958 - val_loss: 0.1284 - val_acc: 0.9675\n",
      "Epoch 24/50\n",
      "12/12 [==============================] - 6s 525ms/step - loss: 0.0253 - acc: 0.9968 - val_loss: 0.1224 - val_acc: 0.9689\n",
      "Epoch 25/50\n",
      "12/12 [==============================] - 7s 587ms/step - loss: 0.0200 - acc: 0.9979 - val_loss: 0.1084 - val_acc: 0.9718\n",
      "Epoch 26/50\n",
      "12/12 [==============================] - 7s 590ms/step - loss: 0.0196 - acc: 0.9982 - val_loss: 0.1092 - val_acc: 0.9689\n",
      "Epoch 27/50\n",
      "12/12 [==============================] - 7s 565ms/step - loss: 0.0207 - acc: 0.9975 - val_loss: 0.1086 - val_acc: 0.9689\n",
      "Epoch 28/50\n",
      "12/12 [==============================] - 9s 712ms/step - loss: 0.0189 - acc: 0.9972 - val_loss: 0.0960 - val_acc: 0.9732\n",
      "Epoch 29/50\n",
      "12/12 [==============================] - 7s 541ms/step - loss: 0.0219 - acc: 0.9961 - val_loss: 0.1052 - val_acc: 0.9703\n",
      "Epoch 30/50\n",
      "12/12 [==============================] - 7s 609ms/step - loss: 0.0199 - acc: 0.9979 - val_loss: 0.0853 - val_acc: 0.9746\n",
      "Epoch 31/50\n",
      "12/12 [==============================] - 7s 571ms/step - loss: 0.0212 - acc: 0.9975 - val_loss: 0.0825 - val_acc: 0.9760\n",
      "Epoch 32/50\n",
      "12/12 [==============================] - 6s 543ms/step - loss: 0.0212 - acc: 0.9965 - val_loss: 0.1050 - val_acc: 0.9689\n",
      "Epoch 33/50\n",
      "12/12 [==============================] - 7s 557ms/step - loss: 0.0259 - acc: 0.9947 - val_loss: 0.1453 - val_acc: 0.9605\n",
      "Epoch 34/50\n",
      "12/12 [==============================] - 7s 573ms/step - loss: 0.0512 - acc: 0.9877 - val_loss: 0.0918 - val_acc: 0.9703\n"
     ]
    }
   ],
   "source": [
    "hy2 = m2.fit(t_x, t_y, epochs = ec, batch_size = batch_size, validation_data = (v_x, v_y), callbacks = [ck2, es])"
   ]
  },
  {
   "cell_type": "code",
   "execution_count": 13,
   "id": "1b1259dc",
   "metadata": {},
   "outputs": [],
   "source": [
    "m3 = Sequential()\n",
    "m3.add(Embedding(total_word_num, embedding_len, input_length = max_sentence_num))\n",
    "m3.add(GRU(neuron_num, dropout = d_out, return_sequences = True))\n",
    "m3.add(GRU(neuron_num, dropout = d_out))\n",
    "m3.add(Dense(neuron_num, activation = 'relu'))\n",
    "m3.add(Dropout(d_out))\n",
    "m3.add(BatchNormalization())\n",
    "m3.add(Dense(neuron_num // 2, activation = 'relu'))\n",
    "m3.add(Dropout(d_out))\n",
    "m3.add(BatchNormalization())\n",
    "m3.add(Dense(1, activation = 'sigmoid'))\n",
    "m3.compile(optimizer = Adam(lr), loss = tf.losses.BinaryCrossentropy(), metrics = ['acc'])"
   ]
  },
  {
   "cell_type": "code",
   "execution_count": 14,
   "id": "2ba962e7",
   "metadata": {},
   "outputs": [
    {
     "name": "stdout",
     "output_type": "stream",
     "text": [
      "Epoch 1/50\n",
      "12/12 [==============================] - 9s 472ms/step - loss: 0.7727 - acc: 0.5822 - val_loss: 0.6310 - val_acc: 0.8686\n",
      "Epoch 2/50\n",
      "12/12 [==============================] - 5s 417ms/step - loss: 0.5379 - acc: 0.7557 - val_loss: 0.5545 - val_acc: 0.8757\n",
      "Epoch 3/50\n",
      "12/12 [==============================] - 6s 509ms/step - loss: 0.3409 - acc: 0.9127 - val_loss: 0.4563 - val_acc: 0.9421\n",
      "Epoch 4/50\n",
      "12/12 [==============================] - 5s 435ms/step - loss: 0.2342 - acc: 0.9740 - val_loss: 0.3850 - val_acc: 0.9492\n",
      "Epoch 5/50\n",
      "12/12 [==============================] - 6s 472ms/step - loss: 0.1834 - acc: 0.9824 - val_loss: 0.3191 - val_acc: 0.9562\n",
      "Epoch 6/50\n",
      "12/12 [==============================] - 6s 465ms/step - loss: 0.1589 - acc: 0.9754 - val_loss: 0.2982 - val_acc: 0.9463\n",
      "Epoch 7/50\n",
      "12/12 [==============================] - 5s 456ms/step - loss: 0.1376 - acc: 0.9838 - val_loss: 0.2637 - val_acc: 0.9477\n",
      "Epoch 8/50\n",
      "12/12 [==============================] - 6s 471ms/step - loss: 0.1083 - acc: 0.9877 - val_loss: 0.2108 - val_acc: 0.9661\n",
      "Epoch 9/50\n",
      "12/12 [==============================] - 6s 492ms/step - loss: 0.0907 - acc: 0.9891 - val_loss: 0.1878 - val_acc: 0.9703\n",
      "Epoch 10/50\n",
      "12/12 [==============================] - 7s 555ms/step - loss: 0.0854 - acc: 0.9880 - val_loss: 0.1895 - val_acc: 0.9576\n",
      "Epoch 11/50\n",
      "12/12 [==============================] - 6s 475ms/step - loss: 0.0702 - acc: 0.9916 - val_loss: 0.1594 - val_acc: 0.9718\n",
      "Epoch 12/50\n",
      "12/12 [==============================] - 6s 458ms/step - loss: 0.0587 - acc: 0.9926 - val_loss: 0.1600 - val_acc: 0.9675\n",
      "Epoch 13/50\n",
      "12/12 [==============================] - 6s 471ms/step - loss: 0.0616 - acc: 0.9923 - val_loss: 0.1555 - val_acc: 0.9633\n",
      "Epoch 14/50\n",
      "12/12 [==============================] - 6s 473ms/step - loss: 0.0465 - acc: 0.9947 - val_loss: 0.1359 - val_acc: 0.9703\n",
      "Epoch 15/50\n",
      "12/12 [==============================] - 5s 434ms/step - loss: 0.0566 - acc: 0.9908 - val_loss: 0.1553 - val_acc: 0.9605\n",
      "Epoch 16/50\n",
      "12/12 [==============================] - 6s 457ms/step - loss: 0.0512 - acc: 0.9919 - val_loss: 0.1172 - val_acc: 0.9732\n",
      "Epoch 17/50\n",
      "12/12 [==============================] - 5s 440ms/step - loss: 0.0440 - acc: 0.9926 - val_loss: 0.1232 - val_acc: 0.9689\n",
      "Epoch 18/50\n",
      "12/12 [==============================] - 5s 432ms/step - loss: 0.0399 - acc: 0.9947 - val_loss: 0.1333 - val_acc: 0.9647\n",
      "Epoch 19/50\n",
      "12/12 [==============================] - 5s 435ms/step - loss: 0.0367 - acc: 0.9940 - val_loss: 0.1064 - val_acc: 0.9703\n",
      "Epoch 20/50\n",
      "12/12 [==============================] - 5s 432ms/step - loss: 0.0325 - acc: 0.9958 - val_loss: 0.1085 - val_acc: 0.9703\n",
      "Epoch 21/50\n",
      "12/12 [==============================] - 5s 445ms/step - loss: 0.0315 - acc: 0.9944 - val_loss: 0.0890 - val_acc: 0.9760\n",
      "Epoch 22/50\n",
      "12/12 [==============================] - 5s 432ms/step - loss: 0.0284 - acc: 0.9961 - val_loss: 0.1060 - val_acc: 0.9718\n",
      "Epoch 23/50\n",
      "12/12 [==============================] - 5s 430ms/step - loss: 0.0247 - acc: 0.9961 - val_loss: 0.1148 - val_acc: 0.9675\n",
      "Epoch 24/50\n",
      "12/12 [==============================] - 5s 436ms/step - loss: 0.0359 - acc: 0.9930 - val_loss: 0.1264 - val_acc: 0.9590\n"
     ]
    }
   ],
   "source": [
    "hy3 = m3.fit(t_x, t_y, epochs = ec, batch_size = batch_size, validation_data = (v_x, v_y), callbacks = [ck3, es])"
   ]
  },
  {
   "cell_type": "code",
   "execution_count": 15,
   "id": "52cbcdf1",
   "metadata": {},
   "outputs": [],
   "source": [
    "m4 = Sequential()\n",
    "m4.add(Embedding(total_word_num, embedding_len, input_length = max_sentence_num))\n",
    "m4.add(Bidirectional(LSTM(neuron_num, dropout = d_out, return_sequences = True)))\n",
    "m4.add(Bidirectional(LSTM(neuron_num // 2, dropout = d_out)))\n",
    "m4.add(Dense(neuron_num, activation = 'relu'))\n",
    "m4.add(Dropout(d_out))\n",
    "m4.add(BatchNormalization())\n",
    "m4.add(Dense(neuron_num // 2, activation = 'relu'))\n",
    "m4.add(Dropout(d_out))\n",
    "m4.add(BatchNormalization())\n",
    "m4.add(Dense(1, activation = 'sigmoid'))\n",
    "m4.compile(optimizer = Adam(lr), loss = tf.losses.BinaryCrossentropy(), metrics = ['acc'])"
   ]
  },
  {
   "cell_type": "code",
   "execution_count": 16,
   "id": "c1581d2f",
   "metadata": {},
   "outputs": [
    {
     "name": "stdout",
     "output_type": "stream",
     "text": [
      "Epoch 1/50\n",
      "12/12 [==============================] - 20s 1s/step - loss: 0.8203 - acc: 0.5382 - val_loss: 0.5900 - val_acc: 0.8686\n",
      "Epoch 2/50\n",
      "12/12 [==============================] - 15s 1s/step - loss: 0.7266 - acc: 0.6001 - val_loss: 0.5408 - val_acc: 0.8686\n",
      "Epoch 3/50\n",
      "12/12 [==============================] - 14s 1s/step - loss: 0.6092 - acc: 0.6906 - val_loss: 0.5155 - val_acc: 0.8955\n",
      "Epoch 4/50\n",
      "12/12 [==============================] - 14s 1s/step - loss: 0.4327 - acc: 0.8015 - val_loss: 0.4964 - val_acc: 0.9393\n",
      "Epoch 5/50\n",
      "12/12 [==============================] - 14s 1s/step - loss: 0.3068 - acc: 0.9032 - val_loss: 0.4350 - val_acc: 0.9463\n",
      "Epoch 6/50\n",
      "12/12 [==============================] - 14s 1s/step - loss: 0.2343 - acc: 0.9560 - val_loss: 0.3793 - val_acc: 0.9661\n",
      "Epoch 7/50\n",
      "12/12 [==============================] - 14s 1s/step - loss: 0.1805 - acc: 0.9782 - val_loss: 0.3276 - val_acc: 0.9746\n",
      "Epoch 8/50\n",
      "12/12 [==============================] - 14s 1s/step - loss: 0.1444 - acc: 0.9891 - val_loss: 0.2896 - val_acc: 0.9816\n",
      "Epoch 9/50\n",
      "12/12 [==============================] - 15s 1s/step - loss: 0.1209 - acc: 0.9908 - val_loss: 0.2624 - val_acc: 0.9746\n",
      "Epoch 10/50\n",
      "12/12 [==============================] - 15s 1s/step - loss: 0.1033 - acc: 0.9933 - val_loss: 0.2205 - val_acc: 0.9859\n",
      "Epoch 11/50\n",
      "12/12 [==============================] - 17s 1s/step - loss: 0.0825 - acc: 0.9947 - val_loss: 0.2033 - val_acc: 0.9845\n",
      "Epoch 12/50\n",
      "12/12 [==============================] - 16s 1s/step - loss: 0.0711 - acc: 0.9958 - val_loss: 0.1891 - val_acc: 0.9831\n",
      "Epoch 13/50\n",
      "12/12 [==============================] - 15s 1s/step - loss: 0.0607 - acc: 0.9958 - val_loss: 0.1785 - val_acc: 0.9788\n",
      "Epoch 14/50\n",
      "12/12 [==============================] - 14s 1s/step - loss: 0.0557 - acc: 0.9954 - val_loss: 0.1657 - val_acc: 0.9732\n",
      "Epoch 15/50\n",
      "12/12 [==============================] - 14s 1s/step - loss: 0.0479 - acc: 0.9972 - val_loss: 0.1344 - val_acc: 0.9873\n",
      "Epoch 16/50\n",
      "12/12 [==============================] - 14s 1s/step - loss: 0.0497 - acc: 0.9944 - val_loss: 0.1524 - val_acc: 0.9703\n",
      "Epoch 17/50\n",
      "12/12 [==============================] - 17s 1s/step - loss: 0.0402 - acc: 0.9968 - val_loss: 0.1124 - val_acc: 0.9831\n",
      "Epoch 18/50\n",
      "12/12 [==============================] - 16s 1s/step - loss: 0.0354 - acc: 0.9975 - val_loss: 0.1288 - val_acc: 0.9746\n",
      "Epoch 19/50\n",
      "12/12 [==============================] - 16s 1s/step - loss: 0.0302 - acc: 0.9986 - val_loss: 0.1046 - val_acc: 0.9816\n",
      "Epoch 20/50\n",
      "12/12 [==============================] - 16s 1s/step - loss: 0.0298 - acc: 0.9979 - val_loss: 0.0974 - val_acc: 0.9802\n",
      "Epoch 21/50\n",
      "12/12 [==============================] - 16s 1s/step - loss: 0.0288 - acc: 0.9968 - val_loss: 0.1482 - val_acc: 0.9605\n",
      "Epoch 22/50\n",
      "12/12 [==============================] - 15s 1s/step - loss: 0.0312 - acc: 0.9968 - val_loss: 0.0818 - val_acc: 0.9802\n",
      "Epoch 23/50\n",
      "12/12 [==============================] - 15s 1s/step - loss: 0.0246 - acc: 0.9975 - val_loss: 0.0895 - val_acc: 0.9816\n",
      "Epoch 24/50\n",
      "12/12 [==============================] - 15s 1s/step - loss: 0.0236 - acc: 0.9979 - val_loss: 0.0952 - val_acc: 0.9802\n",
      "Epoch 25/50\n",
      "12/12 [==============================] - 15s 1s/step - loss: 0.0210 - acc: 0.9986 - val_loss: 0.0762 - val_acc: 0.9831\n",
      "Epoch 26/50\n",
      "12/12 [==============================] - 15s 1s/step - loss: 0.0197 - acc: 0.9982 - val_loss: 0.0708 - val_acc: 0.9816\n",
      "Epoch 27/50\n",
      "12/12 [==============================] - 15s 1s/step - loss: 0.0187 - acc: 0.9986 - val_loss: 0.0714 - val_acc: 0.9816\n",
      "Epoch 28/50\n",
      "12/12 [==============================] - 15s 1s/step - loss: 0.0190 - acc: 0.9975 - val_loss: 0.0631 - val_acc: 0.9831\n",
      "Epoch 29/50\n",
      "12/12 [==============================] - 15s 1s/step - loss: 0.0257 - acc: 0.9947 - val_loss: 0.0916 - val_acc: 0.9760\n",
      "Epoch 30/50\n",
      "12/12 [==============================] - 15s 1s/step - loss: 0.0222 - acc: 0.9979 - val_loss: 0.1001 - val_acc: 0.9732\n",
      "Epoch 31/50\n",
      "12/12 [==============================] - 17s 1s/step - loss: 0.0184 - acc: 0.9972 - val_loss: 0.0834 - val_acc: 0.9774\n"
     ]
    }
   ],
   "source": [
    "hy4 = m4.fit(t_x, t_y, epochs = ec, batch_size = batch_size, validation_data = (v_x, v_y), callbacks = [ck4, es])"
   ]
  },
  {
   "cell_type": "code",
   "execution_count": 17,
   "id": "a5110884",
   "metadata": {},
   "outputs": [
    {
     "data": {
      "image/png": "[encoded data removed]",
      "text/plain": [
       "<Figure size 432x288 with 1 Axes>"
      ]
     },
     "metadata": {
      "needs_background": "light"
     },
     "output_type": "display_data"
    },
    {
     "data": {
      "image/png": "[encoded data removed]",
      "text/plain": [
       "<Figure size 432x288 with 1 Axes>"
      ]
     },
     "metadata": {
      "needs_background": "light"
     },
     "output_type": "display_data"
    },
    {
     "data": {
      "image/png": "[encoded data removed]",
      "text/plain": [
       "<Figure size 432x288 with 1 Axes>"
      ]
     },
     "metadata": {
      "needs_background": "light"
     },
     "output_type": "display_data"
    },
    {
     "data": {
      "image/png": "[encoded data removed]",
      "text/plain": [
       "<Figure size 432x288 with 1 Axes>"
      ]
     },
     "metadata": {
      "needs_background": "light"
     },
     "output_type": "display_data"
    }
   ],
   "source": [
    "plt.plot(hy1.history['loss'])\n",
    "plt.plot(hy1.history['val_loss'])\n",
    "plt.show()\n",
    "\n",
    "plt.plot(hy2.history['loss'])\n",
    "plt.plot(hy2.history['val_loss'])\n",
    "plt.show()\n",
    "\n",
    "plt.plot(hy3.history['loss'])\n",
    "plt.plot(hy3.history['val_loss'])\n",
    "plt.show()\n",
    "\n",
    "plt.plot(hy4.history['loss'])\n",
    "plt.plot(hy4.history['val_loss'])\n",
    "plt.show()"
   ]
  },
  {
   "cell_type": "code",
   "execution_count": 18,
   "id": "de7dc53f",
   "metadata": {},
   "outputs": [
    {
     "name": "stdout",
     "output_type": "stream",
     "text": [
      "48/48 [==============================] - 1s 13ms/step - loss: 0.0944 - acc: 0.9783\n",
      "48/48 [==============================] - 2s 40ms/step - loss: 0.0943 - acc: 0.9789\n",
      "48/48 [==============================] - 1s 30ms/step - loss: 0.0920 - acc: 0.9789\n",
      "48/48 [==============================] - 3s 57ms/step - loss: 0.1067 - acc: 0.9750: 0s - loss: 0.0899 - a\n"
     ]
    },
    {
     "data": {
      "text/plain": [
       "([0.09437777101993561, 0.9782751798629761],\n",
       " [0.09426720440387726, 0.9789335131645203],\n",
       " [0.09195608645677567, 0.9789335131645203],\n",
       " [0.1067369356751442, 0.9749835133552551])"
      ]
     },
     "execution_count": 18,
     "metadata": {},
     "output_type": "execute_result"
    }
   ],
   "source": [
    "m1.evaluate(tt_x, tt_y), m2.evaluate(tt_x, tt_y), m3.evaluate(tt_x, tt_y), m4.evaluate(tt_x, tt_y)"
   ]
  },
  {
   "cell_type": "code",
   "execution_count": null,
   "id": "6f2b193b",
   "metadata": {},
   "outputs": [],
   "source": []
  }
 ],
 "metadata": {
  "kernelspec": {
   "display_name": "Python 3 (ipykernel)",
   "language": "python",
   "name": "python3"
  },
  "language_info": {
   "codemirror_mode": {
    "name": "ipython",
    "version": 3
   },
   "file_extension": ".py",
   "mimetype": "text/x-python",
   "name": "python",
   "nbconvert_exporter": "python",
   "pygments_lexer": "ipython3",
   "version": "3.9.7"
  }
 },
 "nbformat": 4,
 "nbformat_minor": 5
}
