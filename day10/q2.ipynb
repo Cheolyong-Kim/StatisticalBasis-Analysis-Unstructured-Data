{
 "cells": [
  {
   "cell_type": "code",
   "execution_count": 25,
   "id": "188f3abf",
   "metadata": {},
   "outputs": [],
   "source": [
    "import import_ipynb\n",
    "from preprocessor_kor import Preprocessor_kor\n",
    "import pandas as pd\n",
    "import numpy as np\n",
    "from nltk.corpus import stopwords\n",
    "from string import punctuation\n",
    "from tensorflow.keras.models import Sequential\n",
    "from tensorflow.keras.layers import Dense, Dropout, Embedding, BatchNormalization, LSTM, GRU, Bidirectional, SimpleRNN\n",
    "from tensorflow.keras.optimizers import Adam\n",
    "from tensorflow.keras.callbacks import EarlyStopping, ModelCheckpoint\n",
    "import tensorflow as tf\n",
    "import matplotlib.pyplot as plt"
   ]
  },
  {
   "cell_type": "code",
   "execution_count": 2,
   "id": "6a418b57",
   "metadata": {},
   "outputs": [
    {
     "data": {
      "text/html": [
       "<div>\n",
       "<style scoped>\n",
       "    .dataframe tbody tr th:only-of-type {\n",
       "        vertical-align: middle;\n",
       "    }\n",
       "\n",
       "    .dataframe tbody tr th {\n",
       "        vertical-align: top;\n",
       "    }\n",
       "\n",
       "    .dataframe thead th {\n",
       "        text-align: right;\n",
       "    }\n",
       "</style>\n",
       "<table border=\"1\" class=\"dataframe\">\n",
       "  <thead>\n",
       "    <tr style=\"text-align: right;\">\n",
       "      <th></th>\n",
       "      <th>document</th>\n",
       "      <th>label</th>\n",
       "    </tr>\n",
       "  </thead>\n",
       "  <tbody>\n",
       "    <tr>\n",
       "      <th>0</th>\n",
       "      <td>굳 ㅋ</td>\n",
       "      <td>1</td>\n",
       "    </tr>\n",
       "    <tr>\n",
       "      <th>1</th>\n",
       "      <td>GDNTOPCLASSINTHECLUB</td>\n",
       "      <td>0</td>\n",
       "    </tr>\n",
       "    <tr>\n",
       "      <th>2</th>\n",
       "      <td>뭐야 이 평점들은.... 나쁘진 않지만 10점 짜리는 더더욱 아니잖아</td>\n",
       "      <td>0</td>\n",
       "    </tr>\n",
       "    <tr>\n",
       "      <th>3</th>\n",
       "      <td>지루하지는 않은데 완전 막장임... 돈주고 보기에는....</td>\n",
       "      <td>0</td>\n",
       "    </tr>\n",
       "    <tr>\n",
       "      <th>4</th>\n",
       "      <td>3D만 아니었어도 별 다섯 개 줬을텐데.. 왜 3D로 나와서 제 심기를 불편하게 하죠??</td>\n",
       "      <td>0</td>\n",
       "    </tr>\n",
       "    <tr>\n",
       "      <th>...</th>\n",
       "      <td>...</td>\n",
       "      <td>...</td>\n",
       "    </tr>\n",
       "    <tr>\n",
       "      <th>49995</th>\n",
       "      <td>오랜만에 평점 로긴했네ㅋㅋ 킹왕짱 쌈뽕한 영화를 만났습니다 강렬하게 육쾌함</td>\n",
       "      <td>1</td>\n",
       "    </tr>\n",
       "    <tr>\n",
       "      <th>49996</th>\n",
       "      <td>의지 박약들이나 하는거다 탈영은 일단 주인공 김대희 닮았고 이등병 찐따 OOOO</td>\n",
       "      <td>0</td>\n",
       "    </tr>\n",
       "    <tr>\n",
       "      <th>49997</th>\n",
       "      <td>그림도 좋고 완성도도 높았지만... 보는 내내 불안하게 만든다</td>\n",
       "      <td>0</td>\n",
       "    </tr>\n",
       "    <tr>\n",
       "      <th>49998</th>\n",
       "      <td>절대 봐서는 안 될 영화.. 재미도 없고 기분만 잡치고.. 한 세트장에서 다 해먹네</td>\n",
       "      <td>0</td>\n",
       "    </tr>\n",
       "    <tr>\n",
       "      <th>49999</th>\n",
       "      <td>마무리는 또 왜이래</td>\n",
       "      <td>0</td>\n",
       "    </tr>\n",
       "  </tbody>\n",
       "</table>\n",
       "<p>50000 rows × 2 columns</p>\n",
       "</div>"
      ],
      "text/plain": [
       "                                                document  label\n",
       "0                                                    굳 ㅋ      1\n",
       "1                                   GDNTOPCLASSINTHECLUB      0\n",
       "2                 뭐야 이 평점들은.... 나쁘진 않지만 10점 짜리는 더더욱 아니잖아      0\n",
       "3                       지루하지는 않은데 완전 막장임... 돈주고 보기에는....      0\n",
       "4      3D만 아니었어도 별 다섯 개 줬을텐데.. 왜 3D로 나와서 제 심기를 불편하게 하죠??      0\n",
       "...                                                  ...    ...\n",
       "49995          오랜만에 평점 로긴했네ㅋㅋ 킹왕짱 쌈뽕한 영화를 만났습니다 강렬하게 육쾌함      1\n",
       "49996       의지 박약들이나 하는거다 탈영은 일단 주인공 김대희 닮았고 이등병 찐따 OOOO      0\n",
       "49997                 그림도 좋고 완성도도 높았지만... 보는 내내 불안하게 만든다      0\n",
       "49998     절대 봐서는 안 될 영화.. 재미도 없고 기분만 잡치고.. 한 세트장에서 다 해먹네      0\n",
       "49999                                         마무리는 또 왜이래      0\n",
       "\n",
       "[50000 rows x 2 columns]"
      ]
     },
     "execution_count": 2,
     "metadata": {},
     "output_type": "execute_result"
    }
   ],
   "source": [
    "data = pd.read_table('ratings_test.txt')\n",
    "data = data.drop(labels = 'id', axis = 1)\n",
    "data"
   ]
  },
  {
   "cell_type": "code",
   "execution_count": 3,
   "id": "cf9e635a",
   "metadata": {},
   "outputs": [
    {
     "data": {
      "text/plain": [
       "document    49157\n",
       "label           2\n",
       "dtype: int64"
      ]
     },
     "execution_count": 3,
     "metadata": {},
     "output_type": "execute_result"
    }
   ],
   "source": [
    "data.nunique()"
   ]
  },
  {
   "cell_type": "code",
   "execution_count": 4,
   "id": "d71f2c92",
   "metadata": {},
   "outputs": [],
   "source": [
    "st = set(['은', '는', '이', '가', '를', '들', '에게', '의', '을', '도', '으로', '만', '라서', '하다', '에서', '로', '우리', '나', '저희'])\n",
    "p = list(punctuation)\n",
    "st.update(p)"
   ]
  },
  {
   "cell_type": "code",
   "execution_count": 5,
   "id": "445d673d",
   "metadata": {},
   "outputs": [],
   "source": [
    "ps = Preprocessor_kor(data, st)"
   ]
  },
  {
   "cell_type": "code",
   "execution_count": 6,
   "id": "0fa2e89f",
   "metadata": {},
   "outputs": [
    {
     "name": "stderr",
     "output_type": "stream",
     "text": [
      "<string>:33: FutureWarning: The default value of regex will change from True to False in a future version.\n",
      "<string>:34: FutureWarning: The default value of regex will change from True to False in a future version.\n",
      "C:\\anaconda3\\lib\\site-packages\\numpy\\core\\_asarray.py:83: VisibleDeprecationWarning: Creating an ndarray from ragged nested sequences (which is a list-or-tuple of lists-or-tuples-or ndarrays with different lengths or shapes) is deprecated. If you meant to do this, you must specify 'dtype=object' when creating the ndarray\n",
      "  return array(a, dtype, copy=False, order=order)\n"
     ]
    }
   ],
   "source": [
    "ps.remove_null()\n",
    "ps.remove_duplication('document')\n",
    "ps.preprocessor('document')\n",
    "t_x, tt_x, v_x, t_y, tt_y, v_y, total_word_num = ps.data_classificator('label', isstr = False, isbin = True)"
   ]
  },
  {
   "cell_type": "code",
   "execution_count": 7,
   "id": "968b0574",
   "metadata": {},
   "outputs": [
    {
     "data": {
      "text/plain": [
       "((27115, 57), (6759, 57), (14515, 57), (27115,), (6759,), (14515,))"
      ]
     },
     "execution_count": 7,
     "metadata": {},
     "output_type": "execute_result"
    }
   ],
   "source": [
    "t_x.shape, v_x.shape, tt_x.shape, t_y.shape, v_y.shape, tt_y.shape"
   ]
  },
  {
   "cell_type": "code",
   "execution_count": 8,
   "id": "ff84d0d8",
   "metadata": {},
   "outputs": [],
   "source": [
    "batch_size = 256\n",
    "max_sentence_num = 57\n",
    "embedding_len = 128\n",
    "neuron_num = 128\n",
    "d_out = 0.5\n",
    "lr = 0.001\n",
    "ec = 50"
   ]
  },
  {
   "cell_type": "code",
   "execution_count": 9,
   "id": "425c42ae",
   "metadata": {},
   "outputs": [],
   "source": [
    "es = EarlyStopping(monitor = 'val_loss', mode = 'min', patience = 3, restore_best_weights = True)\n",
    "ck1 = ModelCheckpoint('best_km1.h5', monitor = 'val_acc', mode = 'max', save_best_only = True)\n",
    "ck2 = ModelCheckpoint('best_km2.h5', monitor = 'val_acc', mode = 'max', save_best_only = True)\n",
    "ck3 = ModelCheckpoint('best_km3.h5', monitor = 'val_acc', mode = 'max', save_best_only = True)\n",
    "ck4 = ModelCheckpoint('best_km4.h5', monitor = 'val_acc', mode = 'max', save_best_only = True)"
   ]
  },
  {
   "cell_type": "code",
   "execution_count": 10,
   "id": "daf34800",
   "metadata": {},
   "outputs": [],
   "source": [
    "m1 = Sequential()\n",
    "m1.add(Embedding(total_word_num, embedding_len, input_length = max_sentence_num))\n",
    "m1.add(SimpleRNN(neuron_num, dropout = d_out, return_sequences = True))\n",
    "m1.add(SimpleRNN(neuron_num, dropout = d_out))\n",
    "m1.add(Dense(neuron_num, activation = 'relu'))\n",
    "m1.add(Dropout(d_out))\n",
    "m1.add(BatchNormalization())\n",
    "m1.add(Dense(neuron_num // 2, activation = 'relu'))\n",
    "m1.add(Dropout(d_out))\n",
    "m1.add(BatchNormalization())\n",
    "m1.add(Dense(1, activation = 'sigmoid'))\n",
    "m1.compile(optimizer = Adam(lr), loss = tf.losses.BinaryCrossentropy(), metrics = ['acc'])"
   ]
  },
  {
   "cell_type": "code",
   "execution_count": 15,
   "id": "e046cecb",
   "metadata": {},
   "outputs": [
    {
     "name": "stdout",
     "output_type": "stream",
     "text": [
      "Epoch 1/50\n",
      "106/106 [==============================] - 32s 301ms/step - loss: 0.8091 - acc: 0.5014 - val_loss: 0.6991 - val_acc: 0.5032\n",
      "Epoch 2/50\n",
      "106/106 [==============================] - 25s 238ms/step - loss: 0.7437 - acc: 0.4972 - val_loss: 0.6932 - val_acc: 0.4958\n",
      "Epoch 3/50\n",
      "106/106 [==============================] - 23s 212ms/step - loss: 0.7151 - acc: 0.5018 - val_loss: 0.6949 - val_acc: 0.5032\n",
      "Epoch 4/50\n",
      "106/106 [==============================] - 21s 200ms/step - loss: 0.7033 - acc: 0.5029 - val_loss: 0.6936 - val_acc: 0.4968\n",
      "Epoch 5/50\n",
      "106/106 [==============================] - 21s 202ms/step - loss: 0.6985 - acc: 0.4965 - val_loss: 0.6931 - val_acc: 0.5150\n",
      "Epoch 6/50\n",
      "106/106 [==============================] - 23s 216ms/step - loss: 0.6955 - acc: 0.5016 - val_loss: 0.6931 - val_acc: 0.5195\n",
      "Epoch 7/50\n",
      "106/106 [==============================] - 23s 218ms/step - loss: 0.6941 - acc: 0.5050 - val_loss: 0.6931 - val_acc: 0.5032\n",
      "Epoch 8/50\n",
      "106/106 [==============================] - 24s 223ms/step - loss: 0.6936 - acc: 0.5033 - val_loss: 0.6930 - val_acc: 0.5214\n",
      "Epoch 9/50\n",
      "106/106 [==============================] - 22s 209ms/step - loss: 0.6938 - acc: 0.5013 - val_loss: 0.6933 - val_acc: 0.4968\n",
      "Epoch 10/50\n",
      "106/106 [==============================] - 23s 214ms/step - loss: 0.6934 - acc: 0.5049 - val_loss: 0.6931 - val_acc: 0.5032\n",
      "Epoch 11/50\n",
      "106/106 [==============================] - 22s 212ms/step - loss: 0.6937 - acc: 0.4975 - val_loss: 0.6931 - val_acc: 0.5032\n"
     ]
    }
   ],
   "source": [
    "hy1 = m1.fit(t_x, t_y, epochs = ec, batch_size = batch_size, validation_data = (v_x, v_y), callbacks = [ck1, es])"
   ]
  },
  {
   "cell_type": "code",
   "execution_count": 16,
   "id": "4e1d0a8f",
   "metadata": {},
   "outputs": [],
   "source": [
    "m2 = Sequential()\n",
    "m2.add(Embedding(total_word_num, embedding_len, input_length = max_sentence_num))\n",
    "m2.add(LSTM(neuron_num, dropout = d_out, return_sequences = True))\n",
    "m2.add(LSTM(neuron_num, dropout = d_out))\n",
    "m2.add(Dense(neuron_num, activation = 'relu'))\n",
    "m2.add(Dropout(d_out))\n",
    "m2.add(BatchNormalization())\n",
    "m2.add(Dense(neuron_num // 2, activation = 'relu'))\n",
    "m2.add(Dropout(d_out))\n",
    "m2.add(BatchNormalization())\n",
    "m2.add(Dense(1, activation = 'sigmoid'))\n",
    "m2.compile(optimizer = Adam(lr), loss = tf.losses.BinaryCrossentropy(), metrics = ['acc'])"
   ]
  },
  {
   "cell_type": "code",
   "execution_count": 18,
   "id": "f94a2236",
   "metadata": {},
   "outputs": [
    {
     "name": "stdout",
     "output_type": "stream",
     "text": [
      "Epoch 1/50\n",
      "106/106 [==============================] - 85s 743ms/step - loss: 0.7783 - acc: 0.5407 - val_loss: 0.6773 - val_acc: 0.5368\n",
      "Epoch 2/50\n",
      "106/106 [==============================] - 75s 705ms/step - loss: 0.4674 - acc: 0.7830 - val_loss: 0.5802 - val_acc: 0.7244\n",
      "Epoch 3/50\n",
      "106/106 [==============================] - 80s 753ms/step - loss: 0.3674 - acc: 0.8409 - val_loss: 0.4825 - val_acc: 0.8100\n",
      "Epoch 4/50\n",
      "106/106 [==============================] - 77s 730ms/step - loss: 0.3319 - acc: 0.8621 - val_loss: 0.4374 - val_acc: 0.8020\n",
      "Epoch 5/50\n",
      "106/106 [==============================] - 72s 679ms/step - loss: 0.3038 - acc: 0.8756 - val_loss: 0.4162 - val_acc: 0.8161\n",
      "Epoch 6/50\n",
      "106/106 [==============================] - 69s 654ms/step - loss: 0.2768 - acc: 0.8885 - val_loss: 0.4340 - val_acc: 0.8120\n",
      "Epoch 7/50\n",
      "106/106 [==============================] - 72s 680ms/step - loss: 0.2552 - acc: 0.8969 - val_loss: 0.4904 - val_acc: 0.8100\n",
      "Epoch 8/50\n",
      "106/106 [==============================] - 77s 726ms/step - loss: 0.2345 - acc: 0.9070 - val_loss: 0.5159 - val_acc: 0.8060\n"
     ]
    }
   ],
   "source": [
    "hy2 = m2.fit(t_x, t_y, epochs = ec, batch_size = batch_size, validation_data = (v_x, v_y), callbacks = [ck2, es])"
   ]
  },
  {
   "cell_type": "code",
   "execution_count": 19,
   "id": "0fc41456",
   "metadata": {},
   "outputs": [],
   "source": [
    "m3 = Sequential()\n",
    "m3.add(Embedding(total_word_num, embedding_len, input_length = max_sentence_num))\n",
    "m3.add(GRU(neuron_num, dropout = d_out, return_sequences = True))\n",
    "m3.add(GRU(neuron_num, dropout = d_out))\n",
    "m3.add(Dense(neuron_num, activation = 'relu'))\n",
    "m3.add(Dropout(d_out))\n",
    "m3.add(BatchNormalization())\n",
    "m3.add(Dense(neuron_num // 2, activation = 'relu'))\n",
    "m3.add(Dropout(d_out))\n",
    "m3.add(BatchNormalization())\n",
    "m3.add(Dense(1, activation = 'sigmoid'))\n",
    "m3.compile(optimizer = Adam(lr), loss = tf.losses.BinaryCrossentropy(), metrics = ['acc'])"
   ]
  },
  {
   "cell_type": "code",
   "execution_count": 20,
   "id": "e5465910",
   "metadata": {},
   "outputs": [
    {
     "name": "stdout",
     "output_type": "stream",
     "text": [
      "Epoch 1/50\n",
      "106/106 [==============================] - 62s 554ms/step - loss: 0.7114 - acc: 0.6051 - val_loss: 0.6317 - val_acc: 0.7862\n",
      "Epoch 2/50\n",
      "106/106 [==============================] - 68s 639ms/step - loss: 0.4420 - acc: 0.8006 - val_loss: 0.5194 - val_acc: 0.7843\n",
      "Epoch 3/50\n",
      "106/106 [==============================] - 67s 635ms/step - loss: 0.3645 - acc: 0.8458 - val_loss: 0.4486 - val_acc: 0.7952\n",
      "Epoch 4/50\n",
      "106/106 [==============================] - 70s 664ms/step - loss: 0.3264 - acc: 0.8638 - val_loss: 0.4003 - val_acc: 0.8219\n",
      "Epoch 5/50\n",
      "106/106 [==============================] - 78s 738ms/step - loss: 0.3041 - acc: 0.8733 - val_loss: 0.4311 - val_acc: 0.8164\n",
      "Epoch 6/50\n",
      "106/106 [==============================] - 67s 632ms/step - loss: 0.2806 - acc: 0.8831 - val_loss: 0.4628 - val_acc: 0.8117\n",
      "Epoch 7/50\n",
      "106/106 [==============================] - 67s 631ms/step - loss: 0.2626 - acc: 0.8944 - val_loss: 0.4890 - val_acc: 0.8087\n"
     ]
    }
   ],
   "source": [
    "hy3 = m3.fit(t_x, t_y, epochs = ec, batch_size = batch_size, validation_data = (v_x, v_y), callbacks = [ck3, es])"
   ]
  },
  {
   "cell_type": "code",
   "execution_count": 21,
   "id": "c69aa44c",
   "metadata": {},
   "outputs": [],
   "source": [
    "m4 = Sequential()\n",
    "m4.add(Embedding(total_word_num, embedding_len, input_length = max_sentence_num))\n",
    "m4.add(Bidirectional(LSTM(neuron_num, dropout = d_out, return_sequences = True)))\n",
    "m4.add(Bidirectional(LSTM(neuron_num // 2, dropout = d_out)))\n",
    "m4.add(Dense(neuron_num, activation = 'relu'))\n",
    "m4.add(Dropout(d_out))\n",
    "m4.add(BatchNormalization())\n",
    "m4.add(Dense(neuron_num // 2, activation = 'relu'))\n",
    "m4.add(Dropout(d_out))\n",
    "m4.add(BatchNormalization())\n",
    "m4.add(Dense(1, activation = 'sigmoid'))\n",
    "m4.compile(optimizer = Adam(lr), loss = tf.losses.BinaryCrossentropy(), metrics = ['acc'])"
   ]
  },
  {
   "cell_type": "code",
   "execution_count": 22,
   "id": "186579c7",
   "metadata": {},
   "outputs": [
    {
     "name": "stdout",
     "output_type": "stream",
     "text": [
      "Epoch 1/50\n",
      "106/106 [==============================] - 178s 2s/step - loss: 0.7774 - acc: 0.5345 - val_loss: 0.5928 - val_acc: 0.6914\n",
      "Epoch 2/50\n",
      "106/106 [==============================] - 176s 2s/step - loss: 0.4432 - acc: 0.7956 - val_loss: 0.4768 - val_acc: 0.8083\n",
      "Epoch 3/50\n",
      "106/106 [==============================] - 134s 1s/step - loss: 0.3484 - acc: 0.8487 - val_loss: 0.4075 - val_acc: 0.8202\n",
      "Epoch 4/50\n",
      "106/106 [==============================] - 145s 1s/step - loss: 0.3135 - acc: 0.8697 - val_loss: 0.4092 - val_acc: 0.8148\n",
      "Epoch 5/50\n",
      "106/106 [==============================] - 161s 2s/step - loss: 0.2876 - acc: 0.8817 - val_loss: 0.4676 - val_acc: 0.7975\n",
      "Epoch 6/50\n",
      "106/106 [==============================] - 157s 1s/step - loss: 0.2610 - acc: 0.8954 - val_loss: 0.4999 - val_acc: 0.7938\n"
     ]
    }
   ],
   "source": [
    "hy4 = m4.fit(t_x, t_y, epochs = ec, batch_size = batch_size, validation_data = (v_x, v_y), callbacks = [ck4, es])"
   ]
  },
  {
   "cell_type": "code",
   "execution_count": 26,
   "id": "e75824ef",
   "metadata": {},
   "outputs": [
    {
     "data": {
      "image/png": "[encoded data removed]",
      "text/plain": [
       "<Figure size 432x288 with 1 Axes>"
      ]
     },
     "metadata": {
      "needs_background": "light"
     },
     "output_type": "display_data"
    },
    {
     "data": {
      "image/png": "[encoded data removed]",
      "text/plain": [
       "<Figure size 432x288 with 1 Axes>"
      ]
     },
     "metadata": {
      "needs_background": "light"
     },
     "output_type": "display_data"
    },
    {
     "data": {
      "image/png": "[encoded data removed]",
      "text/plain": [
       "<Figure size 432x288 with 1 Axes>"
      ]
     },
     "metadata": {
      "needs_background": "light"
     },
     "output_type": "display_data"
    },
    {
     "data": {
      "image/png": "[encoded data removed]",
      "text/plain": [
       "<Figure size 432x288 with 1 Axes>"
      ]
     },
     "metadata": {
      "needs_background": "light"
     },
     "output_type": "display_data"
    }
   ],
   "source": [
    "plt.plot(hy1.history['loss'])\n",
    "plt.plot(hy1.history['val_loss'])\n",
    "plt.show()\n",
    "\n",
    "plt.plot(hy2.history['loss'])\n",
    "plt.plot(hy2.history['val_loss'])\n",
    "plt.show()\n",
    "\n",
    "plt.plot(hy3.history['loss'])\n",
    "plt.plot(hy3.history['val_loss'])\n",
    "plt.show()\n",
    "\n",
    "plt.plot(hy4.history['loss'])\n",
    "plt.plot(hy4.history['val_loss'])\n",
    "plt.show()"
   ]
  },
  {
   "cell_type": "code",
   "execution_count": 27,
   "id": "c18a89d4",
   "metadata": {},
   "outputs": [
    {
     "name": "stdout",
     "output_type": "stream",
     "text": [
      "454/454 [==============================] - 6s 14ms/step - loss: 0.6930 - acc: 0.5141\n",
      "454/454 [==============================] - 18s 39ms/step - loss: 0.4225 - acc: 0.8079\n",
      "454/454 [==============================] - 14s 31ms/step - loss: 0.4086 - acc: 0.8176\n",
      "454/454 [==============================] - 30s 65ms/step - loss: 0.4091 - acc: 0.8126\n"
     ]
    },
    {
     "data": {
      "text/plain": [
       "([0.6930306553840637, 0.5140888690948486],\n",
       " [0.4225326478481293, 0.8079228401184082],\n",
       " [0.4085666239261627, 0.8175680041313171],\n",
       " [0.4090856611728668, 0.8126076459884644])"
      ]
     },
     "execution_count": 27,
     "metadata": {},
     "output_type": "execute_result"
    }
   ],
   "source": [
    "m1.evaluate(tt_x, tt_y), m2.evaluate(tt_x, tt_y), m3.evaluate(tt_x, tt_y), m4.evaluate(tt_x, tt_y)"
   ]
  }
 ],
 "metadata": {
  "kernelspec": {
   "display_name": "Python 3 (ipykernel)",
   "language": "python",
   "name": "python3"
  },
  "language_info": {
   "codemirror_mode": {
    "name": "ipython",
    "version": 3
   },
   "file_extension": ".py",
   "mimetype": "text/x-python",
   "name": "python",
   "nbconvert_exporter": "python",
   "pygments_lexer": "ipython3",
   "version": "3.9.7"
  }
 },
 "nbformat": 4,
 "nbformat_minor": 5
}
